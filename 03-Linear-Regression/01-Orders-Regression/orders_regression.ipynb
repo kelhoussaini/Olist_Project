{
 "cells": [
  {
   "cell_type": "markdown",
   "metadata": {},
   "source": [
    "# Orders - Multivariate Regression of review_score"
   ]
  },
  {
   "cell_type": "code",
   "execution_count": 2,
   "metadata": {},
   "outputs": [],
   "source": [
    "%load_ext autoreload\n",
    "%autoreload 2"
   ]
  },
  {
   "cell_type": "code",
   "execution_count": 3,
   "metadata": {},
   "outputs": [],
   "source": [
    "# import modules \n",
    "import pandas as pd\n",
    "import numpy as np \n",
    "import seaborn as sns\n",
    "import matplotlib.pyplot as plt"
   ]
  },
  {
   "cell_type": "code",
   "execution_count": 34,
   "metadata": {
    "scrolled": true
   },
   "outputs": [],
   "source": [
    "''' You can download the solution for yesterday's optional distance_seller_customer function from Kitt \n",
    "and paste it into your olist/orders.py file, if you weren't able to complete it '''\n",
    "# import orders dataset\n",
    "from olist.order import Order\n",
    "orders = Order().get_training_data(with_distance_seller_customer=True)"
   ]
  },
  {
   "cell_type": "code",
   "execution_count": 5,
   "metadata": {},
   "outputs": [
    {
     "data": {
      "text/plain": [
       "['sellers',\n",
       " 'product_category_name_translation',\n",
       " 'orders',\n",
       " 'order_items',\n",
       " 'customers',\n",
       " 'geolocation',\n",
       " 'order_payments',\n",
       " 'order_reviews',\n",
       " 'products']"
      ]
     },
     "execution_count": 5,
     "metadata": {},
     "output_type": "execute_result"
    }
   ],
   "source": [
    "# I still need to understand tables \n",
    "# so I will import data.py to see matching tables\n",
    "# Import olist data\n",
    "from olist.data import Olist\n",
    "olist=Olist()\n",
    "data=olist.get_data()  ## is dict\n",
    "matching_table = olist.get_matching_table()\n",
    "list(data.keys())"
   ]
  },
  {
   "cell_type": "code",
   "execution_count": 6,
   "metadata": {},
   "outputs": [
    {
     "data": {
      "text/plain": [
       "pandas.core.frame.DataFrame"
      ]
     },
     "execution_count": 6,
     "metadata": {},
     "output_type": "execute_result"
    }
   ],
   "source": [
    "type(list( data.values() )[0] ) ## sellers"
   ]
  },
  {
   "cell_type": "code",
   "execution_count": 7,
   "metadata": {},
   "outputs": [
    {
     "data": {
      "text/html": [
       "<div>\n",
       "<style scoped>\n",
       "    .dataframe tbody tr th:only-of-type {\n",
       "        vertical-align: middle;\n",
       "    }\n",
       "\n",
       "    .dataframe tbody tr th {\n",
       "        vertical-align: top;\n",
       "    }\n",
       "\n",
       "    .dataframe thead th {\n",
       "        text-align: right;\n",
       "    }\n",
       "</style>\n",
       "<table border=\"1\" class=\"dataframe\">\n",
       "  <thead>\n",
       "    <tr style=\"text-align: right;\">\n",
       "      <th></th>\n",
       "      <th>seller_id</th>\n",
       "      <th>seller_zip_code_prefix</th>\n",
       "      <th>seller_city</th>\n",
       "      <th>seller_state</th>\n",
       "    </tr>\n",
       "  </thead>\n",
       "  <tbody>\n",
       "    <tr>\n",
       "      <th>0</th>\n",
       "      <td>3442f8959a84dea7ee197c632cb2df15</td>\n",
       "      <td>13023</td>\n",
       "      <td>campinas</td>\n",
       "      <td>SP</td>\n",
       "    </tr>\n",
       "  </tbody>\n",
       "</table>\n",
       "</div>"
      ],
      "text/plain": [
       "                          seller_id  seller_zip_code_prefix seller_city  \\\n",
       "0  3442f8959a84dea7ee197c632cb2df15                   13023    campinas   \n",
       "\n",
       "  seller_state  \n",
       "0           SP  "
      ]
     },
     "execution_count": 7,
     "metadata": {},
     "output_type": "execute_result"
    }
   ],
   "source": [
    "list( data.values() )[0] .head(1)"
   ]
  },
  {
   "cell_type": "code",
   "execution_count": 8,
   "metadata": {},
   "outputs": [
    {
     "name": "stdout",
     "output_type": "stream",
     "text": [
      "(114100, 5)\n"
     ]
    },
    {
     "data": {
      "text/html": [
       "<div>\n",
       "<style scoped>\n",
       "    .dataframe tbody tr th:only-of-type {\n",
       "        vertical-align: middle;\n",
       "    }\n",
       "\n",
       "    .dataframe tbody tr th {\n",
       "        vertical-align: top;\n",
       "    }\n",
       "\n",
       "    .dataframe thead th {\n",
       "        text-align: right;\n",
       "    }\n",
       "</style>\n",
       "<table border=\"1\" class=\"dataframe\">\n",
       "  <thead>\n",
       "    <tr style=\"text-align: right;\">\n",
       "      <th></th>\n",
       "      <th>customer_id</th>\n",
       "      <th>order_id</th>\n",
       "      <th>review_id</th>\n",
       "      <th>product_id</th>\n",
       "      <th>seller_id</th>\n",
       "    </tr>\n",
       "  </thead>\n",
       "  <tbody>\n",
       "    <tr>\n",
       "      <th>0</th>\n",
       "      <td>9ef432eb6251297304e76186b10a928d</td>\n",
       "      <td>e481f51cbdc54678b7cc49136f2d6af7</td>\n",
       "      <td>a54f0611adc9ed256b57ede6b6eb5114</td>\n",
       "      <td>87285b34884572647811a353c7ac498a</td>\n",
       "      <td>3504c0cb71d7fa48d967e0e4c94d59d9</td>\n",
       "    </tr>\n",
       "    <tr>\n",
       "      <th>1</th>\n",
       "      <td>b0830fb4747a6c6d20dea0b8c802d7ef</td>\n",
       "      <td>53cdb2fc8bc7dce0b6741e2150273451</td>\n",
       "      <td>8d5266042046a06655c8db133d120ba5</td>\n",
       "      <td>595fac2a385ac33a80bd5114aec74eb8</td>\n",
       "      <td>289cdb325fb7e7f891c38608bf9e0962</td>\n",
       "    </tr>\n",
       "  </tbody>\n",
       "</table>\n",
       "</div>"
      ],
      "text/plain": [
       "                        customer_id                          order_id  \\\n",
       "0  9ef432eb6251297304e76186b10a928d  e481f51cbdc54678b7cc49136f2d6af7   \n",
       "1  b0830fb4747a6c6d20dea0b8c802d7ef  53cdb2fc8bc7dce0b6741e2150273451   \n",
       "\n",
       "                          review_id                        product_id  \\\n",
       "0  a54f0611adc9ed256b57ede6b6eb5114  87285b34884572647811a353c7ac498a   \n",
       "1  8d5266042046a06655c8db133d120ba5  595fac2a385ac33a80bd5114aec74eb8   \n",
       "\n",
       "                          seller_id  \n",
       "0  3504c0cb71d7fa48d967e0e4c94d59d9  \n",
       "1  289cdb325fb7e7f891c38608bf9e0962  "
      ]
     },
     "execution_count": 8,
     "metadata": {},
     "output_type": "execute_result"
    }
   ],
   "source": [
    "print(matching_table.shape) # we merge \n",
    "#orders = data[\"orders\"][[\"customer_id\", \"order_id\"]]\n",
    "#reviews = data[\"order_reviews\"][[\"order_id\", \"review_id\"]]\n",
    "#items = data[\"order_items\"][[\"order_id\", \"product_id\", \"seller_id\"]]\n",
    "# on=\"order_id\", how=\"outer\"\n",
    "\n",
    "matching_table.head(2)"
   ]
  },
  {
   "cell_type": "code",
   "execution_count": 9,
   "metadata": {},
   "outputs": [
    {
     "name": "stdout",
     "output_type": "stream",
     "text": [
      "(96525, 13)\n"
     ]
    },
    {
     "data": {
      "text/html": [
       "<div>\n",
       "<style scoped>\n",
       "    .dataframe tbody tr th:only-of-type {\n",
       "        vertical-align: middle;\n",
       "    }\n",
       "\n",
       "    .dataframe tbody tr th {\n",
       "        vertical-align: top;\n",
       "    }\n",
       "\n",
       "    .dataframe thead th {\n",
       "        text-align: right;\n",
       "    }\n",
       "</style>\n",
       "<table border=\"1\" class=\"dataframe\">\n",
       "  <thead>\n",
       "    <tr style=\"text-align: right;\">\n",
       "      <th></th>\n",
       "      <th>order_id</th>\n",
       "      <th>wait_time</th>\n",
       "      <th>expected_wait_time</th>\n",
       "      <th>delay_vs_expected</th>\n",
       "      <th>order_status</th>\n",
       "      <th>dim_is_five_star</th>\n",
       "      <th>dim_is_one_star</th>\n",
       "      <th>review_score</th>\n",
       "      <th>number_of_products</th>\n",
       "      <th>number_of_sellers</th>\n",
       "      <th>price</th>\n",
       "      <th>freight_value</th>\n",
       "      <th>distance_seller_customer</th>\n",
       "    </tr>\n",
       "  </thead>\n",
       "  <tbody>\n",
       "    <tr>\n",
       "      <th>0</th>\n",
       "      <td>e481f51cbdc54678b7cc49136f2d6af7</td>\n",
       "      <td>8.436574</td>\n",
       "      <td>15.544063</td>\n",
       "      <td>0.0</td>\n",
       "      <td>delivered</td>\n",
       "      <td>0</td>\n",
       "      <td>0</td>\n",
       "      <td>4</td>\n",
       "      <td>1</td>\n",
       "      <td>1</td>\n",
       "      <td>29.99</td>\n",
       "      <td>8.72</td>\n",
       "      <td>18.063837</td>\n",
       "    </tr>\n",
       "    <tr>\n",
       "      <th>1</th>\n",
       "      <td>53cdb2fc8bc7dce0b6741e2150273451</td>\n",
       "      <td>13.782037</td>\n",
       "      <td>19.137766</td>\n",
       "      <td>0.0</td>\n",
       "      <td>delivered</td>\n",
       "      <td>0</td>\n",
       "      <td>0</td>\n",
       "      <td>4</td>\n",
       "      <td>1</td>\n",
       "      <td>1</td>\n",
       "      <td>118.70</td>\n",
       "      <td>22.76</td>\n",
       "      <td>856.292580</td>\n",
       "    </tr>\n",
       "  </tbody>\n",
       "</table>\n",
       "</div>"
      ],
      "text/plain": [
       "                           order_id  wait_time  expected_wait_time  \\\n",
       "0  e481f51cbdc54678b7cc49136f2d6af7   8.436574           15.544063   \n",
       "1  53cdb2fc8bc7dce0b6741e2150273451  13.782037           19.137766   \n",
       "\n",
       "   delay_vs_expected order_status  dim_is_five_star  dim_is_one_star  \\\n",
       "0                0.0    delivered                 0                0   \n",
       "1                0.0    delivered                 0                0   \n",
       "\n",
       "   review_score  number_of_products  number_of_sellers   price  freight_value  \\\n",
       "0             4                   1                  1   29.99           8.72   \n",
       "1             4                   1                  1  118.70          22.76   \n",
       "\n",
       "   distance_seller_customer  \n",
       "0                 18.063837  \n",
       "1                856.292580  "
      ]
     },
     "execution_count": 9,
     "metadata": {},
     "output_type": "execute_result"
    }
   ],
   "source": [
    "# import orders dataset\n",
    "#from olist.order import Order\n",
    "#orders = Order().get_training_data(with_distance_seller_customer=True)\n",
    "print(orders.shape)\n",
    "orders.head(2)"
   ]
  },
  {
   "cell_type": "code",
   "execution_count": 10,
   "metadata": {},
   "outputs": [],
   "source": [
    "#orders = Order().get_training_data(with_distance_seller_customer=True)\n",
    "\n",
    "    #        self.get_wait_time(is_delivered)\\\n",
    "   #             .merge(\n",
    "   #             self.get_review_score(), on='order_id'\n",
    "   #            ).merge(\n",
    "  #              self.get_number_products(), on='order_id'\n",
    "  #             ).merge(\n",
    "     #           self.get_number_sellers(), on='order_id'\n",
    "        #       ).merge(\n",
    "  #              self.get_price_and_freight(), on='order_id'\n",
    "    #           )\n",
    "        # Skip heavy computation of distance_seller_customer unless specified\n",
    "    #    if with_distance_seller_customer:\n",
    "  #          training_set = training_set.merge(\n",
    "    #            self.get_distance_seller_customer(), on='order_id')\n"
   ]
  },
  {
   "cell_type": "code",
   "execution_count": 11,
   "metadata": {},
   "outputs": [
    {
     "name": "stdout",
     "output_type": "stream",
     "text": [
      "13\n"
     ]
    },
    {
     "data": {
      "text/plain": [
       "Index(['order_id', 'wait_time', 'expected_wait_time', 'delay_vs_expected',\n",
       "       'order_status', 'dim_is_five_star', 'dim_is_one_star', 'review_score',\n",
       "       'number_of_products', 'number_of_sellers', 'price', 'freight_value',\n",
       "       'distance_seller_customer'],\n",
       "      dtype='object')"
      ]
     },
     "execution_count": 11,
     "metadata": {},
     "output_type": "execute_result"
    }
   ],
   "source": [
    "print(len(orders.columns))\n",
    "orders.columns"
   ]
  },
  {
   "cell_type": "code",
   "execution_count": 12,
   "metadata": {},
   "outputs": [
    {
     "name": "stdout",
     "output_type": "stream",
     "text": [
      "<class 'pandas.core.frame.DataFrame'>\n",
      "Int64Index: 96525 entries, 0 to 96532\n",
      "Data columns (total 13 columns):\n",
      " #   Column                    Non-Null Count  Dtype  \n",
      "---  ------                    --------------  -----  \n",
      " 0   order_id                  96525 non-null  object \n",
      " 1   wait_time                 96525 non-null  float64\n",
      " 2   expected_wait_time        96525 non-null  float64\n",
      " 3   delay_vs_expected         96525 non-null  float64\n",
      " 4   order_status              96525 non-null  object \n",
      " 5   dim_is_five_star          96525 non-null  int64  \n",
      " 6   dim_is_one_star           96525 non-null  int64  \n",
      " 7   review_score              96525 non-null  int64  \n",
      " 8   number_of_products        96525 non-null  int64  \n",
      " 9   number_of_sellers         96525 non-null  int64  \n",
      " 10  price                     96525 non-null  float64\n",
      " 11  freight_value             96525 non-null  float64\n",
      " 12  distance_seller_customer  96525 non-null  float64\n",
      "dtypes: float64(6), int64(5), object(2)\n",
      "memory usage: 10.3+ MB\n"
     ]
    }
   ],
   "source": [
    "orders.info()"
   ]
  },
  {
   "cell_type": "markdown",
   "metadata": {},
   "source": [
    "Let's recall our simple analysis from yesterday's exercise: \n",
    "\n",
    "Based on our correlation matrix below, we notice that `review_score` is mostly correlated with the two features `wait_time` and `delay_vs_expected`. However, these two features are also highly correlated with each other. In this exercise, we will use `statsmodels` to distinguish the effect of one feature, **holding the other one constant**."
   ]
  },
  {
   "cell_type": "code",
   "execution_count": 13,
   "metadata": {},
   "outputs": [
    {
     "data": {
      "text/plain": [
       "<AxesSubplot:>"
      ]
     },
     "execution_count": 13,
     "metadata": {},
     "output_type": "execute_result"
    },
    {
     "data": {
      "image/png": "[encoded data removed]",
      "text/plain": [
       "<Figure size 432x288 with 2 Axes>"
      ]
     },
     "metadata": {
      "needs_background": "light"
     },
     "output_type": "display_data"
    }
   ],
   "source": [
    "sns.heatmap(orders.corr(), cmap='coolwarm')"
   ]
  },
  {
   "cell_type": "code",
   "execution_count": 14,
   "metadata": {},
   "outputs": [
    {
     "data": {
      "text/plain": [
       "(0.0, 5.932101750136774)"
      ]
     },
     "execution_count": 14,
     "metadata": {},
     "output_type": "execute_result"
    },
    {
     "data": {
      "image/png": "[encoded data removed]",
      "text/plain": [
       "<Figure size 936x360 with 2 Axes>"
      ]
     },
     "metadata": {
      "needs_background": "light"
     },
     "output_type": "display_data"
    }
   ],
   "source": [
    "sample = orders.sample(10000, random_state=42)\n",
    "plt.figure(figsize=(13,5))\n",
    "plt.suptitle('Regression of review_score, 95% confidence interval')\n",
    "plt.subplot(1,2,1)\n",
    "sns.regplot(x = sample.wait_time, y= sample.review_score, y_jitter=.1, ci=95)\n",
    "plt.xlim(right=70)\n",
    "plt.ylim(bottom=0)\n",
    "\n",
    "plt.subplot(1,2,2)\n",
    "sns.regplot(x = orders.delay_vs_expected, y= orders.review_score, y_jitter=.1, ci=95)\n",
    "plt.xlim(right=70)\n",
    "plt.ylim(bottom=0)"
   ]
  },
  {
   "cell_type": "markdown",
   "metadata": {},
   "source": [
    "## 1 - Univariate regression"
   ]
  },
  {
   "cell_type": "markdown",
   "metadata": {},
   "source": [
    "❓Use [statsmodels](https://www.statsmodels.org/stable/generated/statsmodels.formula.api.ols.html) with `statsmodels.formula.api` to quickly make\n",
    " - `model1`: an ols regression of `review_score` over `wait_time`\n",
    " - `model2`: an ols regression of `review_score` over `delay_vs_expected`\n",
    "\n",
    "For each, Print the `summary` table and interpret the results:\n",
    "- Make sure to understand how these results match those of the seaborn regplot\n",
    "- Read the regression performance metric R-squared, as well as individual regression coefficients, t-values, p-values, and 95% confidence intervals"
   ]
  },
  {
   "cell_type": "code",
   "execution_count": 15,
   "metadata": {},
   "outputs": [],
   "source": [
    "import statsmodels.formula.api as smf"
   ]
  },
  {
   "cell_type": "code",
   "execution_count": 16,
   "metadata": {},
   "outputs": [
    {
     "name": "stdout",
     "output_type": "stream",
     "text": [
      "                            OLS Regression Results                            \n",
      "==============================================================================\n",
      "Dep. Variable:           review_score   R-squared:                       0.112\n",
      "Model:                            OLS   Adj. R-squared:                  0.112\n",
      "Method:                 Least Squares   F-statistic:                 1.221e+04\n",
      "Date:                Wed, 21 Jul 2021   Prob (F-statistic):               0.00\n",
      "Time:                        23:24:50   Log-Likelihood:            -1.5630e+05\n",
      "No. Observations:               96525   AIC:                         3.126e+05\n",
      "Df Residuals:                   96523   BIC:                         3.126e+05\n",
      "Df Model:                           1                                         \n",
      "Covariance Type:            nonrobust                                         \n",
      "==============================================================================\n",
      "                 coef    std err          t      P>|t|      [0.025      0.975]\n",
      "------------------------------------------------------------------------------\n",
      "Intercept      4.7138      0.006    725.216      0.000       4.701       4.727\n",
      "wait_time     -0.0455      0.000   -110.491      0.000      -0.046      -0.045\n",
      "==============================================================================\n",
      "Omnibus:                    19154.322   Durbin-Watson:                   2.008\n",
      "Prob(Omnibus):                  0.000   Jarque-Bera (JB):            34021.979\n",
      "Skew:                          -1.282   Prob(JB):                         0.00\n",
      "Kurtosis:                       4.374   Cond. No.                         26.1\n",
      "==============================================================================\n",
      "\n",
      "Notes:\n",
      "[1] Standard Errors assume that the covariance matrix of the errors is correctly specified.\n"
     ]
    }
   ],
   "source": [
    "# YOUR CODE HERE\n",
    "model1 = smf.ols(\" review_score ~ wait_time\", data=orders).fit()\n",
    "print(model1.summary())"
   ]
  },
  {
   "cell_type": "code",
   "execution_count": 17,
   "metadata": {},
   "outputs": [
    {
     "name": "stdout",
     "output_type": "stream",
     "text": [
      "                            OLS Regression Results                            \n",
      "==============================================================================\n",
      "Dep. Variable:           review_score   R-squared:                       0.074\n",
      "Model:                            OLS   Adj. R-squared:                  0.074\n",
      "Method:                 Least Squares   F-statistic:                     7710.\n",
      "Date:                Wed, 21 Jul 2021   Prob (F-statistic):               0.00\n",
      "Time:                        23:24:50   Log-Likelihood:            -1.5834e+05\n",
      "No. Observations:               96525   AIC:                         3.167e+05\n",
      "Df Residuals:                   96523   BIC:                         3.167e+05\n",
      "Df Model:                           1                                         \n",
      "Covariance Type:            nonrobust                                         \n",
      "=====================================================================================\n",
      "                        coef    std err          t      P>|t|      [0.025      0.975]\n",
      "-------------------------------------------------------------------------------------\n",
      "Intercept             4.1994      0.004   1031.948      0.000       4.191       4.207\n",
      "delay_vs_expected    -0.0743      0.001    -87.804      0.000      -0.076      -0.073\n",
      "==============================================================================\n",
      "Omnibus:                    20173.558   Durbin-Watson:                   2.005\n",
      "Prob(Omnibus):                  0.000   Jarque-Bera (JB):            46131.563\n",
      "Skew:                          -1.191   Prob(JB):                         0.00\n",
      "Kurtosis:                       5.408   Cond. No.                         4.88\n",
      "==============================================================================\n",
      "\n",
      "Notes:\n",
      "[1] Standard Errors assume that the covariance matrix of the errors is correctly specified.\n"
     ]
    }
   ],
   "source": [
    "# YOUR CODE HERE\n",
    "model2 = smf.ols(\" review_score ~ delay_vs_expected\", data=orders).fit()\n",
    "print(model2.summary())"
   ]
  },
  {
   "cell_type": "code",
   "execution_count": 18,
   "metadata": {},
   "outputs": [
    {
     "name": "stdout",
     "output_type": "stream",
     "text": [
      "Coeficiente de correlación de Pearson:  0.7073287841106308\n",
      "P-value:  0.0\n"
     ]
    }
   ],
   "source": [
    "from scipy.stats import pearsonr\n",
    "\n",
    "# Correlación lineal entre las dos variables\n",
    "# ==============================================================================\n",
    "corr_test = pearsonr(x = orders['wait_time'], y =  orders['delay_vs_expected'])\n",
    "print(\"Coeficiente de correlación de Pearson: \", corr_test[0])\n",
    "print(\"P-value: \", corr_test[1])\n"
   ]
  },
  {
   "cell_type": "markdown",
   "metadata": {},
   "source": [
    "## 2 - Multivariate regression"
   ]
  },
  {
   "cell_type": "markdown",
   "metadata": {},
   "source": [
    "❓ What is the impact on `review_score` of adding one day of `delay_vs_expected` to the order, **holding `wait_time` constant**? Which of the two features is the most explicative for the low `review_score`?\n",
    "\n",
    "For that purpose, run an OLS model `model3` where both `wait_time` and `delay_vs_expected` are the features (independent variables), and `review_score` is the target (dependent variable)"
   ]
  },
  {
   "cell_type": "code",
   "execution_count": 19,
   "metadata": {},
   "outputs": [],
   "source": [
    "import statsmodels.api as sm"
   ]
  },
  {
   "cell_type": "code",
   "execution_count": 20,
   "metadata": {},
   "outputs": [
    {
     "name": "stdout",
     "output_type": "stream",
     "text": [
      "                            OLS Regression Results                            \n",
      "==============================================================================\n",
      "Dep. Variable:           review_score   R-squared:                       0.115\n",
      "Model:                            OLS   Adj. R-squared:                  0.115\n",
      "Method:                 Least Squares   F-statistic:                     6254.\n",
      "Date:                Wed, 21 Jul 2021   Prob (F-statistic):               0.00\n",
      "Time:                        23:24:52   Log-Likelihood:            -1.5616e+05\n",
      "No. Observations:               96525   AIC:                         3.123e+05\n",
      "Df Residuals:                   96522   BIC:                         3.124e+05\n",
      "Df Model:                           2                                         \n",
      "Covariance Type:            nonrobust                                         \n",
      "=====================================================================================\n",
      "                        coef    std err          t      P>|t|      [0.025      0.975]\n",
      "-------------------------------------------------------------------------------------\n",
      "Intercept             4.6442      0.008    597.865      0.000       4.629       4.659\n",
      "wait_time            -0.0388      0.001    -66.663      0.000      -0.040      -0.038\n",
      "delay_vs_expected    -0.0191      0.001    -16.327      0.000      -0.021      -0.017\n",
      "==============================================================================\n",
      "Omnibus:                    19551.916   Durbin-Watson:                   2.008\n",
      "Prob(Omnibus):                  0.000   Jarque-Bera (JB):            38151.081\n",
      "Skew:                          -1.235   Prob(JB):                         0.00\n",
      "Kurtosis:                       4.839   Cond. No.                         31.9\n",
      "==============================================================================\n",
      "\n",
      "Notes:\n",
      "[1] Standard Errors assume that the covariance matrix of the errors is correctly specified.\n"
     ]
    }
   ],
   "source": [
    "# YOUR CODE HERE\n",
    "model3 = smf.ols(\" review_score ~ wait_time + delay_vs_expected\", data=orders).fit()\n",
    "print(model3.summary())"
   ]
  },
  {
   "cell_type": "markdown",
   "metadata": {},
   "source": [
    "$R^2$ is basically how well the model explains the data.\n",
    "A value of 1.0 means that the variance in the y-values are 100% explained by the X-values.\n",
    "A negative 𝑅² value means that using the average value of y is a better predictor than the regression model.\n",
    "𝑅² is also just the square term of the correlation coefficient 𝑅.\n",
    "\n",
    "\n",
    "model1  : $R^2 = 0.112$\n",
    "model2  : $R^2 = 0.074$\n",
    "model3  : $R^2 = 0.1147$"
   ]
  },
  {
   "cell_type": "code",
   "execution_count": 21,
   "metadata": {},
   "outputs": [
    {
     "data": {
      "text/plain": [
       "0.11472466333201459"
      ]
     },
     "execution_count": 21,
     "metadata": {},
     "output_type": "execute_result"
    }
   ],
   "source": [
    "model3.rsquared"
   ]
  },
  {
   "cell_type": "code",
   "execution_count": 22,
   "metadata": {},
   "outputs": [
    {
     "data": {
      "text/html": [
       "<div>\n",
       "<style scoped>\n",
       "    .dataframe tbody tr th:only-of-type {\n",
       "        vertical-align: middle;\n",
       "    }\n",
       "\n",
       "    .dataframe tbody tr th {\n",
       "        vertical-align: top;\n",
       "    }\n",
       "\n",
       "    .dataframe thead th {\n",
       "        text-align: right;\n",
       "    }\n",
       "</style>\n",
       "<table border=\"1\" class=\"dataframe\">\n",
       "  <thead>\n",
       "    <tr style=\"text-align: right;\">\n",
       "      <th></th>\n",
       "      <th>Coef.</th>\n",
       "      <th>Std.Err.</th>\n",
       "      <th>t</th>\n",
       "      <th>P&gt;|t|</th>\n",
       "      <th>[0.025</th>\n",
       "      <th>0.975]</th>\n",
       "    </tr>\n",
       "  </thead>\n",
       "  <tbody>\n",
       "    <tr>\n",
       "      <th>Intercept</th>\n",
       "      <td>4.644161</td>\n",
       "      <td>0.007768</td>\n",
       "      <td>597.864824</td>\n",
       "      <td>0.000000e+00</td>\n",
       "      <td>4.628936</td>\n",
       "      <td>4.659386</td>\n",
       "    </tr>\n",
       "    <tr>\n",
       "      <th>wait_time</th>\n",
       "      <td>-0.038820</td>\n",
       "      <td>0.000582</td>\n",
       "      <td>-66.663369</td>\n",
       "      <td>0.000000e+00</td>\n",
       "      <td>-0.039961</td>\n",
       "      <td>-0.037678</td>\n",
       "    </tr>\n",
       "    <tr>\n",
       "      <th>delay_vs_expected</th>\n",
       "      <td>-0.019103</td>\n",
       "      <td>0.001170</td>\n",
       "      <td>-16.327063</td>\n",
       "      <td>7.624532e-60</td>\n",
       "      <td>-0.021396</td>\n",
       "      <td>-0.016809</td>\n",
       "    </tr>\n",
       "  </tbody>\n",
       "</table>\n",
       "</div>"
      ],
      "text/plain": [
       "                      Coef.  Std.Err.           t         P>|t|    [0.025  \\\n",
       "Intercept          4.644161  0.007768  597.864824  0.000000e+00  4.628936   \n",
       "wait_time         -0.038820  0.000582  -66.663369  0.000000e+00 -0.039961   \n",
       "delay_vs_expected -0.019103  0.001170  -16.327063  7.624532e-60 -0.021396   \n",
       "\n",
       "                     0.975]  \n",
       "Intercept          4.659386  \n",
       "wait_time         -0.037678  \n",
       "delay_vs_expected -0.016809  "
      ]
     },
     "execution_count": 22,
     "metadata": {},
     "output_type": "execute_result"
    }
   ],
   "source": [
    "model3.summary2().tables[1]"
   ]
  },
  {
   "cell_type": "markdown",
   "metadata": {},
   "source": [
    "The Coef. column represent the value of the Beta Coefficients. "
   ]
  },
  {
   "cell_type": "markdown",
   "metadata": {},
   "source": [
    "----\n",
    "❓Our multivariate regression allows us to isolate the impact of one feature, while controlling the effect of other features. These new coefficients are called **partial correlation** coefficients. Can you notice the difference with the **simple regression** coeffients computed with seaborn above? What can you say about the relative slopes for `wait_time` and `delay_vs_expected`? \n"
   ]
  },
  {
   "cell_type": "code",
   "execution_count": 44,
   "metadata": {},
   "outputs": [
    {
     "data": {
      "image/png": "[encoded data removed]",
      "text/plain": [
       "<Figure size 720x432 with 3 Axes>"
      ]
     },
     "metadata": {
      "needs_background": "light"
     },
     "output_type": "display_data"
    }
   ],
   "source": [
    "fig = plt.figure(figsize=(10,6))\n",
    "fig = sm.graphics.plot_partregress_grid(model3, fig=fig)"
   ]
  },
  {
   "cell_type": "markdown",
   "metadata": {},
   "source": [
    "<details>\n",
    "    <summary>💡 Solution</summary>\n",
    "\n",
    "- Holding `wait_time` constant, each additional day of `delay` reduces the review_score on average by 0.0191 [0.017 - 0.21] points\n",
    "- Holding `delay` constant, each additional day of `wait_time` reduces the review_score on average by 0.0388 points \n",
    "\n",
    "Contrary to what was found with the simple bivariate correlation analysis, `delay` is actually less impactful than `wait_time` in driving lower `review_score`! This interesting finding demonstrates the importance of multi-variate regression to remove the potential impact of confounding factors"
   ]
  },
  {
   "cell_type": "markdown",
   "metadata": {},
   "source": [
    "---\n",
    "❓ R-squared is quite low: no more than 12% of the variation of review_score is explained by the combined variations of `wait_time` and `delay_vs_expected`. Let's try to add more features to our regression to improve explainability.\n",
    "\n",
    "- Create a new OLS `model4` with more features from `orders` dataset.\n",
    "    - Do not create **data leaks**: do not add features that are directly derived from the `review_score`\n",
    "    - Do not add two features perfectly colinear with each other\n",
    "    - Transform each feature $X_i$ into its respective z-score $Z_i = \\frac{X_i - \\mu_i}{\\sigma_i}$ in order to compare the partial regression coefficients $\\beta_i$ together. Otherwise, the $\\beta_i$ are not of the same dimension, meaning you'll be comparing apples (e.g. \"review_stars per day\") with oranges (e.g. \"review_stars per BRL\")!"
   ]
  },
  {
   "cell_type": "code",
   "execution_count": 95,
   "metadata": {},
   "outputs": [
    {
     "name": "stdout",
     "output_type": "stream",
     "text": [
      "10\n"
     ]
    },
    {
     "data": {
      "text/plain": [
       "['order_id',\n",
       " 'wait_time',\n",
       " 'expected_wait_time',\n",
       " 'delay_vs_expected',\n",
       " 'order_status',\n",
       " 'dim_is_five_star',\n",
       " 'dim_is_one_star',\n",
       " 'review_score',\n",
       " 'number_of_products',\n",
       " 'number_of_sellers',\n",
       " 'price',\n",
       " 'freight_value',\n",
       " 'distance_seller_customer']"
      ]
     },
     "execution_count": 95,
     "metadata": {},
     "output_type": "execute_result"
    }
   ],
   "source": [
    "print(len(list(orders.columns)) - 3  ) # there are 2 categorical var ; the 3th var is dependent \n",
    "list(orders.columns)"
   ]
  },
  {
   "cell_type": "code",
   "execution_count": 23,
   "metadata": {},
   "outputs": [
    {
     "name": "stdout",
     "output_type": "stream",
     "text": [
      "                            OLS Regression Results                            \n",
      "==============================================================================\n",
      "Dep. Variable:           review_score   R-squared:                       0.122\n",
      "Model:                            OLS   Adj. R-squared:                  0.122\n",
      "Method:                 Least Squares   F-statistic:                     2689.\n",
      "Date:                Wed, 21 Jul 2021   Prob (F-statistic):               0.00\n",
      "Time:                        23:25:01   Log-Likelihood:            -1.5575e+05\n",
      "No. Observations:               96525   AIC:                         3.115e+05\n",
      "Df Residuals:                   96519   BIC:                         3.116e+05\n",
      "Df Model:                           5                                         \n",
      "Covariance Type:            nonrobust                                         \n",
      "======================================================================================\n",
      "                         coef    std err          t      P>|t|      [0.025      0.975]\n",
      "--------------------------------------------------------------------------------------\n",
      "Intercept              4.4830      0.012    388.989      0.000       4.460       4.506\n",
      "wait_time             -0.0459      0.001    -66.464      0.000      -0.047      -0.045\n",
      "delay_vs_expected     -0.0088      0.001     -6.883      0.000      -0.011      -0.006\n",
      "expected_wait_time     0.0134      0.001     25.087      0.000       0.012       0.014\n",
      "freight_value         -0.0033      0.000    -16.180      0.000      -0.004      -0.003\n",
      "price              -3.307e-06   2.05e-05     -0.161      0.872   -4.36e-05     3.7e-05\n",
      "==============================================================================\n",
      "Omnibus:                    19309.640   Durbin-Watson:                   2.008\n",
      "Prob(Omnibus):                  0.000   Jarque-Bera (JB):            36759.266\n",
      "Skew:                          -1.236   Prob(JB):                         0.00\n",
      "Kurtosis:                       4.741   Cond. No.                         740.\n",
      "==============================================================================\n",
      "\n",
      "Notes:\n",
      "[1] Standard Errors assume that the covariance matrix of the errors is correctly specified.\n"
     ]
    }
   ],
   "source": [
    "# Select features\n",
    "# YOUR CODE HERE\n",
    "model4 = smf.ols(\n",
    "\" review_score ~ wait_time \\\n",
    "+ delay_vs_expected + expected_wait_time \\\n",
    "+ freight_value + price \",\n",
    "                 data=orders).fit()\n",
    "print(model4.summary())"
   ]
  },
  {
   "cell_type": "code",
   "execution_count": 24,
   "metadata": {},
   "outputs": [
    {
     "name": "stdout",
     "output_type": "stream",
     "text": [
      "                            OLS Regression Results                            \n",
      "==============================================================================\n",
      "Dep. Variable:           review_score   R-squared:                       0.146\n",
      "Model:                            OLS   Adj. R-squared:                  0.145\n",
      "Method:                 Least Squares   F-statistic:                     2348.\n",
      "Date:                Wed, 21 Jul 2021   Prob (F-statistic):               0.00\n",
      "Time:                        23:25:15   Log-Likelihood:            -1.5446e+05\n",
      "No. Observations:               96525   AIC:                         3.089e+05\n",
      "Df Residuals:                   96517   BIC:                         3.090e+05\n",
      "Df Model:                           7                                         \n",
      "Covariance Type:            nonrobust                                         \n",
      "============================================================================================\n",
      "                               coef    std err          t      P>|t|      [0.025      0.975]\n",
      "--------------------------------------------------------------------------------------------\n",
      "Intercept                    5.9994      0.033    182.258      0.000       5.935       6.064\n",
      "wait_time                   -0.0472      0.001    -71.510      0.000      -0.048      -0.046\n",
      "delay_vs_expected           -0.0095      0.001     -7.777      0.000      -0.012      -0.007\n",
      "freight_value                0.0002      0.000      0.975      0.330      -0.000       0.001\n",
      "price                    -2.108e-05   2.03e-05     -1.038      0.299   -6.09e-05    1.87e-05\n",
      "number_of_sellers           -1.0649      0.033    -32.701      0.000      -1.129      -1.001\n",
      "number_of_products          -0.2451      0.008    -29.314      0.000      -0.261      -0.229\n",
      "distance_seller_customer     0.0002   7.78e-06     21.323      0.000       0.000       0.000\n",
      "==============================================================================\n",
      "Omnibus:                    18337.394   Durbin-Watson:                   2.009\n",
      "Prob(Omnibus):                  0.000   Jarque-Bera (JB):            35597.400\n",
      "Skew:                          -1.163   Prob(JB):                         0.00\n",
      "Kurtosis:                       4.854   Cond. No.                     1.01e+04\n",
      "==============================================================================\n",
      "\n",
      "Notes:\n",
      "[1] Standard Errors assume that the covariance matrix of the errors is correctly specified.\n",
      "[2] The condition number is large, 1.01e+04. This might indicate that there are\n",
      "strong multicollinearity or other numerical problems.\n"
     ]
    }
   ],
   "source": [
    "# Select features\n",
    "# YOUR CODE HERE\n",
    "model4 = smf.ols(\n",
    "\" review_score ~ wait_time \\\n",
    "+ delay_vs_expected  \\\n",
    "+ freight_value + price \\\n",
    " + number_of_sellers + number_of_products \\\n",
    "+ distance_seller_customer\",\n",
    "                 data=orders).fit()\n",
    "print(model4.summary())"
   ]
  },
  {
   "cell_type": "code",
   "execution_count": 97,
   "metadata": {},
   "outputs": [
    {
     "name": "stdout",
     "output_type": "stream",
     "text": [
      "0.16941461412688674\n",
      "0.006352854475605851\n"
     ]
    }
   ],
   "source": [
    "print(smf.ols(\" price ~ freight_value\", data=orders).fit().rsquared)\n",
    "print(smf.ols(\" price ~ distance_seller_customer\", data=orders).fit().rsquared)"
   ]
  },
  {
   "cell_type": "code",
   "execution_count": 25,
   "metadata": {},
   "outputs": [],
   "source": [
    "features = ['wait_time',\n",
    " 'delay_vs_expected',\n",
    " 'number_of_sellers', 'number_of_products',\n",
    " 'price',\n",
    " 'freight_value',\n",
    " 'distance_seller_customer']"
   ]
  },
  {
   "cell_type": "markdown",
   "metadata": {},
   "source": [
    "#### z-score"
   ]
  },
  {
   "cell_type": "code",
   "execution_count": 35,
   "metadata": {},
   "outputs": [
    {
     "data": {
      "text/html": [
       "<div>\n",
       "<style scoped>\n",
       "    .dataframe tbody tr th:only-of-type {\n",
       "        vertical-align: middle;\n",
       "    }\n",
       "\n",
       "    .dataframe tbody tr th {\n",
       "        vertical-align: top;\n",
       "    }\n",
       "\n",
       "    .dataframe thead th {\n",
       "        text-align: right;\n",
       "    }\n",
       "</style>\n",
       "<table border=\"1\" class=\"dataframe\">\n",
       "  <thead>\n",
       "    <tr style=\"text-align: right;\">\n",
       "      <th></th>\n",
       "      <th>order_id</th>\n",
       "      <th>wait_time</th>\n",
       "      <th>expected_wait_time</th>\n",
       "      <th>delay_vs_expected</th>\n",
       "      <th>order_status</th>\n",
       "      <th>dim_is_five_star</th>\n",
       "      <th>dim_is_one_star</th>\n",
       "      <th>review_score</th>\n",
       "      <th>number_of_products</th>\n",
       "      <th>number_of_sellers</th>\n",
       "      <th>price</th>\n",
       "      <th>freight_value</th>\n",
       "      <th>distance_seller_customer</th>\n",
       "    </tr>\n",
       "  </thead>\n",
       "  <tbody>\n",
       "    <tr>\n",
       "      <th>0</th>\n",
       "      <td>e481f51cbdc54678b7cc49136f2d6af7</td>\n",
       "      <td>8.436574</td>\n",
       "      <td>15.544063</td>\n",
       "      <td>0.0</td>\n",
       "      <td>delivered</td>\n",
       "      <td>0</td>\n",
       "      <td>0</td>\n",
       "      <td>4</td>\n",
       "      <td>1</td>\n",
       "      <td>1</td>\n",
       "      <td>29.99</td>\n",
       "      <td>8.72</td>\n",
       "      <td>18.063837</td>\n",
       "    </tr>\n",
       "  </tbody>\n",
       "</table>\n",
       "</div>"
      ],
      "text/plain": [
       "                           order_id  wait_time  expected_wait_time  \\\n",
       "0  e481f51cbdc54678b7cc49136f2d6af7   8.436574           15.544063   \n",
       "\n",
       "   delay_vs_expected order_status  dim_is_five_star  dim_is_one_star  \\\n",
       "0                0.0    delivered                 0                0   \n",
       "\n",
       "   review_score  number_of_products  number_of_sellers  price  freight_value  \\\n",
       "0             4                   1                  1  29.99           8.72   \n",
       "\n",
       "   distance_seller_customer  \n",
       "0                 18.063837  "
      ]
     },
     "execution_count": 35,
     "metadata": {},
     "output_type": "execute_result"
    }
   ],
   "source": [
    "orders = Order().get_training_data(with_distance_seller_customer=True)\n",
    "orders.head(1)"
   ]
  },
  {
   "cell_type": "raw",
   "metadata": {},
   "source": [
    "### Compute the z-score and store it in a `z` variable\n",
    "z = {}\n",
    "for i in features:\n",
    "    m = orders[i].mean()\n",
    "    sigma = orders[i].std()\n",
    "    z[i] = list((np.asarray(orders[i]) - m ) / sigma)"
   ]
  },
  {
   "cell_type": "code",
   "execution_count": 36,
   "metadata": {},
   "outputs": [],
   "source": [
    "# standardize features (transform them into their respective z-scores)\n",
    "orders_standardized = orders.copy()\n",
    "\n",
    "for i in features:\n",
    "    m = orders_standardized[i].mean()\n",
    "    sigma = orders_standardized[i].std()\n",
    "    z = (np.asarray(orders_standardized[i]) - m ) / sigma \n",
    "    orders_standardized[i] = list(z)"
   ]
  },
  {
   "cell_type": "code",
   "execution_count": 37,
   "metadata": {},
   "outputs": [
    {
     "data": {
      "text/html": [
       "<div>\n",
       "<style scoped>\n",
       "    .dataframe tbody tr th:only-of-type {\n",
       "        vertical-align: middle;\n",
       "    }\n",
       "\n",
       "    .dataframe tbody tr th {\n",
       "        vertical-align: top;\n",
       "    }\n",
       "\n",
       "    .dataframe thead th {\n",
       "        text-align: right;\n",
       "    }\n",
       "</style>\n",
       "<table border=\"1\" class=\"dataframe\">\n",
       "  <thead>\n",
       "    <tr style=\"text-align: right;\">\n",
       "      <th></th>\n",
       "      <th>order_id</th>\n",
       "      <th>wait_time</th>\n",
       "      <th>expected_wait_time</th>\n",
       "      <th>delay_vs_expected</th>\n",
       "      <th>order_status</th>\n",
       "      <th>dim_is_five_star</th>\n",
       "      <th>dim_is_one_star</th>\n",
       "      <th>review_score</th>\n",
       "      <th>number_of_products</th>\n",
       "      <th>number_of_sellers</th>\n",
       "      <th>price</th>\n",
       "      <th>freight_value</th>\n",
       "      <th>distance_seller_customer</th>\n",
       "    </tr>\n",
       "  </thead>\n",
       "  <tbody>\n",
       "    <tr>\n",
       "      <th>0</th>\n",
       "      <td>e481f51cbdc54678b7cc49136f2d6af7</td>\n",
       "      <td>-0.431707</td>\n",
       "      <td>15.544063</td>\n",
       "      <td>-0.162787</td>\n",
       "      <td>delivered</td>\n",
       "      <td>0</td>\n",
       "      <td>0</td>\n",
       "      <td>4</td>\n",
       "      <td>-0.264004</td>\n",
       "      <td>-0.112813</td>\n",
       "      <td>-0.51186</td>\n",
       "      <td>-0.651997</td>\n",
       "      <td>-0.979467</td>\n",
       "    </tr>\n",
       "  </tbody>\n",
       "</table>\n",
       "</div>"
      ],
      "text/plain": [
       "                           order_id  wait_time  expected_wait_time  \\\n",
       "0  e481f51cbdc54678b7cc49136f2d6af7  -0.431707           15.544063   \n",
       "\n",
       "   delay_vs_expected order_status  dim_is_five_star  dim_is_one_star  \\\n",
       "0          -0.162787    delivered                 0                0   \n",
       "\n",
       "   review_score  number_of_products  number_of_sellers    price  \\\n",
       "0             4           -0.264004          -0.112813 -0.51186   \n",
       "\n",
       "   freight_value  distance_seller_customer  \n",
       "0      -0.651997                 -0.979467  "
      ]
     },
     "execution_count": 37,
     "metadata": {},
     "output_type": "execute_result"
    }
   ],
   "source": [
    "orders_standardized.head(1)"
   ]
  },
  {
   "cell_type": "code",
   "execution_count": 38,
   "metadata": {},
   "outputs": [
    {
     "name": "stdout",
     "output_type": "stream",
     "text": [
      "2.7606562464678058e-14 1.0000000000000058\n"
     ]
    }
   ],
   "source": [
    "print(orders_standardized['wait_time'].mean(), orders_standardized['wait_time'].std() )"
   ]
  },
  {
   "cell_type": "code",
   "execution_count": 39,
   "metadata": {},
   "outputs": [
    {
     "data": {
      "text/html": [
       "<div>\n",
       "<style scoped>\n",
       "    .dataframe tbody tr th:only-of-type {\n",
       "        vertical-align: middle;\n",
       "    }\n",
       "\n",
       "    .dataframe tbody tr th {\n",
       "        vertical-align: top;\n",
       "    }\n",
       "\n",
       "    .dataframe thead th {\n",
       "        text-align: right;\n",
       "    }\n",
       "</style>\n",
       "<table border=\"1\" class=\"dataframe\">\n",
       "  <thead>\n",
       "    <tr style=\"text-align: right;\">\n",
       "      <th></th>\n",
       "      <th>wait_time</th>\n",
       "      <th>expected_wait_time</th>\n",
       "      <th>delay_vs_expected</th>\n",
       "      <th>dim_is_five_star</th>\n",
       "      <th>dim_is_one_star</th>\n",
       "      <th>review_score</th>\n",
       "      <th>number_of_products</th>\n",
       "      <th>number_of_sellers</th>\n",
       "      <th>price</th>\n",
       "      <th>freight_value</th>\n",
       "      <th>distance_seller_customer</th>\n",
       "    </tr>\n",
       "  </thead>\n",
       "  <tbody>\n",
       "    <tr>\n",
       "      <th>count</th>\n",
       "      <td>9.652500e+04</td>\n",
       "      <td>96525.000000</td>\n",
       "      <td>9.652500e+04</td>\n",
       "      <td>96525.000000</td>\n",
       "      <td>96525.000000</td>\n",
       "      <td>96525.000000</td>\n",
       "      <td>9.652500e+04</td>\n",
       "      <td>9.652500e+04</td>\n",
       "      <td>9.652500e+04</td>\n",
       "      <td>9.652500e+04</td>\n",
       "      <td>9.652500e+04</td>\n",
       "    </tr>\n",
       "    <tr>\n",
       "      <th>mean</th>\n",
       "      <td>2.760656e-14</td>\n",
       "      <td>23.744247</td>\n",
       "      <td>-5.189734e-15</td>\n",
       "      <td>0.588977</td>\n",
       "      <td>0.100596</td>\n",
       "      <td>4.142005</td>\n",
       "      <td>1.572914e-15</td>\n",
       "      <td>-3.933399e-17</td>\n",
       "      <td>-5.767696e-13</td>\n",
       "      <td>-7.981980e-14</td>\n",
       "      <td>4.492304e-16</td>\n",
       "    </tr>\n",
       "    <tr>\n",
       "      <th>std</th>\n",
       "      <td>1.000000e+00</td>\n",
       "      <td>8.769554</td>\n",
       "      <td>1.000000e+00</td>\n",
       "      <td>0.492022</td>\n",
       "      <td>0.300794</td>\n",
       "      <td>1.296748</td>\n",
       "      <td>1.000000e+00</td>\n",
       "      <td>1.000000e+00</td>\n",
       "      <td>1.000000e+00</td>\n",
       "      <td>1.000000e+00</td>\n",
       "      <td>1.000000e+00</td>\n",
       "    </tr>\n",
       "    <tr>\n",
       "      <th>min</th>\n",
       "      <td>-1.260090e+00</td>\n",
       "      <td>2.008009</td>\n",
       "      <td>-1.627873e-01</td>\n",
       "      <td>0.000000</td>\n",
       "      <td>0.000000</td>\n",
       "      <td>1.000000</td>\n",
       "      <td>-2.640036e-01</td>\n",
       "      <td>-1.128127e-01</td>\n",
       "      <td>-6.513292e-01</td>\n",
       "      <td>-1.056565e+00</td>\n",
       "      <td>-1.009815e+00</td>\n",
       "    </tr>\n",
       "    <tr>\n",
       "      <th>25%</th>\n",
       "      <td>-6.069959e-01</td>\n",
       "      <td>18.330069</td>\n",
       "      <td>-1.627873e-01</td>\n",
       "      <td>0.000000</td>\n",
       "      <td>0.000000</td>\n",
       "      <td>4.000000</td>\n",
       "      <td>-2.640036e-01</td>\n",
       "      <td>-1.128127e-01</td>\n",
       "      <td>-4.357119e-01</td>\n",
       "      <td>-4.149156e-01</td>\n",
       "      <td>-6.950415e-01</td>\n",
       "    </tr>\n",
       "    <tr>\n",
       "      <th>50%</th>\n",
       "      <td>-2.451963e-01</td>\n",
       "      <td>23.232187</td>\n",
       "      <td>-1.627873e-01</td>\n",
       "      <td>1.000000</td>\n",
       "      <td>0.000000</td>\n",
       "      <td>5.000000</td>\n",
       "      <td>-2.640036e-01</td>\n",
       "      <td>-1.128127e-01</td>\n",
       "      <td>-2.437862e-01</td>\n",
       "      <td>-2.604185e-01</td>\n",
       "      <td>-2.805496e-01</td>\n",
       "    </tr>\n",
       "    <tr>\n",
       "      <th>75%</th>\n",
       "      <td>3.316656e-01</td>\n",
       "      <td>28.417963</td>\n",
       "      <td>-1.627873e-01</td>\n",
       "      <td>1.000000</td>\n",
       "      <td>0.000000</td>\n",
       "      <td>5.000000</td>\n",
       "      <td>-2.640036e-01</td>\n",
       "      <td>-1.128127e-01</td>\n",
       "      <td>6.205053e-02</td>\n",
       "      <td>5.692679e-02</td>\n",
       "      <td>3.306386e-01</td>\n",
       "    </tr>\n",
       "    <tr>\n",
       "      <th>max</th>\n",
       "      <td>2.065658e+01</td>\n",
       "      <td>155.135463</td>\n",
       "      <td>3.963476e+01</td>\n",
       "      <td>1.000000</td>\n",
       "      <td>1.000000</td>\n",
       "      <td>5.000000</td>\n",
       "      <td>3.673751e+01</td>\n",
       "      <td>3.219949e+01</td>\n",
       "      <td>6.367082e+01</td>\n",
       "      <td>8.222152e+01</td>\n",
       "      <td>1.366879e+01</td>\n",
       "    </tr>\n",
       "  </tbody>\n",
       "</table>\n",
       "</div>"
      ],
      "text/plain": [
       "          wait_time  expected_wait_time  delay_vs_expected  dim_is_five_star  \\\n",
       "count  9.652500e+04        96525.000000       9.652500e+04      96525.000000   \n",
       "mean   2.760656e-14           23.744247      -5.189734e-15          0.588977   \n",
       "std    1.000000e+00            8.769554       1.000000e+00          0.492022   \n",
       "min   -1.260090e+00            2.008009      -1.627873e-01          0.000000   \n",
       "25%   -6.069959e-01           18.330069      -1.627873e-01          0.000000   \n",
       "50%   -2.451963e-01           23.232187      -1.627873e-01          1.000000   \n",
       "75%    3.316656e-01           28.417963      -1.627873e-01          1.000000   \n",
       "max    2.065658e+01          155.135463       3.963476e+01          1.000000   \n",
       "\n",
       "       dim_is_one_star  review_score  number_of_products  number_of_sellers  \\\n",
       "count     96525.000000  96525.000000        9.652500e+04       9.652500e+04   \n",
       "mean          0.100596      4.142005        1.572914e-15      -3.933399e-17   \n",
       "std           0.300794      1.296748        1.000000e+00       1.000000e+00   \n",
       "min           0.000000      1.000000       -2.640036e-01      -1.128127e-01   \n",
       "25%           0.000000      4.000000       -2.640036e-01      -1.128127e-01   \n",
       "50%           0.000000      5.000000       -2.640036e-01      -1.128127e-01   \n",
       "75%           0.000000      5.000000       -2.640036e-01      -1.128127e-01   \n",
       "max           1.000000      5.000000        3.673751e+01       3.219949e+01   \n",
       "\n",
       "              price  freight_value  distance_seller_customer  \n",
       "count  9.652500e+04   9.652500e+04              9.652500e+04  \n",
       "mean  -5.767696e-13  -7.981980e-14              4.492304e-16  \n",
       "std    1.000000e+00   1.000000e+00              1.000000e+00  \n",
       "min   -6.513292e-01  -1.056565e+00             -1.009815e+00  \n",
       "25%   -4.357119e-01  -4.149156e-01             -6.950415e-01  \n",
       "50%   -2.437862e-01  -2.604185e-01             -2.805496e-01  \n",
       "75%    6.205053e-02   5.692679e-02              3.306386e-01  \n",
       "max    6.367082e+01   8.222152e+01              1.366879e+01  "
      ]
     },
     "execution_count": 39,
     "metadata": {},
     "output_type": "execute_result"
    }
   ],
   "source": [
    "orders_standardized.describe()"
   ]
  },
  {
   "cell_type": "code",
   "execution_count": 40,
   "metadata": {},
   "outputs": [
    {
     "name": "stdout",
     "output_type": "stream",
     "text": [
      "                            OLS Regression Results                            \n",
      "==============================================================================\n",
      "Dep. Variable:           review_score   R-squared:                       0.146\n",
      "Model:                            OLS   Adj. R-squared:                  0.145\n",
      "Method:                 Least Squares   F-statistic:                     2348.\n",
      "Date:                Wed, 21 Jul 2021   Prob (F-statistic):               0.00\n",
      "Time:                        23:29:59   Log-Likelihood:            -1.5446e+05\n",
      "No. Observations:               96525   AIC:                         3.089e+05\n",
      "Df Residuals:                   96517   BIC:                         3.090e+05\n",
      "Df Model:                           7                                         \n",
      "Covariance Type:            nonrobust                                         \n",
      "============================================================================================\n",
      "                               coef    std err          t      P>|t|      [0.025      0.975]\n",
      "--------------------------------------------------------------------------------------------\n",
      "Intercept                    4.1420      0.004   1073.513      0.000       4.134       4.150\n",
      "wait_time                   -0.4500      0.006    -71.510      0.000      -0.462      -0.438\n",
      "delay_vs_expected           -0.0450      0.006     -7.777      0.000      -0.056      -0.034\n",
      "freight_value                0.0049      0.005      0.975      0.330      -0.005       0.015\n",
      "price                       -0.0044      0.004     -1.038      0.299      -0.013       0.004\n",
      "number_of_sellers           -0.1318      0.004    -32.701      0.000      -0.140      -0.124\n",
      "number_of_products          -0.1325      0.005    -29.314      0.000      -0.141      -0.124\n",
      "distance_seller_customer     0.0988      0.005     21.323      0.000       0.090       0.108\n",
      "==============================================================================\n",
      "Omnibus:                    18337.394   Durbin-Watson:                   2.009\n",
      "Prob(Omnibus):                  0.000   Jarque-Bera (JB):            35597.400\n",
      "Skew:                          -1.163   Prob(JB):                         0.00\n",
      "Kurtosis:                       4.854   Cond. No.                         3.04\n",
      "==============================================================================\n",
      "\n",
      "Notes:\n",
      "[1] Standard Errors assume that the covariance matrix of the errors is correctly specified.\n"
     ]
    }
   ],
   "source": [
    "# Create and train model4\n",
    "model4 = smf.ols(\n",
    "\" review_score ~ wait_time \\\n",
    "+ delay_vs_expected  \\\n",
    "+ freight_value + price \\\n",
    " + number_of_sellers + number_of_products \\\n",
    "+ distance_seller_customer\",\n",
    "                 data=orders_standardized).fit()\n",
    "print(model4.summary())"
   ]
  },
  {
   "cell_type": "markdown",
   "metadata": {},
   "source": [
    "---\n",
    "❓ What are the most important features? (make a bar chart to visualize them well)\n",
    "- How has the overall regression performance changed?\n",
    "- Is this regression statistically significant?"
   ]
  },
  {
   "cell_type": "code",
   "execution_count": 32,
   "metadata": {},
   "outputs": [
    {
     "data": {
      "text/plain": [
       "<AxesSubplot:>"
      ]
     },
     "execution_count": 32,
     "metadata": {},
     "output_type": "execute_result"
    },
    {
     "data": {
      "image/png": "[encoded data removed]",
      "text/plain": [
       "<Figure size 432x288 with 1 Axes>"
      ]
     },
     "metadata": {
      "needs_background": "light"
     },
     "output_type": "display_data"
    }
   ],
   "source": [
    "model4.params[1:].sort_values().plot(kind='barh')"
   ]
  },
  {
   "cell_type": "code",
   "execution_count": 5,
   "metadata": {},
   "outputs": [],
   "source": [
    "# Your answer"
   ]
  },
  {
   "cell_type": "markdown",
   "metadata": {},
   "source": [
    "<details>\n",
    "    <summary>💡Explanations</summary>\n",
    "    \n",
    "\n",
    "- `wait_time` is the biggest explanatory variable\n",
    "- The more `products` and `sellers` there are for a single order, the lower the `review_score`. \n",
    "- Distance also plays a role.\n",
    "- Depending on your choice of feature, you may not be able to conclude anything about `price` and `freight_value` if their p-values are too high\n",
    "    \n",
    "- Overall, this multivariate regression remains statistically significant, because its F-statistics are much greater than 1 (at least one feature has a very low p-value)\n",
    "\n",
    "- R-squared hasn't increased by much. Most of the explanability of review_score lies outside of the orders dataset.\n",
    "\n",
    "Low R-squared is common when the number of observations (n) is much higher than the number of features (p). Relevant insights can still be derived from such regressions, provided they are statistically significant\n",
    "</details>\n",
    "\n"
   ]
  },
  {
   "cell_type": "markdown",
   "metadata": {},
   "source": [
    "## 3 - Check model performance"
   ]
  },
  {
   "cell_type": "markdown",
   "metadata": {},
   "source": [
    "Regression performance should not be measured only by it's R-squared!  \n",
    "Always visualize the distribution of the predictions, and especially the residuals.\n",
    "\n",
    "❓ Compute the residuals, notice how their mean is equal to 0 (always the case in linear regression), and compute the associated RMSE.   \n",
    "Plot the `residuals` in a histogram."
   ]
  },
  {
   "cell_type": "code",
   "execution_count": 33,
   "metadata": {},
   "outputs": [
    {
     "name": "stdout",
     "output_type": "stream",
     "text": [
      "Intercept                   4.142005\n",
      "wait_time                  -0.450029\n",
      "delay_vs_expected          -0.044982\n",
      "freight_value               0.004872\n",
      "price                      -0.004405\n",
      "number_of_sellers          -0.131830\n",
      "number_of_products         -0.132475\n",
      "distance_seller_customer    0.098776\n",
      "dtype: float64\n",
      "0       -0.295784\n",
      "1       -0.184043\n",
      "2        0.667432\n",
      "3        0.625966\n",
      "4        0.439598\n",
      "           ...   \n",
      "96528    0.685274\n",
      "96529    0.277952\n",
      "96530    1.312224\n",
      "96531   -1.710528\n",
      "96532    0.565040\n",
      "Length: 96525, dtype: float64\n"
     ]
    }
   ],
   "source": [
    "#estimated coefficients\n",
    "print(model4.params)\n",
    "n = model4.resid\n",
    "print(n) # estim_residuals"
   ]
  },
  {
   "cell_type": "code",
   "execution_count": 41,
   "metadata": {},
   "outputs": [],
   "source": [
    "# Your code\n",
    "predicted_review_score = model4.predict(orders_standardized[features])\n",
    "residuals = predicted_review_score - orders_standardized.review_score"
   ]
  },
  {
   "cell_type": "code",
   "execution_count": 42,
   "metadata": {},
   "outputs": [
    {
     "data": {
      "text/plain": [
       "1.1986853369569426"
      ]
     },
     "execution_count": 42,
     "metadata": {},
     "output_type": "execute_result"
    }
   ],
   "source": [
    "RMSE = (residuals.map(lambda x: x**2).sum() / len(residuals))**0.5\n",
    "RMSE"
   ]
  },
  {
   "cell_type": "code",
   "execution_count": 43,
   "metadata": {},
   "outputs": [
    {
     "data": {
      "text/plain": [
       "Text(0.5, 1.0, 'residuals density plot')"
      ]
     },
     "execution_count": 43,
     "metadata": {},
     "output_type": "execute_result"
    },
    {
     "data": {
      "image/png": "[encoded data removed]",
      "text/plain": [
       "<Figure size 432x288 with 1 Axes>"
      ]
     },
     "metadata": {
      "needs_background": "light"
     },
     "output_type": "display_data"
    }
   ],
   "source": [
    "sns.histplot(residuals, kde=True, stat='density', discrete=True)\n",
    "plt.title('residuals density plot')"
   ]
  },
  {
   "cell_type": "code",
   "execution_count": 44,
   "metadata": {
    "scrolled": true
   },
   "outputs": [
    {
     "data": {
      "text/plain": [
       "Text(0.5, 1.0, 'distribution of predicted and actual values')"
      ]
     },
     "execution_count": 44,
     "metadata": {},
     "output_type": "execute_result"
    },
    {
     "data": {
      "image/png": "[encoded data removed]",
      "text/plain": [
       "<Figure size 432x288 with 1 Axes>"
      ]
     },
     "metadata": {
      "needs_background": "light"
     },
     "output_type": "display_data"
    }
   ],
   "source": [
    "# Your code here\n",
    "sns.kdeplot(predicted_review_score, label='predicted review score')\n",
    "sns.kdeplot(orders.review_score, label = 'actual review score')\n",
    "plt.title('distribution of predicted and actual values')"
   ]
  },
  {
   "cell_type": "code",
   "execution_count": 45,
   "metadata": {},
   "outputs": [
    {
     "name": "stdout",
     "output_type": "stream",
     "text": [
      "96525\n",
      "0        0.295784\n",
      "1        0.184043\n",
      "2       -0.667432\n",
      "3       -0.625966\n",
      "4       -0.439598\n",
      "           ...   \n",
      "96528   -0.685274\n",
      "96529   -0.277952\n",
      "96530   -1.312224\n",
      "96531    1.710528\n",
      "96532   -0.565040\n",
      "Length: 96525, dtype: float64\n"
     ]
    }
   ],
   "source": [
    "# my code\n",
    "residuals = model4.predict(orders_standardized[features]) - orders_standardized['review_score']\n",
    "print(len(residuals))\n",
    "print(residuals)\n",
    "#residuals.std()/orders.wait_time.std() * 1/(n**0.5)"
   ]
  },
  {
   "cell_type": "code",
   "execution_count": 46,
   "metadata": {},
   "outputs": [
    {
     "data": {
      "text/plain": [
       "Text(0.5, 1.0, 'residuals density plot')"
      ]
     },
     "execution_count": 46,
     "metadata": {},
     "output_type": "execute_result"
    },
    {
     "data": {
      "image/png": "[encoded data removed]",
      "text/plain": [
       "<Figure size 432x288 with 1 Axes>"
      ]
     },
     "metadata": {
      "needs_background": "light"
     },
     "output_type": "display_data"
    }
   ],
   "source": [
    "sns.histplot(residuals, kde=True, stat='density', discrete=True)\n",
    "plt.title('residuals density plot')"
   ]
  },
  {
   "cell_type": "code",
   "execution_count": 55,
   "metadata": {},
   "outputs": [
    {
     "data": {
      "text/plain": [
       "0                    NaN\n",
       "1                    NaN\n",
       "2                    NaN\n",
       "3                    NaN\n",
       "4                    NaN\n",
       "                      ..\n",
       "expected_wait_time   NaN\n",
       "freight_value        NaN\n",
       "number_of_sellers    NaN\n",
       "price                NaN\n",
       "wait_time            NaN\n",
       "Length: 96532, dtype: float64"
      ]
     },
     "execution_count": 55,
     "metadata": {},
     "output_type": "execute_result"
    }
   ],
   "source": [
    "residuals.std()/std_features * 1/(n**0.5)"
   ]
  },
  {
   "cell_type": "markdown",
   "metadata": {},
   "source": [
    "❓ Can you guess why the residual distplot is such a strange shape? To understand, plot on the same axis the histogram of `review_score` as well as that of the `predicted_review_score` for each row of the dataset"
   ]
  },
  {
   "cell_type": "code",
   "execution_count": 7,
   "metadata": {},
   "outputs": [],
   "source": [
    "# Your code"
   ]
  },
  {
   "cell_type": "markdown",
   "metadata": {},
   "source": [
    "<details>\n",
    "    <summary>💡Explanations</summary>\n",
    "\n",
    "☝️ Our model is not so great, for two reasons\n",
    "- First, because we don't have enough features to explain a significant proportion of the review_scores (low R-squared)\n",
    "- Secondly, because we are trying to fit a \"linear regression\" function to a discreet classification problem\n",
    "\n",
    "Tomorrow, you will discover a new model: the logistic regression classifier\n",
    "    \n",
    "</details>"
   ]
  },
  {
   "cell_type": "markdown",
   "metadata": {},
   "source": [
    "🏁 Great job! Don't forget to *save*, *commit* and *push* this notebook when you are done"
   ]
  }
 ],
 "metadata": {
  "kernelspec": {
   "display_name": "Python 3 (ipykernel)",
   "language": "python",
   "name": "python3"
  },
  "language_info": {
   "codemirror_mode": {
    "name": "ipython",
    "version": 3
   },
   "file_extension": ".py",
   "mimetype": "text/x-python",
   "name": "python",
   "nbconvert_exporter": "python",
   "pygments_lexer": "ipython3",
   "version": "3.8.6"
  },
  "toc": {
   "base_numbering": 1,
   "nav_menu": {},
   "number_sections": false,
   "sideBar": true,
   "skip_h1_title": false,
   "title_cell": "Table of Contents",
   "title_sidebar": "Contents",
   "toc_cell": false,
   "toc_position": {
    "height": "calc(100% - 180px)",
    "left": "10px",
    "top": "150px",
    "width": "384px"
   },
   "toc_section_display": true,
   "toc_window_display": true
  },
  "varInspector": {
   "cols": {
    "lenName": 16,
    "lenType": 16,
    "lenVar": 40
   },
   "kernels_config": {
    "python": {
     "delete_cmd_postfix": "",
     "delete_cmd_prefix": "del ",
     "library": "var_list.py",
     "varRefreshCmd": "print(var_dic_list())"
    },
    "r": {
     "delete_cmd_postfix": ") ",
     "delete_cmd_prefix": "rm(",
     "library": "var_list.r",
     "varRefreshCmd": "cat(var_dic_list()) "
    }
   },
   "types_to_exclude": [
    "module",
    "function",
    "builtin_function_or_method",
    "instance",
    "_Feature"
   ],
   "window_display": false
  }
 },
 "nbformat": 4,
 "nbformat_minor": 4
}
