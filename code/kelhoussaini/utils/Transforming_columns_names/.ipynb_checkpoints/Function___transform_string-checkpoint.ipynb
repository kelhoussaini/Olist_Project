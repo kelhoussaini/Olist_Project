{
 "cells": [
  {
   "cell_type": "code",
   "execution_count": 11,
   "id": "6cb8acf2",
   "metadata": {},
   "outputs": [],
   "source": [
    "import numpy as np"
   ]
  },
  {
   "cell_type": "code",
   "execution_count": 12,
   "id": "b86b8618",
   "metadata": {},
   "outputs": [
    {
     "data": {
      "text/plain": [
       "['Paris', '13ème']"
      ]
     },
     "execution_count": 12,
     "metadata": {},
     "output_type": "execute_result"
    }
   ],
   "source": [
    "\n",
    "string = 'Paris 13ème'\n",
    "L = string.split(\" \")\n",
    "L"
   ]
  },
  {
   "cell_type": "code",
   "execution_count": 4,
   "id": "c5ef2e08",
   "metadata": {},
   "outputs": [
    {
     "data": {
      "text/plain": [
       "'Paris'"
      ]
     },
     "execution_count": 4,
     "metadata": {},
     "output_type": "execute_result"
    }
   ],
   "source": [
    "L[0]"
   ]
  },
  {
   "cell_type": "code",
   "execution_count": 13,
   "id": "46784288",
   "metadata": {},
   "outputs": [],
   "source": [
    "def transform_string(string, separator):\n",
    "    L = string.split(separator)\n",
    "    return L[0] if L[0] in ['Paris', 'Marseille', 'Lyon'] else L[0]"
   ]
  },
  {
   "cell_type": "code",
   "execution_count": 14,
   "id": "01dfabca",
   "metadata": {},
   "outputs": [
    {
     "data": {
      "text/plain": [
       "'Paris'"
      ]
     },
     "execution_count": 14,
     "metadata": {},
     "output_type": "execute_result"
    }
   ],
   "source": [
    "string = 'Paris 13ème'\n",
    "separator = \" \"\n",
    "transform_string(string, separator)"
   ]
  },
  {
   "cell_type": "code",
   "execution_count": 15,
   "id": "03923c09",
   "metadata": {},
   "outputs": [
    {
     "data": {
      "text/plain": [
       "'fleury-en-biere'"
      ]
     },
     "execution_count": 15,
     "metadata": {},
     "output_type": "execute_result"
    }
   ],
   "source": [
    "transform_string(string= \"fleury-en-biere\", separator=\" \")"
   ]
  },
  {
   "cell_type": "code",
   "execution_count": 16,
   "id": "bbf463fd",
   "metadata": {},
   "outputs": [
    {
     "data": {
      "text/plain": [
       "'Lyon'"
      ]
     },
     "execution_count": 16,
     "metadata": {},
     "output_type": "execute_result"
    }
   ],
   "source": [
    "transform_string(string= \"Lyon 02ème\", separator=\" \")"
   ]
  },
  {
   "cell_type": "code",
   "execution_count": null,
   "id": "cbceee03",
   "metadata": {},
   "outputs": [],
   "source": []
  }
 ],
 "metadata": {
  "kernelspec": {
   "display_name": "Python 3 (ipykernel)",
   "language": "python",
   "name": "python3"
  },
  "language_info": {
   "codemirror_mode": {
    "name": "ipython",
    "version": 3
   },
   "file_extension": ".py",
   "mimetype": "text/x-python",
   "name": "python",
   "nbconvert_exporter": "python",
   "pygments_lexer": "ipython3",
   "version": "3.8.6"
  },
  "toc": {
   "base_numbering": 1,
   "nav_menu": {},
   "number_sections": true,
   "sideBar": true,
   "skip_h1_title": false,
   "title_cell": "Table of Contents",
   "title_sidebar": "Contents",
   "toc_cell": false,
   "toc_position": {},
   "toc_section_display": true,
   "toc_window_display": false
  }
 },
 "nbformat": 4,
 "nbformat_minor": 5
}
