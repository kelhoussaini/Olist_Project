{
 "cells": [
  {
   "cell_type": "markdown",
   "id": "e2de26df",
   "metadata": {},
   "source": [
    "# Rename DataFrame columns "
   ]
  },
  {
   "cell_type": "code",
   "execution_count": 131,
   "id": "1f824030",
   "metadata": {},
   "outputs": [],
   "source": [
    "from sklearn.preprocessing import OneHotEncoder\n",
    "import pandas as pd\n",
    "import numpy as np"
   ]
  },
  {
   "cell_type": "code",
   "execution_count": 11,
   "id": "760a510e",
   "metadata": {},
   "outputs": [
    {
     "data": {
      "text/html": [
       "<div>\n",
       "<style scoped>\n",
       "    .dataframe tbody tr th:only-of-type {\n",
       "        vertical-align: middle;\n",
       "    }\n",
       "\n",
       "    .dataframe tbody tr th {\n",
       "        vertical-align: top;\n",
       "    }\n",
       "\n",
       "    .dataframe thead th {\n",
       "        text-align: right;\n",
       "    }\n",
       "</style>\n",
       "<table border=\"1\" class=\"dataframe\">\n",
       "  <thead>\n",
       "    <tr style=\"text-align: right;\">\n",
       "      <th></th>\n",
       "      <th>code</th>\n",
       "      <th>type</th>\n",
       "      <th>Year</th>\n",
       "      <th>commune</th>\n",
       "      <th>code_dep</th>\n",
       "      <th>Surface</th>\n",
       "      <th>Code_post</th>\n",
       "      <th>Prixm2</th>\n",
       "      <th>price</th>\n",
       "      <th>Avg_sqm</th>\n",
       "      <th>transactions</th>\n",
       "      <th>lat</th>\n",
       "      <th>lon</th>\n",
       "      <th>No_rooms</th>\n",
       "    </tr>\n",
       "  </thead>\n",
       "  <tbody>\n",
       "    <tr>\n",
       "      <th>0</th>\n",
       "      <td>1370</td>\n",
       "      <td>Appartement</td>\n",
       "      <td>2016</td>\n",
       "      <td>Saint-Laurent-sur-Saône</td>\n",
       "      <td>1</td>\n",
       "      <td>9</td>\n",
       "      <td>1750</td>\n",
       "      <td>1770</td>\n",
       "      <td>95397</td>\n",
       "      <td>63</td>\n",
       "      <td>37</td>\n",
       "      <td>46.310</td>\n",
       "      <td>4.843</td>\n",
       "      <td>2.7</td>\n",
       "    </tr>\n",
       "    <tr>\n",
       "      <th>1</th>\n",
       "      <td>1364</td>\n",
       "      <td>Maison</td>\n",
       "      <td>2016</td>\n",
       "      <td>Saint-Jean-sur-Reyssouze</td>\n",
       "      <td>1</td>\n",
       "      <td>1714</td>\n",
       "      <td>1560</td>\n",
       "      <td>1272</td>\n",
       "      <td>140964</td>\n",
       "      <td>118</td>\n",
       "      <td>18</td>\n",
       "      <td>46.422</td>\n",
       "      <td>5.086</td>\n",
       "      <td>4.3</td>\n",
       "    </tr>\n",
       "  </tbody>\n",
       "</table>\n",
       "</div>"
      ],
      "text/plain": [
       "   code         type  Year                   commune  code_dep  Surface  \\\n",
       "0  1370  Appartement  2016   Saint-Laurent-sur-Saône         1        9   \n",
       "1  1364       Maison  2016  Saint-Jean-sur-Reyssouze         1     1714   \n",
       "\n",
       "   Code_post  Prixm2   price  Avg_sqm  transactions     lat    lon  No_rooms  \n",
       "0       1750    1770   95397       63            37  46.310  4.843       2.7  \n",
       "1       1560    1272  140964      118            18  46.422  5.086       4.3  "
      ]
     },
     "execution_count": 11,
     "metadata": {},
     "output_type": "execute_result"
    }
   ],
   "source": [
    "df = pd.read_csv('final_data.csv', dtype = {'code_dept' : object})\n",
    "df.head(2)"
   ]
  },
  {
   "cell_type": "code",
   "execution_count": 12,
   "id": "57095a1a",
   "metadata": {},
   "outputs": [
    {
     "data": {
      "text/plain": [
       "Index(['code', 'type', 'Year', 'commune', 'code_dep', 'Surface', 'Code_post',\n",
       "       'Prixm2', 'price', 'Avg_sqm', 'transactions', 'lat', 'lon', 'No_rooms'],\n",
       "      dtype='object')"
      ]
     },
     "execution_count": 12,
     "metadata": {},
     "output_type": "execute_result"
    }
   ],
   "source": [
    "df.columns"
   ]
  },
  {
   "cell_type": "code",
   "execution_count": 13,
   "id": "7d7fe05e",
   "metadata": {},
   "outputs": [
    {
     "data": {
      "text/plain": [
       "(199987, 14)"
      ]
     },
     "execution_count": 13,
     "metadata": {},
     "output_type": "execute_result"
    }
   ],
   "source": [
    "df.shape"
   ]
  },
  {
   "cell_type": "code",
   "execution_count": 14,
   "id": "4dad69aa",
   "metadata": {},
   "outputs": [
    {
     "data": {
      "text/plain": [
       "(50, 14)"
      ]
     },
     "execution_count": 14,
     "metadata": {},
     "output_type": "execute_result"
    }
   ],
   "source": [
    "df2 = df.head(50) # To make first checking the Encoder class, we only use the first 50 columns\n",
    "df2.shape"
   ]
  },
  {
   "cell_type": "code",
   "execution_count": 15,
   "id": "7d4711c4",
   "metadata": {},
   "outputs": [
    {
     "data": {
      "text/plain": [
       "array(['Appartement', 'Maison'], dtype=object)"
      ]
     },
     "execution_count": 15,
     "metadata": {},
     "output_type": "execute_result"
    }
   ],
   "source": [
    "df2['type'].unique()"
   ]
  },
  {
   "cell_type": "code",
   "execution_count": 16,
   "id": "2191051a",
   "metadata": {},
   "outputs": [],
   "source": [
    "class Encoder():\n",
    "    \n",
    "    \"\"\" Initialize dataframe\n",
    "    \"\"\"\n",
    "    def __init__(self, df):\n",
    "\n",
    "        self.df = df\n",
    "        \n",
    "    def execute(self, col_name):\n",
    "        \n",
    "        L = list(self.df[col_name].unique())\n",
    "        if '' in L:\n",
    "            self.df[col_name].replace(\"\", \"NoValue\", inplace=True) #Replace NaN by \"NoCodeNature\"\n",
    "\n",
    "        ohe = OneHotEncoder(sparse = False) # Instanciate encoder\n",
    "        ohe.fit(self.df[[col_name]]) # Fit encoder  ---> OneHotEncoder(sparse=False)\n",
    "\n",
    "        col_encoded = ohe.transform(self.df[[col_name]]) # Encode\n",
    "\n",
    "        dicts_col = {}\n",
    "        keys = list(ohe.categories_[0])\n",
    "        values = col_encoded.T.astype(int)\n",
    "\n",
    "        for i,j in enumerate(keys):\n",
    "            dicts_col[j] = values[i,:]\n",
    "\n",
    "        result = pd.DataFrame.from_dict(dicts_col)\n",
    "\n",
    "        self.df = self.df.reset_index(drop=True)\n",
    "\n",
    "        #Concat df and result dataframes\n",
    "        data_res = pd.concat([self.df, result], axis = 1)\n",
    "\n",
    "        if 'NoValue' in list(data_res.columns):\n",
    "            data_res = data_res.drop(columns= ['NoValue',col_name] )\n",
    "        else:\n",
    "            data_res = data_res.drop(columns= col_name)\n",
    "\n",
    "        return data_res        "
   ]
  },
  {
   "cell_type": "code",
   "execution_count": 22,
   "id": "5de722dd",
   "metadata": {},
   "outputs": [
    {
     "name": "stdout",
     "output_type": "stream",
     "text": [
      "(50, 14) 46 ***** 2\n",
      "First encodeing (50, 59)\n",
      "Second encodeing (50, 60)\n"
     ]
    }
   ],
   "source": [
    "print(df2.shape, len(df2.commune.unique()), \"*****\", len(df2.type.unique()))\n",
    "encoder = Encoder(df = df2)\n",
    "res = encoder.execute(col_name = 'commune')\n",
    "print(\"First encodeing\", res.shape)\n",
    "\n",
    "encoder2 = Encoder(df = res)\n",
    "res_2 = encoder2.execute(col_name = 'type')\n",
    "print(\"Second encodeing\", res_2.shape)"
   ]
  },
  {
   "cell_type": "code",
   "execution_count": null,
   "id": "3e52e8cb",
   "metadata": {},
   "outputs": [],
   "source": []
  },
  {
   "cell_type": "code",
   "execution_count": 23,
   "id": "16d7e8c7",
   "metadata": {},
   "outputs": [],
   "source": [
    "def encoding_categ_column(df, col_name):\n",
    "    \n",
    "    L = list(df[col_name].unique())\n",
    "    if '' in L:\n",
    "        df[col_name].replace(\"\", \"NoValue\", inplace=True) #Replace NaN by \"NoCodeNature\"\n",
    "    \n",
    "    ohe = OneHotEncoder(sparse = False) # Instanciate encoder\n",
    "    ohe.fit(df[[col_name]]) # Fit encoder  ---> OneHotEncoder(sparse=False)\n",
    "    \n",
    "    col_encoded = ohe.transform(df[[col_name]]) # Encode\n",
    "\n",
    "    dicts_col = {}\n",
    "    keys = list(ohe.categories_[0])\n",
    "    values = col_encoded.T.astype(int)\n",
    "    \n",
    "    for i,j in enumerate(keys):\n",
    "        dicts_col[j] = values[i,:]\n",
    "\n",
    "    result = pd.DataFrame.from_dict(dicts_col)\n",
    "    \n",
    "    df = df.reset_index(drop=True)\n",
    "    \n",
    "    #Concat df and result dataframes\n",
    "    data_res = pd.concat([df, result], axis = 1)\n",
    "    \n",
    "    if 'NoValue' in list(data_res.columns):\n",
    "        data_res = data_res.drop(columns= ['NoValue',col_name] )\n",
    "    else:\n",
    "        data_res = data_res.drop(columns= col_name)\n",
    "        \n",
    "    return data_res "
   ]
  },
  {
   "cell_type": "code",
   "execution_count": 24,
   "id": "507ab5bd",
   "metadata": {},
   "outputs": [
    {
     "data": {
      "text/plain": [
       "(50, 60)"
      ]
     },
     "execution_count": 24,
     "metadata": {},
     "output_type": "execute_result"
    }
   ],
   "source": [
    "data_t = encoding_categ_column(df = df2, col_name = 'commune')\n",
    "\n",
    "data_t3 = encoding_categ_column(df = data_t, col_name = 'type')\n",
    "data_t3.shape"
   ]
  },
  {
   "cell_type": "code",
   "execution_count": 25,
   "id": "08e392ab",
   "metadata": {},
   "outputs": [],
   "source": [
    "def encoding_categ_column_list(df, col_name):\n",
    "    \n",
    "    ''' Here, col_name is a list of columns'''\n",
    "    \n",
    "    for col in col_name:\n",
    "        df = encoding_categ_column(df = df, col_name = col)  \n",
    "        \n",
    "    return df"
   ]
  },
  {
   "cell_type": "code",
   "execution_count": 26,
   "id": "241162db",
   "metadata": {},
   "outputs": [
    {
     "data": {
      "text/plain": [
       "(50, 60)"
      ]
     },
     "execution_count": 26,
     "metadata": {},
     "output_type": "execute_result"
    }
   ],
   "source": [
    "data = encoding_categ_column_list(df = df2, col_name = ['commune', 'type'])\n",
    "\n",
    "data.shape"
   ]
  },
  {
   "cell_type": "code",
   "execution_count": 123,
   "id": "98d682c1",
   "metadata": {},
   "outputs": [],
   "source": [
    "class Encoder():\n",
    "    \n",
    "    \"\"\" Initialize dataframe\n",
    "    \"\"\"\n",
    "    def __init__(self, df):\n",
    "\n",
    "        self.df = df\n",
    "        \n",
    "    def execute_one_column(self, df, col_name):\n",
    "        \n",
    "        L = list(self.df[col_name].unique())\n",
    "        if '' in L:\n",
    "            self.df[col_name].replace(\"\", \"NoValue\", inplace=True) #Replace NaN by \"NoCodeNature\"\n",
    "\n",
    "        ohe = OneHotEncoder(sparse = False) # Instanciate encoder\n",
    "        ohe.fit(self.df[[col_name]]) # Fit encoder  ---> OneHotEncoder(sparse=False)\n",
    "\n",
    "        col_encoded = ohe.transform(self.df[[col_name]]) # Encode\n",
    "\n",
    "        dicts_col = {}\n",
    "        keys = list(ohe.categories_[0])\n",
    "        values = col_encoded.T.astype(int)\n",
    "\n",
    "        for i,j in enumerate(keys):\n",
    "            dicts_col[j] = values[i,:]\n",
    "\n",
    "        result = pd.DataFrame.from_dict(dicts_col)\n",
    "\n",
    "        self.df = self.df.reset_index(drop=True)\n",
    "\n",
    "        #Concat df and result dataframes\n",
    "        data_res = pd.concat([self.df, result], axis = 1)\n",
    "\n",
    "        if 'NoValue' in list(data_res.columns):\n",
    "            data_res = data_res.drop(columns= ['NoValue',col_name] )\n",
    "        else:\n",
    "            data_res = data_res.drop(columns= col_name)\n",
    "\n",
    "        return data_res        \n",
    "    \n",
    "    def execute(self, col_name):\n",
    "        \n",
    "        ''' Here, col_name is a list of columns'''\n",
    "        \n",
    "        df_i= self.execute_one_column(self.df, col_name = col_name[0])  \n",
    "        print(df_i.shape)\n",
    "    \n",
    "        for col in col_name[1:]:\n",
    "            print(col, df_i.shape)\n",
    "            df_i= self.execute_one_column(df_i, col_name = col)  \n",
    "            print(df_i.shape)\n",
    "\n",
    "        return df_i"
   ]
  },
  {
   "cell_type": "code",
   "execution_count": 124,
   "id": "6896cd60",
   "metadata": {},
   "outputs": [
    {
     "name": "stdout",
     "output_type": "stream",
     "text": [
      "(50, 59)\n",
      "type (50, 59)\n",
      "(50, 15)\n",
      "First encodeing (50, 15)\n"
     ]
    }
   ],
   "source": [
    "encoder = Encoder(df = df2)\n",
    "res = encoder.execute(col_name = ['commune', 'type'])\n",
    "print(\"First encodeing\", res.shape)\n"
   ]
  },
  {
   "cell_type": "code",
   "execution_count": 102,
   "id": "05ca5fe9",
   "metadata": {},
   "outputs": [
    {
     "data": {
      "text/plain": [
       "['type']"
      ]
     },
     "execution_count": 102,
     "metadata": {},
     "output_type": "execute_result"
    }
   ],
   "source": [
    "col_name = ['commune', 'type']\n",
    "col_name[1:]"
   ]
  },
  {
   "cell_type": "code",
   "execution_count": null,
   "id": "991fef10",
   "metadata": {},
   "outputs": [],
   "source": []
  },
  {
   "cell_type": "code",
   "execution_count": 152,
   "id": "d6b8abfa",
   "metadata": {},
   "outputs": [
    {
     "data": {
      "text/html": [
       "<div>\n",
       "<style scoped>\n",
       "    .dataframe tbody tr th:only-of-type {\n",
       "        vertical-align: middle;\n",
       "    }\n",
       "\n",
       "    .dataframe tbody tr th {\n",
       "        vertical-align: top;\n",
       "    }\n",
       "\n",
       "    .dataframe thead th {\n",
       "        text-align: right;\n",
       "    }\n",
       "</style>\n",
       "<table border=\"1\" class=\"dataframe\">\n",
       "  <thead>\n",
       "    <tr style=\"text-align: right;\">\n",
       "      <th></th>\n",
       "      <th>code</th>\n",
       "      <th>type</th>\n",
       "      <th>Year</th>\n",
       "      <th>commune</th>\n",
       "      <th>code_dep</th>\n",
       "      <th>Surface</th>\n",
       "      <th>Code_post</th>\n",
       "      <th>Prixm2</th>\n",
       "      <th>price</th>\n",
       "      <th>Avg_sqm</th>\n",
       "      <th>transactions</th>\n",
       "      <th>lat</th>\n",
       "      <th>lon</th>\n",
       "      <th>No_rooms</th>\n",
       "    </tr>\n",
       "  </thead>\n",
       "  <tbody>\n",
       "    <tr>\n",
       "      <th>0</th>\n",
       "      <td>1370</td>\n",
       "      <td>Appartement</td>\n",
       "      <td>2016</td>\n",
       "      <td>Saint-Laurent-sur-Saône</td>\n",
       "      <td>1</td>\n",
       "      <td>9</td>\n",
       "      <td>1750</td>\n",
       "      <td>1770</td>\n",
       "      <td>95397</td>\n",
       "      <td>63</td>\n",
       "      <td>37</td>\n",
       "      <td>46.310</td>\n",
       "      <td>4.843</td>\n",
       "      <td>2.7</td>\n",
       "    </tr>\n",
       "    <tr>\n",
       "      <th>1</th>\n",
       "      <td>1364</td>\n",
       "      <td>Maison</td>\n",
       "      <td>2016</td>\n",
       "      <td>Saint-Jean-sur-Reyssouze</td>\n",
       "      <td>1</td>\n",
       "      <td>1714</td>\n",
       "      <td>1560</td>\n",
       "      <td>1272</td>\n",
       "      <td>140964</td>\n",
       "      <td>118</td>\n",
       "      <td>18</td>\n",
       "      <td>46.422</td>\n",
       "      <td>5.086</td>\n",
       "      <td>4.3</td>\n",
       "    </tr>\n",
       "  </tbody>\n",
       "</table>\n",
       "</div>"
      ],
      "text/plain": [
       "   code         type  Year                   commune  code_dep  Surface  \\\n",
       "0  1370  Appartement  2016   Saint-Laurent-sur-Saône         1        9   \n",
       "1  1364       Maison  2016  Saint-Jean-sur-Reyssouze         1     1714   \n",
       "\n",
       "   Code_post  Prixm2   price  Avg_sqm  transactions     lat    lon  No_rooms  \n",
       "0       1750    1770   95397       63            37  46.310  4.843       2.7  \n",
       "1       1560    1272  140964      118            18  46.422  5.086       4.3  "
      ]
     },
     "execution_count": 152,
     "metadata": {},
     "output_type": "execute_result"
    }
   ],
   "source": [
    "df = pd.read_csv('final_data.csv', dtype = {'code_dept' : object})\n",
    "df.head(2)"
   ]
  },
  {
   "cell_type": "code",
   "execution_count": 153,
   "id": "12e8bc13",
   "metadata": {},
   "outputs": [
    {
     "data": {
      "text/plain": [
       "(50, 14)"
      ]
     },
     "execution_count": 153,
     "metadata": {},
     "output_type": "execute_result"
    }
   ],
   "source": [
    "df2 = df.head(50) # To make first checking the Encoder class, we only use the first 50 columns\n",
    "df2.shape"
   ]
  },
  {
   "cell_type": "code",
   "execution_count": 155,
   "id": "d8520c23",
   "metadata": {},
   "outputs": [
    {
     "data": {
      "text/html": [
       "<div>\n",
       "<style scoped>\n",
       "    .dataframe tbody tr th:only-of-type {\n",
       "        vertical-align: middle;\n",
       "    }\n",
       "\n",
       "    .dataframe tbody tr th {\n",
       "        vertical-align: top;\n",
       "    }\n",
       "\n",
       "    .dataframe thead th {\n",
       "        text-align: right;\n",
       "    }\n",
       "</style>\n",
       "<table border=\"1\" class=\"dataframe\">\n",
       "  <thead>\n",
       "    <tr style=\"text-align: right;\">\n",
       "      <th></th>\n",
       "      <th>code</th>\n",
       "      <th>type</th>\n",
       "      <th>Year</th>\n",
       "      <th>commune</th>\n",
       "      <th>code_dep</th>\n",
       "      <th>Surface</th>\n",
       "      <th>Code_post</th>\n",
       "      <th>Prixm2</th>\n",
       "      <th>price</th>\n",
       "      <th>Avg_sqm</th>\n",
       "      <th>transactions</th>\n",
       "      <th>lat</th>\n",
       "      <th>lon</th>\n",
       "      <th>No_rooms</th>\n",
       "    </tr>\n",
       "  </thead>\n",
       "  <tbody>\n",
       "    <tr>\n",
       "      <th>0</th>\n",
       "      <td>1370</td>\n",
       "      <td>Appartement</td>\n",
       "      <td>2016</td>\n",
       "      <td>Saint-Laurent-sur-Saône</td>\n",
       "      <td>1</td>\n",
       "      <td>9</td>\n",
       "      <td>1750</td>\n",
       "      <td>1770</td>\n",
       "      <td>95397</td>\n",
       "      <td>63</td>\n",
       "      <td>37</td>\n",
       "      <td>46.310</td>\n",
       "      <td>4.843</td>\n",
       "      <td>2.7</td>\n",
       "    </tr>\n",
       "    <tr>\n",
       "      <th>1</th>\n",
       "      <td>1364</td>\n",
       "      <td>Maison</td>\n",
       "      <td>2016</td>\n",
       "      <td>Saint-Jean-sur-Reyssouze</td>\n",
       "      <td>1</td>\n",
       "      <td>1714</td>\n",
       "      <td>1560</td>\n",
       "      <td>1272</td>\n",
       "      <td>140964</td>\n",
       "      <td>118</td>\n",
       "      <td>18</td>\n",
       "      <td>46.422</td>\n",
       "      <td>5.086</td>\n",
       "      <td>4.3</td>\n",
       "    </tr>\n",
       "  </tbody>\n",
       "</table>\n",
       "</div>"
      ],
      "text/plain": [
       "   code         type  Year                   commune  code_dep  Surface  \\\n",
       "0  1370  Appartement  2016   Saint-Laurent-sur-Saône         1        9   \n",
       "1  1364       Maison  2016  Saint-Jean-sur-Reyssouze         1     1714   \n",
       "\n",
       "   Code_post  Prixm2   price  Avg_sqm  transactions     lat    lon  No_rooms  \n",
       "0       1750    1770   95397       63            37  46.310  4.843       2.7  \n",
       "1       1560    1272  140964      118            18  46.422  5.086       4.3  "
      ]
     },
     "execution_count": 155,
     "metadata": {},
     "output_type": "execute_result"
    }
   ],
   "source": [
    "df2.head(2)"
   ]
  },
  {
   "cell_type": "code",
   "execution_count": 156,
   "id": "3ab6e66d",
   "metadata": {},
   "outputs": [],
   "source": [
    "class Encoder():\n",
    "    \n",
    "    \"\"\" Initialize dataframe\n",
    "    \"\"\"\n",
    "    def __init__(self, df):\n",
    "\n",
    "        self.df = df\n",
    "        \n",
    "    def execute_list(self, col_name):\n",
    "        \n",
    "        for col in col_name[1:]:\n",
    "            \n",
    "            L = list(self.df[col].unique())\n",
    "            if '' in L:\n",
    "                self.df[col].replace(\"\", \"NoValue\", inplace=True) #Replace NaN by \"NoCodeNature\"\n",
    "\n",
    "            ohe = OneHotEncoder(sparse = False) # Instanciate encoder\n",
    "            ohe.fit(self.df[[col]]) # Fit encoder  ---> OneHotEncoder(sparse=False)\n",
    "\n",
    "            col_encoded = ohe.transform(self.df[[col]]) # Encode\n",
    "\n",
    "            dicts_col = {}\n",
    "            keys = list(ohe.categories_[0])\n",
    "            values = col_encoded.T.astype(int)\n",
    "\n",
    "            for i,j in enumerate(keys):\n",
    "                dicts_col[j] = values[i,:]\n",
    "\n",
    "            result = pd.DataFrame.from_dict(dicts_col)\n",
    "\n",
    "            self.df = self.df.reset_index(drop=True)\n",
    "\n",
    "            #Concat df and result dataframes\n",
    "            data_res = pd.concat([self.df, result], axis = 1)\n",
    "\n",
    "            if 'NoValue' in list(data_res.columns):\n",
    "                data_res = data_res.drop(columns= ['NoValue',col] )\n",
    "            else:\n",
    "                data_res = data_res.drop(columns= col)\n",
    "\n",
    "        return data_res        \n",
    "    "
   ]
  },
  {
   "cell_type": "code",
   "execution_count": 157,
   "id": "32e92452",
   "metadata": {},
   "outputs": [
    {
     "name": "stdout",
     "output_type": "stream",
     "text": [
      "First encodeing (50, 15)\n"
     ]
    }
   ],
   "source": [
    "encoder = Encoder(df = df2)\n",
    "res = encoder.execute_list(col_name = ['commune', 'type'])\n",
    "print(\"First encodeing\", res.shape)\n"
   ]
  },
  {
   "cell_type": "code",
   "execution_count": 159,
   "id": "eef142a5",
   "metadata": {},
   "outputs": [
    {
     "data": {
      "text/html": [
       "<div>\n",
       "<style scoped>\n",
       "    .dataframe tbody tr th:only-of-type {\n",
       "        vertical-align: middle;\n",
       "    }\n",
       "\n",
       "    .dataframe tbody tr th {\n",
       "        vertical-align: top;\n",
       "    }\n",
       "\n",
       "    .dataframe thead th {\n",
       "        text-align: right;\n",
       "    }\n",
       "</style>\n",
       "<table border=\"1\" class=\"dataframe\">\n",
       "  <thead>\n",
       "    <tr style=\"text-align: right;\">\n",
       "      <th></th>\n",
       "      <th>code</th>\n",
       "      <th>Year</th>\n",
       "      <th>commune</th>\n",
       "      <th>code_dep</th>\n",
       "      <th>Surface</th>\n",
       "      <th>Code_post</th>\n",
       "      <th>Prixm2</th>\n",
       "      <th>price</th>\n",
       "      <th>Avg_sqm</th>\n",
       "      <th>transactions</th>\n",
       "      <th>lat</th>\n",
       "      <th>lon</th>\n",
       "      <th>No_rooms</th>\n",
       "      <th>Appartement</th>\n",
       "      <th>Maison</th>\n",
       "    </tr>\n",
       "  </thead>\n",
       "  <tbody>\n",
       "    <tr>\n",
       "      <th>0</th>\n",
       "      <td>1370</td>\n",
       "      <td>2016</td>\n",
       "      <td>Saint-Laurent-sur-Saône</td>\n",
       "      <td>1</td>\n",
       "      <td>9</td>\n",
       "      <td>1750</td>\n",
       "      <td>1770</td>\n",
       "      <td>95397</td>\n",
       "      <td>63</td>\n",
       "      <td>37</td>\n",
       "      <td>46.310</td>\n",
       "      <td>4.843</td>\n",
       "      <td>2.7</td>\n",
       "      <td>1</td>\n",
       "      <td>0</td>\n",
       "    </tr>\n",
       "    <tr>\n",
       "      <th>1</th>\n",
       "      <td>1364</td>\n",
       "      <td>2016</td>\n",
       "      <td>Saint-Jean-sur-Reyssouze</td>\n",
       "      <td>1</td>\n",
       "      <td>1714</td>\n",
       "      <td>1560</td>\n",
       "      <td>1272</td>\n",
       "      <td>140964</td>\n",
       "      <td>118</td>\n",
       "      <td>18</td>\n",
       "      <td>46.422</td>\n",
       "      <td>5.086</td>\n",
       "      <td>4.3</td>\n",
       "      <td>0</td>\n",
       "      <td>1</td>\n",
       "    </tr>\n",
       "  </tbody>\n",
       "</table>\n",
       "</div>"
      ],
      "text/plain": [
       "   code  Year                   commune  code_dep  Surface  Code_post  Prixm2  \\\n",
       "0  1370  2016   Saint-Laurent-sur-Saône         1        9       1750    1770   \n",
       "1  1364  2016  Saint-Jean-sur-Reyssouze         1     1714       1560    1272   \n",
       "\n",
       "    price  Avg_sqm  transactions     lat    lon  No_rooms  Appartement  Maison  \n",
       "0   95397       63            37  46.310  4.843       2.7            1       0  \n",
       "1  140964      118            18  46.422  5.086       4.3            0       1  "
      ]
     },
     "execution_count": 159,
     "metadata": {},
     "output_type": "execute_result"
    }
   ],
   "source": [
    "res.head(2)"
   ]
  },
  {
   "cell_type": "code",
   "execution_count": 144,
   "id": "cf8eff39",
   "metadata": {},
   "outputs": [
    {
     "data": {
      "text/html": [
       "<div>\n",
       "<style scoped>\n",
       "    .dataframe tbody tr th:only-of-type {\n",
       "        vertical-align: middle;\n",
       "    }\n",
       "\n",
       "    .dataframe tbody tr th {\n",
       "        vertical-align: top;\n",
       "    }\n",
       "\n",
       "    .dataframe thead th {\n",
       "        text-align: right;\n",
       "    }\n",
       "</style>\n",
       "<table border=\"1\" class=\"dataframe\">\n",
       "  <thead>\n",
       "    <tr style=\"text-align: right;\">\n",
       "      <th></th>\n",
       "      <th>code</th>\n",
       "      <th>type</th>\n",
       "      <th>Year</th>\n",
       "      <th>commune</th>\n",
       "      <th>code_dep</th>\n",
       "      <th>Surface</th>\n",
       "      <th>Code_post</th>\n",
       "      <th>Prixm2</th>\n",
       "      <th>price</th>\n",
       "      <th>Avg_sqm</th>\n",
       "      <th>transactions</th>\n",
       "      <th>lat</th>\n",
       "      <th>lon</th>\n",
       "      <th>No_rooms</th>\n",
       "    </tr>\n",
       "  </thead>\n",
       "  <tbody>\n",
       "    <tr>\n",
       "      <th>0</th>\n",
       "      <td>0</td>\n",
       "      <td>0</td>\n",
       "      <td>0</td>\n",
       "      <td>0</td>\n",
       "      <td>0</td>\n",
       "      <td>0</td>\n",
       "      <td>0</td>\n",
       "      <td>0</td>\n",
       "      <td>0</td>\n",
       "      <td>0</td>\n",
       "      <td>0</td>\n",
       "      <td>0</td>\n",
       "      <td>0</td>\n",
       "      <td>0</td>\n",
       "    </tr>\n",
       "    <tr>\n",
       "      <th>1</th>\n",
       "      <td>0</td>\n",
       "      <td>0</td>\n",
       "      <td>0</td>\n",
       "      <td>0</td>\n",
       "      <td>0</td>\n",
       "      <td>0</td>\n",
       "      <td>0</td>\n",
       "      <td>0</td>\n",
       "      <td>0</td>\n",
       "      <td>0</td>\n",
       "      <td>0</td>\n",
       "      <td>0</td>\n",
       "      <td>0</td>\n",
       "      <td>0</td>\n",
       "    </tr>\n",
       "  </tbody>\n",
       "</table>\n",
       "</div>"
      ],
      "text/plain": [
       "   code  type  Year  commune  code_dep  Surface  Code_post  Prixm2  price  \\\n",
       "0     0     0     0        0         0        0          0       0      0   \n",
       "1     0     0     0        0         0        0          0       0      0   \n",
       "\n",
       "   Avg_sqm  transactions  lat  lon  No_rooms  \n",
       "0        0             0    0    0         0  \n",
       "1        0             0    0    0         0  "
      ]
     },
     "execution_count": 144,
     "metadata": {},
     "output_type": "execute_result"
    }
   ],
   "source": [
    "df2.head(2)"
   ]
  },
  {
   "cell_type": "code",
   "execution_count": 161,
   "id": "c83e3147",
   "metadata": {},
   "outputs": [
    {
     "data": {
      "text/html": [
       "<div>\n",
       "<style scoped>\n",
       "    .dataframe tbody tr th:only-of-type {\n",
       "        vertical-align: middle;\n",
       "    }\n",
       "\n",
       "    .dataframe tbody tr th {\n",
       "        vertical-align: top;\n",
       "    }\n",
       "\n",
       "    .dataframe thead th {\n",
       "        text-align: right;\n",
       "    }\n",
       "</style>\n",
       "<table border=\"1\" class=\"dataframe\">\n",
       "  <thead>\n",
       "    <tr style=\"text-align: right;\">\n",
       "      <th></th>\n",
       "      <th>code</th>\n",
       "      <th>Year</th>\n",
       "      <th>code_dep</th>\n",
       "      <th>Surface</th>\n",
       "      <th>Code_post</th>\n",
       "      <th>Prixm2</th>\n",
       "      <th>price</th>\n",
       "      <th>Avg_sqm</th>\n",
       "      <th>transactions</th>\n",
       "      <th>lat</th>\n",
       "      <th>...</th>\n",
       "      <th>commune_Saint-Laurent-sur-Saône</th>\n",
       "      <th>commune_Saint-Martin-du-Mont</th>\n",
       "      <th>commune_Saint-Étienne-du-Bois</th>\n",
       "      <th>commune_Tossiat</th>\n",
       "      <th>commune_Val-Revermont</th>\n",
       "      <th>commune_Vernoux</th>\n",
       "      <th>commune_Villereversure</th>\n",
       "      <th>commune_Viriat</th>\n",
       "      <th>type_Appartement</th>\n",
       "      <th>type_Maison</th>\n",
       "    </tr>\n",
       "  </thead>\n",
       "  <tbody>\n",
       "    <tr>\n",
       "      <th>0</th>\n",
       "      <td>1370</td>\n",
       "      <td>2016</td>\n",
       "      <td>1</td>\n",
       "      <td>9</td>\n",
       "      <td>1750</td>\n",
       "      <td>1770</td>\n",
       "      <td>95397</td>\n",
       "      <td>63</td>\n",
       "      <td>37</td>\n",
       "      <td>46.310</td>\n",
       "      <td>...</td>\n",
       "      <td>1</td>\n",
       "      <td>0</td>\n",
       "      <td>0</td>\n",
       "      <td>0</td>\n",
       "      <td>0</td>\n",
       "      <td>0</td>\n",
       "      <td>0</td>\n",
       "      <td>0</td>\n",
       "      <td>1</td>\n",
       "      <td>0</td>\n",
       "    </tr>\n",
       "    <tr>\n",
       "      <th>1</th>\n",
       "      <td>1364</td>\n",
       "      <td>2016</td>\n",
       "      <td>1</td>\n",
       "      <td>1714</td>\n",
       "      <td>1560</td>\n",
       "      <td>1272</td>\n",
       "      <td>140964</td>\n",
       "      <td>118</td>\n",
       "      <td>18</td>\n",
       "      <td>46.422</td>\n",
       "      <td>...</td>\n",
       "      <td>0</td>\n",
       "      <td>0</td>\n",
       "      <td>0</td>\n",
       "      <td>0</td>\n",
       "      <td>0</td>\n",
       "      <td>0</td>\n",
       "      <td>0</td>\n",
       "      <td>0</td>\n",
       "      <td>0</td>\n",
       "      <td>1</td>\n",
       "    </tr>\n",
       "  </tbody>\n",
       "</table>\n",
       "<p>2 rows × 60 columns</p>\n",
       "</div>"
      ],
      "text/plain": [
       "   code  Year  code_dep  Surface  Code_post  Prixm2   price  Avg_sqm  \\\n",
       "0  1370  2016         1        9       1750    1770   95397       63   \n",
       "1  1364  2016         1     1714       1560    1272  140964      118   \n",
       "\n",
       "   transactions     lat  ...  commune_Saint-Laurent-sur-Saône  \\\n",
       "0            37  46.310  ...                                1   \n",
       "1            18  46.422  ...                                0   \n",
       "\n",
       "   commune_Saint-Martin-du-Mont  commune_Saint-Étienne-du-Bois  \\\n",
       "0                             0                              0   \n",
       "1                             0                              0   \n",
       "\n",
       "   commune_Tossiat  commune_Val-Revermont  commune_Vernoux  \\\n",
       "0                0                      0                0   \n",
       "1                0                      0                0   \n",
       "\n",
       "   commune_Villereversure  commune_Viriat  type_Appartement  type_Maison  \n",
       "0                       0               0                 1            0  \n",
       "1                       0               0                 0            1  \n",
       "\n",
       "[2 rows x 60 columns]"
      ]
     },
     "execution_count": 161,
     "metadata": {},
     "output_type": "execute_result"
    }
   ],
   "source": [
    "one_hot_encoded_data = pd.get_dummies(df2, columns = ['commune', 'type'])\n",
    "one_hot_encoded_data.head(2)"
   ]
  },
  {
   "cell_type": "code",
   "execution_count": 162,
   "id": "2d96f31a",
   "metadata": {},
   "outputs": [
    {
     "data": {
      "text/plain": [
       "(50, 60)"
      ]
     },
     "execution_count": 162,
     "metadata": {},
     "output_type": "execute_result"
    }
   ],
   "source": [
    "one_hot_encoded_data.shape"
   ]
  },
  {
   "cell_type": "code",
   "execution_count": 175,
   "id": "28528c58",
   "metadata": {},
   "outputs": [
    {
     "data": {
      "text/plain": [
       "(50, 60)"
      ]
     },
     "execution_count": 175,
     "metadata": {},
     "output_type": "execute_result"
    }
   ],
   "source": [
    "def transform_string(string, separator):\n",
    "    L = string.split(separator)\n",
    "    return L[1:][0] if L[0] in ['commune', 'type'] else string\n",
    "\n",
    "new_names = []\n",
    "\n",
    "for col in one_hot_encoded_data.columns:\n",
    "    #one_hot_encoded_data.col = one_hot_encoded_data.apply(lambda x: transform_string(x,'_'))\n",
    "    \n",
    "    col = transform_string(string = col, separator = '_')\n",
    "    new_names.append(col)\n",
    "    \n",
    "\n",
    "one_hot_encoded_data.columns = new_names\n",
    "one_hot_encoded_data.shape"
   ]
  },
  {
   "cell_type": "code",
   "execution_count": 176,
   "id": "2a1118fa",
   "metadata": {},
   "outputs": [
    {
     "data": {
      "text/html": [
       "<div>\n",
       "<style scoped>\n",
       "    .dataframe tbody tr th:only-of-type {\n",
       "        vertical-align: middle;\n",
       "    }\n",
       "\n",
       "    .dataframe tbody tr th {\n",
       "        vertical-align: top;\n",
       "    }\n",
       "\n",
       "    .dataframe thead th {\n",
       "        text-align: right;\n",
       "    }\n",
       "</style>\n",
       "<table border=\"1\" class=\"dataframe\">\n",
       "  <thead>\n",
       "    <tr style=\"text-align: right;\">\n",
       "      <th></th>\n",
       "      <th>code</th>\n",
       "      <th>Year</th>\n",
       "      <th>code_dep</th>\n",
       "      <th>Surface</th>\n",
       "      <th>Code_post</th>\n",
       "      <th>Prixm2</th>\n",
       "      <th>price</th>\n",
       "      <th>Avg_sqm</th>\n",
       "      <th>transactions</th>\n",
       "      <th>lat</th>\n",
       "      <th>...</th>\n",
       "      <th>Saint-Laurent-sur-Saône</th>\n",
       "      <th>Saint-Martin-du-Mont</th>\n",
       "      <th>Saint-Étienne-du-Bois</th>\n",
       "      <th>Tossiat</th>\n",
       "      <th>Val-Revermont</th>\n",
       "      <th>Vernoux</th>\n",
       "      <th>Villereversure</th>\n",
       "      <th>Viriat</th>\n",
       "      <th>Appartement</th>\n",
       "      <th>Maison</th>\n",
       "    </tr>\n",
       "  </thead>\n",
       "  <tbody>\n",
       "    <tr>\n",
       "      <th>0</th>\n",
       "      <td>1370</td>\n",
       "      <td>2016</td>\n",
       "      <td>1</td>\n",
       "      <td>9</td>\n",
       "      <td>1750</td>\n",
       "      <td>1770</td>\n",
       "      <td>95397</td>\n",
       "      <td>63</td>\n",
       "      <td>37</td>\n",
       "      <td>46.310</td>\n",
       "      <td>...</td>\n",
       "      <td>1</td>\n",
       "      <td>0</td>\n",
       "      <td>0</td>\n",
       "      <td>0</td>\n",
       "      <td>0</td>\n",
       "      <td>0</td>\n",
       "      <td>0</td>\n",
       "      <td>0</td>\n",
       "      <td>1</td>\n",
       "      <td>0</td>\n",
       "    </tr>\n",
       "    <tr>\n",
       "      <th>1</th>\n",
       "      <td>1364</td>\n",
       "      <td>2016</td>\n",
       "      <td>1</td>\n",
       "      <td>1714</td>\n",
       "      <td>1560</td>\n",
       "      <td>1272</td>\n",
       "      <td>140964</td>\n",
       "      <td>118</td>\n",
       "      <td>18</td>\n",
       "      <td>46.422</td>\n",
       "      <td>...</td>\n",
       "      <td>0</td>\n",
       "      <td>0</td>\n",
       "      <td>0</td>\n",
       "      <td>0</td>\n",
       "      <td>0</td>\n",
       "      <td>0</td>\n",
       "      <td>0</td>\n",
       "      <td>0</td>\n",
       "      <td>0</td>\n",
       "      <td>1</td>\n",
       "    </tr>\n",
       "  </tbody>\n",
       "</table>\n",
       "<p>2 rows × 60 columns</p>\n",
       "</div>"
      ],
      "text/plain": [
       "   code  Year  code_dep  Surface  Code_post  Prixm2   price  Avg_sqm  \\\n",
       "0  1370  2016         1        9       1750    1770   95397       63   \n",
       "1  1364  2016         1     1714       1560    1272  140964      118   \n",
       "\n",
       "   transactions     lat  ...  Saint-Laurent-sur-Saône  Saint-Martin-du-Mont  \\\n",
       "0            37  46.310  ...                        1                     0   \n",
       "1            18  46.422  ...                        0                     0   \n",
       "\n",
       "   Saint-Étienne-du-Bois  Tossiat  Val-Revermont  Vernoux  Villereversure  \\\n",
       "0                      0        0              0        0               0   \n",
       "1                      0        0              0        0               0   \n",
       "\n",
       "   Viriat  Appartement  Maison  \n",
       "0       0            1       0  \n",
       "1       0            0       1  \n",
       "\n",
       "[2 rows x 60 columns]"
      ]
     },
     "execution_count": 176,
     "metadata": {},
     "output_type": "execute_result"
    }
   ],
   "source": [
    "one_hot_encoded_data.head(2)"
   ]
  },
  {
   "cell_type": "code",
   "execution_count": null,
   "id": "692bbb0e",
   "metadata": {},
   "outputs": [],
   "source": []
  },
  {
   "cell_type": "markdown",
   "id": "268b27e3",
   "metadata": {},
   "source": [
    "# check if there are '_' separator in the columns \"specially catgorical ones \""
   ]
  },
  {
   "cell_type": "code",
   "execution_count": 177,
   "id": "cc00a756",
   "metadata": {},
   "outputs": [
    {
     "data": {
      "text/html": [
       "<div>\n",
       "<style scoped>\n",
       "    .dataframe tbody tr th:only-of-type {\n",
       "        vertical-align: middle;\n",
       "    }\n",
       "\n",
       "    .dataframe tbody tr th {\n",
       "        vertical-align: top;\n",
       "    }\n",
       "\n",
       "    .dataframe thead th {\n",
       "        text-align: right;\n",
       "    }\n",
       "</style>\n",
       "<table border=\"1\" class=\"dataframe\">\n",
       "  <thead>\n",
       "    <tr style=\"text-align: right;\">\n",
       "      <th></th>\n",
       "      <th>code</th>\n",
       "      <th>type</th>\n",
       "      <th>Year</th>\n",
       "      <th>commune</th>\n",
       "      <th>code_dep</th>\n",
       "      <th>Surface</th>\n",
       "      <th>Code_post</th>\n",
       "      <th>Prixm2</th>\n",
       "      <th>price</th>\n",
       "      <th>Avg_sqm</th>\n",
       "      <th>transactions</th>\n",
       "      <th>lat</th>\n",
       "      <th>lon</th>\n",
       "      <th>No_rooms</th>\n",
       "    </tr>\n",
       "  </thead>\n",
       "  <tbody>\n",
       "    <tr>\n",
       "      <th>0</th>\n",
       "      <td>1370</td>\n",
       "      <td>Appartement</td>\n",
       "      <td>2016</td>\n",
       "      <td>Saint-Laurent-sur-Saône</td>\n",
       "      <td>1</td>\n",
       "      <td>9</td>\n",
       "      <td>1750</td>\n",
       "      <td>1770</td>\n",
       "      <td>95397</td>\n",
       "      <td>63</td>\n",
       "      <td>37</td>\n",
       "      <td>46.310</td>\n",
       "      <td>4.843</td>\n",
       "      <td>2.7</td>\n",
       "    </tr>\n",
       "    <tr>\n",
       "      <th>1</th>\n",
       "      <td>1364</td>\n",
       "      <td>Maison</td>\n",
       "      <td>2016</td>\n",
       "      <td>Saint-Jean-sur-Reyssouze</td>\n",
       "      <td>1</td>\n",
       "      <td>1714</td>\n",
       "      <td>1560</td>\n",
       "      <td>1272</td>\n",
       "      <td>140964</td>\n",
       "      <td>118</td>\n",
       "      <td>18</td>\n",
       "      <td>46.422</td>\n",
       "      <td>5.086</td>\n",
       "      <td>4.3</td>\n",
       "    </tr>\n",
       "  </tbody>\n",
       "</table>\n",
       "</div>"
      ],
      "text/plain": [
       "   code         type  Year                   commune  code_dep  Surface  \\\n",
       "0  1370  Appartement  2016   Saint-Laurent-sur-Saône         1        9   \n",
       "1  1364       Maison  2016  Saint-Jean-sur-Reyssouze         1     1714   \n",
       "\n",
       "   Code_post  Prixm2   price  Avg_sqm  transactions     lat    lon  No_rooms  \n",
       "0       1750    1770   95397       63            37  46.310  4.843       2.7  \n",
       "1       1560    1272  140964      118            18  46.422  5.086       4.3  "
      ]
     },
     "execution_count": 177,
     "metadata": {},
     "output_type": "execute_result"
    }
   ],
   "source": [
    "df = pd.read_csv('final_data.csv', dtype = {'code_dept' : object})\n",
    "df.head(2)"
   ]
  },
  {
   "cell_type": "code",
   "execution_count": 198,
   "id": "e3382b73",
   "metadata": {},
   "outputs": [
    {
     "name": "stderr",
     "output_type": "stream",
     "text": [
      "/var/folders/5y/6hfgq7bn3rxfh24y7vqbgg7w0000gn/T/ipykernel_40026/90635736.py:3: DeprecationWarning: The truth value of an empty array is ambiguous. Returning False, but in future this will result in an error. Use `array.size > 0` to check that an array is not empty.\n",
      "  if X & (df[col].dtype == 'object'):\n"
     ]
    }
   ],
   "source": [
    "for col in df.columns:\n",
    "    X = np.where('_' in col) == np.zeros(1)\n",
    "    if X : #& (df[col].dtype == 'object'):\n",
    "        print(\"********   \", col, df[col].dtype)"
   ]
  },
  {
   "cell_type": "code",
   "execution_count": 190,
   "id": "30a35eb7",
   "metadata": {},
   "outputs": [
    {
     "data": {
      "text/plain": [
       "code              int64\n",
       "type             object\n",
       "Year              int64\n",
       "commune          object\n",
       "code_dep          int64\n",
       "Surface           int64\n",
       "Code_post         int64\n",
       "Prixm2            int64\n",
       "price             int64\n",
       "Avg_sqm           int64\n",
       "transactions      int64\n",
       "lat             float64\n",
       "lon             float64\n",
       "No_rooms        float64\n",
       "dtype: object"
      ]
     },
     "execution_count": 190,
     "metadata": {},
     "output_type": "execute_result"
    }
   ],
   "source": [
    "df2.dtypes"
   ]
  },
  {
   "cell_type": "code",
   "execution_count": 199,
   "id": "68b97b7a",
   "metadata": {},
   "outputs": [
    {
     "name": "stderr",
     "output_type": "stream",
     "text": [
      "/var/folders/5y/6hfgq7bn3rxfh24y7vqbgg7w0000gn/T/ipykernel_40026/2079634571.py:5: DeprecationWarning: The truth value of an empty array is ambiguous. Returning False, but in future this will result in an error. Use `array.size > 0` to check that an array is not empty.\n",
      "  if X : #& (df[col].dtype == 'object'):\n"
     ]
    },
    {
     "data": {
      "text/plain": [
       "['code_dep', 'Code_post', 'Avg_sqm', 'No_rooms']"
      ]
     },
     "execution_count": 199,
     "metadata": {},
     "output_type": "execute_result"
    }
   ],
   "source": [
    "def get_columns_with_separator(df, separator):\n",
    "    cols_list = []\n",
    "    for col in df.columns:\n",
    "        X = np.where(separator in col) == np.zeros(1)\n",
    "        if X : #& (df[col].dtype == 'object'):\n",
    "            cols_list.append(col)\n",
    "    return cols_list \n",
    "\n",
    "\n",
    "get_columns_with_separator(df= df2, separator= '_')"
   ]
  },
  {
   "cell_type": "code",
   "execution_count": 203,
   "id": "ce3cd7b8",
   "metadata": {},
   "outputs": [
    {
     "name": "stderr",
     "output_type": "stream",
     "text": [
      "/var/folders/5y/6hfgq7bn3rxfh24y7vqbgg7w0000gn/T/ipykernel_40026/667493550.py:5: DeprecationWarning: The truth value of an empty array is ambiguous. Returning False, but in future this will result in an error. Use `array.size > 0` to check that an array is not empty.\n",
      "  if X : #& (df[col].dtype == 'object'):\n"
     ]
    },
    {
     "data": {
      "text/plain": [
       "['code-dep', 'Code-post', 'Avg-sqm', 'No-rooms']"
      ]
     },
     "execution_count": 203,
     "metadata": {},
     "output_type": "execute_result"
    }
   ],
   "source": [
    "def modify_separator_of_columns_dataframe(df, old_separator, new_separator):\n",
    "    cols_list = []\n",
    "    for col in df.columns:\n",
    "        X = np.where(old_separator in col) == np.zeros(1)\n",
    "        if X : #& (df[col].dtype == 'object'):\n",
    "            col = col.replace(old_separator, new_separator)\n",
    "            cols_list.append(col)\n",
    "    return cols_list \n",
    "\n",
    "\n",
    "modify_separator_of_columns_dataframe(df= df2, old_separator= '_', new_separator = '-')"
   ]
  },
  {
   "cell_type": "code",
   "execution_count": 209,
   "id": "2780d0e9",
   "metadata": {},
   "outputs": [
    {
     "name": "stderr",
     "output_type": "stream",
     "text": [
      "/var/folders/5y/6hfgq7bn3rxfh24y7vqbgg7w0000gn/T/ipykernel_40026/3054004782.py:8: DeprecationWarning: The truth value of an empty array is ambiguous. Returning False, but in future this will result in an error. Use `array.size > 0` to check that an array is not empty.\n",
      "  if X : #& (df[col].dtype == 'object'):\n"
     ]
    },
    {
     "data": {
      "text/html": [
       "<div>\n",
       "<style scoped>\n",
       "    .dataframe tbody tr th:only-of-type {\n",
       "        vertical-align: middle;\n",
       "    }\n",
       "\n",
       "    .dataframe tbody tr th {\n",
       "        vertical-align: top;\n",
       "    }\n",
       "\n",
       "    .dataframe thead th {\n",
       "        text-align: right;\n",
       "    }\n",
       "</style>\n",
       "<table border=\"1\" class=\"dataframe\">\n",
       "  <thead>\n",
       "    <tr style=\"text-align: right;\">\n",
       "      <th></th>\n",
       "      <th>code</th>\n",
       "      <th>Year</th>\n",
       "      <th>code_dep</th>\n",
       "      <th>Surface</th>\n",
       "      <th>Code_post</th>\n",
       "      <th>Prixm2</th>\n",
       "      <th>price</th>\n",
       "      <th>Avg_sqm</th>\n",
       "      <th>transactions</th>\n",
       "      <th>lat</th>\n",
       "      <th>...</th>\n",
       "      <th>commune_Saint-Laurent-sur-Saône</th>\n",
       "      <th>commune_Saint-Martin-du-Mont</th>\n",
       "      <th>commune_Saint-Étienne-du-Bois</th>\n",
       "      <th>commune_Tossiat</th>\n",
       "      <th>commune_Val-Revermont</th>\n",
       "      <th>commune_Vernoux</th>\n",
       "      <th>commune_Villereversure</th>\n",
       "      <th>commune_Viriat</th>\n",
       "      <th>type_Appartement</th>\n",
       "      <th>type_Maison</th>\n",
       "    </tr>\n",
       "  </thead>\n",
       "  <tbody>\n",
       "    <tr>\n",
       "      <th>0</th>\n",
       "      <td>1370</td>\n",
       "      <td>2016</td>\n",
       "      <td>1</td>\n",
       "      <td>9</td>\n",
       "      <td>1750</td>\n",
       "      <td>1770</td>\n",
       "      <td>95397</td>\n",
       "      <td>63</td>\n",
       "      <td>37</td>\n",
       "      <td>46.310</td>\n",
       "      <td>...</td>\n",
       "      <td>1</td>\n",
       "      <td>0</td>\n",
       "      <td>0</td>\n",
       "      <td>0</td>\n",
       "      <td>0</td>\n",
       "      <td>0</td>\n",
       "      <td>0</td>\n",
       "      <td>0</td>\n",
       "      <td>1</td>\n",
       "      <td>0</td>\n",
       "    </tr>\n",
       "    <tr>\n",
       "      <th>1</th>\n",
       "      <td>1364</td>\n",
       "      <td>2016</td>\n",
       "      <td>1</td>\n",
       "      <td>1714</td>\n",
       "      <td>1560</td>\n",
       "      <td>1272</td>\n",
       "      <td>140964</td>\n",
       "      <td>118</td>\n",
       "      <td>18</td>\n",
       "      <td>46.422</td>\n",
       "      <td>...</td>\n",
       "      <td>0</td>\n",
       "      <td>0</td>\n",
       "      <td>0</td>\n",
       "      <td>0</td>\n",
       "      <td>0</td>\n",
       "      <td>0</td>\n",
       "      <td>0</td>\n",
       "      <td>0</td>\n",
       "      <td>0</td>\n",
       "      <td>1</td>\n",
       "    </tr>\n",
       "  </tbody>\n",
       "</table>\n",
       "<p>2 rows × 60 columns</p>\n",
       "</div>"
      ],
      "text/plain": [
       "   code  Year  code_dep  Surface  Code_post  Prixm2   price  Avg_sqm  \\\n",
       "0  1370  2016         1        9       1750    1770   95397       63   \n",
       "1  1364  2016         1     1714       1560    1272  140964      118   \n",
       "\n",
       "   transactions     lat  ...  commune_Saint-Laurent-sur-Saône  \\\n",
       "0            37  46.310  ...                                1   \n",
       "1            18  46.422  ...                                0   \n",
       "\n",
       "   commune_Saint-Martin-du-Mont  commune_Saint-Étienne-du-Bois  \\\n",
       "0                             0                              0   \n",
       "1                             0                              0   \n",
       "\n",
       "   commune_Tossiat  commune_Val-Revermont  commune_Vernoux  \\\n",
       "0                0                      0                0   \n",
       "1                0                      0                0   \n",
       "\n",
       "   commune_Villereversure  commune_Viriat  type_Appartement  type_Maison  \n",
       "0                       0               0                 1            0  \n",
       "1                       0               0                 0            1  \n",
       "\n",
       "[2 rows x 60 columns]"
      ]
     },
     "execution_count": 209,
     "metadata": {},
     "output_type": "execute_result"
    }
   ],
   "source": [
    "df = pd.read_csv('final_data.csv', dtype = {'code_dept' : object})\n",
    "df2 = df.head(50) # To make first checking the Encoder class, we only use the first 50 columns\n",
    "\n",
    "def modify_separator_of_columns_dataframe(df, old_separator, new_separator):\n",
    "    cols_list = []\n",
    "    for col in df.columns:\n",
    "        X = np.where(old_separator in col) == np.zeros(1)\n",
    "        if X : #& (df[col].dtype == 'object'):\n",
    "            col = col.replace(old_separator, new_separator)\n",
    "            cols_list.append(col)\n",
    "    return cols_list \n",
    "\n",
    "\n",
    "new_df = modify_separator_of_columns_dataframe(df= one_hot_encoded_df, old_separator= '_', new_separator = '-')\n",
    "\n",
    "\n",
    "one_hot_encoded_df = pd.get_dummies(df2, columns = ['commune', 'type'])\n",
    "one_hot_encoded_df.head(2)"
   ]
  },
  {
   "cell_type": "code",
   "execution_count": null,
   "id": "ed243732",
   "metadata": {},
   "outputs": [],
   "source": [
    "def transform_columns_dataframe(string, separator):\n",
    "    L = string.split(separator)\n",
    "    return L[1:][0] if L[0] in ['commune', 'type'] else string"
   ]
  },
  {
   "cell_type": "code",
   "execution_count": 211,
   "id": "32ee9009",
   "metadata": {},
   "outputs": [
    {
     "data": {
      "text/plain": [
       "(50, 60)"
      ]
     },
     "execution_count": 211,
     "metadata": {},
     "output_type": "execute_result"
    }
   ],
   "source": [
    "new_names = []\n",
    "\n",
    "for col in one_hot_encoded_df.columns:\n",
    "    #one_hot_encoded_data.col = one_hot_encoded_data.apply(lambda x: transform_string(x,'_'))\n",
    "    \n",
    "    col = transform_string(string = col, separator = '_')\n",
    "    new_names.append(col)\n",
    "    \n",
    "\n",
    "one_hot_encoded_df.columns = new_names\n",
    "one_hot_encoded_df.shape"
   ]
  },
  {
   "cell_type": "code",
   "execution_count": 212,
   "id": "81af01c0",
   "metadata": {},
   "outputs": [
    {
     "data": {
      "text/html": [
       "<div>\n",
       "<style scoped>\n",
       "    .dataframe tbody tr th:only-of-type {\n",
       "        vertical-align: middle;\n",
       "    }\n",
       "\n",
       "    .dataframe tbody tr th {\n",
       "        vertical-align: top;\n",
       "    }\n",
       "\n",
       "    .dataframe thead th {\n",
       "        text-align: right;\n",
       "    }\n",
       "</style>\n",
       "<table border=\"1\" class=\"dataframe\">\n",
       "  <thead>\n",
       "    <tr style=\"text-align: right;\">\n",
       "      <th></th>\n",
       "      <th>code</th>\n",
       "      <th>Year</th>\n",
       "      <th>code_dep</th>\n",
       "      <th>Surface</th>\n",
       "      <th>Code_post</th>\n",
       "      <th>Prixm2</th>\n",
       "      <th>price</th>\n",
       "      <th>Avg_sqm</th>\n",
       "      <th>transactions</th>\n",
       "      <th>lat</th>\n",
       "      <th>...</th>\n",
       "      <th>Saint-Laurent-sur-Saône</th>\n",
       "      <th>Saint-Martin-du-Mont</th>\n",
       "      <th>Saint-Étienne-du-Bois</th>\n",
       "      <th>Tossiat</th>\n",
       "      <th>Val-Revermont</th>\n",
       "      <th>Vernoux</th>\n",
       "      <th>Villereversure</th>\n",
       "      <th>Viriat</th>\n",
       "      <th>Appartement</th>\n",
       "      <th>Maison</th>\n",
       "    </tr>\n",
       "  </thead>\n",
       "  <tbody>\n",
       "    <tr>\n",
       "      <th>0</th>\n",
       "      <td>1370</td>\n",
       "      <td>2016</td>\n",
       "      <td>1</td>\n",
       "      <td>9</td>\n",
       "      <td>1750</td>\n",
       "      <td>1770</td>\n",
       "      <td>95397</td>\n",
       "      <td>63</td>\n",
       "      <td>37</td>\n",
       "      <td>46.310</td>\n",
       "      <td>...</td>\n",
       "      <td>1</td>\n",
       "      <td>0</td>\n",
       "      <td>0</td>\n",
       "      <td>0</td>\n",
       "      <td>0</td>\n",
       "      <td>0</td>\n",
       "      <td>0</td>\n",
       "      <td>0</td>\n",
       "      <td>1</td>\n",
       "      <td>0</td>\n",
       "    </tr>\n",
       "    <tr>\n",
       "      <th>1</th>\n",
       "      <td>1364</td>\n",
       "      <td>2016</td>\n",
       "      <td>1</td>\n",
       "      <td>1714</td>\n",
       "      <td>1560</td>\n",
       "      <td>1272</td>\n",
       "      <td>140964</td>\n",
       "      <td>118</td>\n",
       "      <td>18</td>\n",
       "      <td>46.422</td>\n",
       "      <td>...</td>\n",
       "      <td>0</td>\n",
       "      <td>0</td>\n",
       "      <td>0</td>\n",
       "      <td>0</td>\n",
       "      <td>0</td>\n",
       "      <td>0</td>\n",
       "      <td>0</td>\n",
       "      <td>0</td>\n",
       "      <td>0</td>\n",
       "      <td>1</td>\n",
       "    </tr>\n",
       "  </tbody>\n",
       "</table>\n",
       "<p>2 rows × 60 columns</p>\n",
       "</div>"
      ],
      "text/plain": [
       "   code  Year  code_dep  Surface  Code_post  Prixm2   price  Avg_sqm  \\\n",
       "0  1370  2016         1        9       1750    1770   95397       63   \n",
       "1  1364  2016         1     1714       1560    1272  140964      118   \n",
       "\n",
       "   transactions     lat  ...  Saint-Laurent-sur-Saône  Saint-Martin-du-Mont  \\\n",
       "0            37  46.310  ...                        1                     0   \n",
       "1            18  46.422  ...                        0                     0   \n",
       "\n",
       "   Saint-Étienne-du-Bois  Tossiat  Val-Revermont  Vernoux  Villereversure  \\\n",
       "0                      0        0              0        0               0   \n",
       "1                      0        0              0        0               0   \n",
       "\n",
       "   Viriat  Appartement  Maison  \n",
       "0       0            1       0  \n",
       "1       0            0       1  \n",
       "\n",
       "[2 rows x 60 columns]"
      ]
     },
     "execution_count": 212,
     "metadata": {},
     "output_type": "execute_result"
    }
   ],
   "source": [
    "one_hot_encoded_df.head(2)"
   ]
  },
  {
   "cell_type": "code",
   "execution_count": null,
   "id": "583afcd2",
   "metadata": {},
   "outputs": [],
   "source": []
  }
 ],
 "metadata": {
  "kernelspec": {
   "display_name": "Python 3 (ipykernel)",
   "language": "python",
   "name": "python3"
  },
  "language_info": {
   "codemirror_mode": {
    "name": "ipython",
    "version": 3
   },
   "file_extension": ".py",
   "mimetype": "text/x-python",
   "name": "python",
   "nbconvert_exporter": "python",
   "pygments_lexer": "ipython3",
   "version": "3.8.6"
  },
  "toc": {
   "base_numbering": 1,
   "nav_menu": {},
   "number_sections": true,
   "sideBar": true,
   "skip_h1_title": false,
   "title_cell": "Table of Contents",
   "title_sidebar": "Contents",
   "toc_cell": false,
   "toc_position": {
    "height": "calc(100% - 180px)",
    "left": "10px",
    "top": "150px",
    "width": "360px"
   },
   "toc_section_display": true,
   "toc_window_display": true
  }
 },
 "nbformat": 4,
 "nbformat_minor": 5
}
