{
 "cells": [
  {
   "cell_type": "markdown",
   "id": "270989fa",
   "metadata": {},
   "source": [
    "# DecisionTreeClassifier"
   ]
  },
  {
   "cell_type": "code",
   "execution_count": 2,
   "id": "b05f8a83",
   "metadata": {},
   "outputs": [],
   "source": [
    "import pandas as pd\n",
    "from sklearn.tree import DecisionTreeClassifier\n",
    "from sklearn.model_selection import train_test_split\n"
   ]
  },
  {
   "cell_type": "code",
   "execution_count": 18,
   "id": "b10ad996",
   "metadata": {},
   "outputs": [
    {
     "name": "stdout",
     "output_type": "stream",
     "text": [
      "score:  0.9555555555555556\n",
      "prédiction:  ['setosa']\n",
      "Résultat : setosa\n",
      "                      ***   prédiction Prob       :  [[1. 0. 0.]]\n",
      " ########     ######### \n",
      "Accuracy of DecisionTreeClassifier on training set: 0.99\n",
      "Accuracy of DecisionTreeClassifier on test set: 0.96\n",
      " ########     #########  \n"
     ]
    }
   ],
   "source": [
    "#traitement du fichier csv\n",
    "df = pd.read_csv('iris.csv')\n",
    "a = df.loc[:,\"petal_length\"]\n",
    "b = df.loc[:,\"petal_width\"]\n",
    "X = list(zip(a, b))\n",
    "y = df.loc[:,\"species\"] # target\n",
    "\n",
    "#fractionner dataset (train-test)\n",
    "X_train, X_test, y_train, y_test = train_test_split(X, y, test_size=0.3)\n",
    "#instanciation\n",
    "model_DT = DecisionTreeClassifier() # DecisionTreeClassifier(max_depth = 3, min_samples_leaf = 2 )\n",
    "\n",
    "#training\n",
    "model_DT.fit( X_train, y_train)\n",
    "#calcule de précision\n",
    "print(\"score: \",  model_DT.score( X_test, y_test))\n",
    "#Prédiction\n",
    "longueur = 2.5\n",
    "largeur = 0.75\n",
    "prediction = model_DT.predict( [[longueur, largeur]])\n",
    "print(\"prédiction: \", prediction)\n",
    "\n",
    "#affichage des résultats\n",
    "resultat = \"Résultat : \" + prediction[0]\n",
    "print(resultat)\n",
    "\n",
    "pred_prob = model_DT.predict_proba([[2.5,0.75]])\n",
    "print(\"                      ***   prédiction Prob       : \", pred_prob)\n",
    "\n",
    "\n",
    "print( \" ########     ######### \")\n",
    "print('Accuracy of DecisionTreeClassifier on training set: {:.2f}'\n",
    "     .format(model_DT.score(X_train, y_train)))\n",
    "print('Accuracy of DecisionTreeClassifier on test set: {:.2f}'\n",
    "     .format(model_DT.score(X_test, y_test)))\n",
    "print( \" ########     #########  \")"
   ]
  },
  {
   "cell_type": "code",
   "execution_count": 14,
   "id": "00c317b5",
   "metadata": {},
   "outputs": [
    {
     "data": {
      "text/plain": [
       "array(['setosa', 'versicolor', 'virginica'], dtype=object)"
      ]
     },
     "execution_count": 14,
     "metadata": {},
     "output_type": "execute_result"
    }
   ],
   "source": [
    "df['species'].unique() #value_counts()"
   ]
  },
  {
   "cell_type": "markdown",
   "id": "1896000f",
   "metadata": {},
   "source": [
    "**Attributs :**\n",
    "\n",
    "* **max_depth :** Ce paramètre détermine la profondeur maximale de l’arbre. Il prend par défaut la valeur None qui revient à dire que les nœuds vont se développer jusqu’à ce que toutes les feuilles soient pures.\n",
    "\n",
    "* **min_samples_leaf :** Ce paramètre donne le nombre minimum d’échantillons requis pour se retrouver à un nœud de feuille. Sa valeur par défaut est 1.\n",
    "\n",
    "* **criterion :** Représente la fonction de mesure de la qualité d’une scission. Il peut prendre soit le critère « gini » qui correspond à l’impureté de Gini, soit « entropy » qui correspond au gain d’informations. Sa valeur par défaut est « gini ».\n",
    "\n",
    "\n"
   ]
  },
  {
   "cell_type": "code",
   "execution_count": null,
   "id": "8bcc2f74",
   "metadata": {},
   "outputs": [],
   "source": []
  }
 ],
 "metadata": {
  "kernelspec": {
   "display_name": "Python 3 (ipykernel)",
   "language": "python",
   "name": "python3"
  },
  "language_info": {
   "codemirror_mode": {
    "name": "ipython",
    "version": 3
   },
   "file_extension": ".py",
   "mimetype": "text/x-python",
   "name": "python",
   "nbconvert_exporter": "python",
   "pygments_lexer": "ipython3",
   "version": "3.8.6"
  },
  "toc": {
   "base_numbering": 1,
   "nav_menu": {},
   "number_sections": true,
   "sideBar": true,
   "skip_h1_title": false,
   "title_cell": "Table of Contents",
   "title_sidebar": "Contents",
   "toc_cell": false,
   "toc_position": {},
   "toc_section_display": true,
   "toc_window_display": true
  }
 },
 "nbformat": 4,
 "nbformat_minor": 5
}
