{
 "cells": [
  {
   "cell_type": "code",
   "execution_count": 2,
   "id": "c5f6b6c4",
   "metadata": {},
   "outputs": [],
   "source": [
    "import numpy as np"
   ]
  },
  {
   "cell_type": "code",
   "execution_count": 3,
   "id": "e7e0b221",
   "metadata": {},
   "outputs": [
    {
     "data": {
      "text/plain": [
       "array([0, 1, 2, 3, 4, 5, 6, 7, 8, 9])"
      ]
     },
     "execution_count": 3,
     "metadata": {},
     "output_type": "execute_result"
    }
   ],
   "source": [
    "a = np.arange(10)\n",
    "a"
   ]
  },
  {
   "cell_type": "code",
   "execution_count": 4,
   "id": "430b5a8c",
   "metadata": {},
   "outputs": [
    {
     "data": {
      "text/plain": [
       "array([0, 0, 0, 0, 0, 1, 1, 1, 1, 1])"
      ]
     },
     "execution_count": 4,
     "metadata": {},
     "output_type": "execute_result"
    }
   ],
   "source": [
    "np.where(a < 5, 0, 1)"
   ]
  },
  {
   "cell_type": "code",
   "execution_count": 5,
   "id": "141a9816",
   "metadata": {},
   "outputs": [
    {
     "name": "stdout",
     "output_type": "stream",
     "text": [
      "arr :  [20, 2, 7, 1, 34]\n",
      "50th percentile of arr :  7.0\n",
      "25th percentile of arr :  2.0\n",
      "75th percentile of arr :  20.0\n"
     ]
    }
   ],
   "source": [
    "import numpy as np\n",
    "   \n",
    "# 1D array\n",
    "arr = [20, 2, 7, 1, 34]\n",
    "print(\"arr : \", arr)\n",
    "print(\"50th percentile of arr : \",\n",
    "       np.percentile(arr, 50))\n",
    "print(\"25th percentile of arr : \",\n",
    "       np.percentile(arr, 25))\n",
    "print(\"75th percentile of arr : \",\n",
    "       np.percentile(arr, 75))"
   ]
  },
  {
   "cell_type": "code",
   "execution_count": 6,
   "id": "bcbeb617",
   "metadata": {},
   "outputs": [
    {
     "name": "stdout",
     "output_type": "stream",
     "text": [
      "arr :  [20, 2, 1, 7, 1, 34]\n",
      "50th percentile of arr :  4.5\n",
      "25th percentile of arr :  1.25\n",
      "75th percentile of arr :  16.75\n"
     ]
    }
   ],
   "source": [
    "import numpy as np\n",
    "   \n",
    "# 1D array\n",
    "arr = [20, 2, 1, 7, 1, 34]\n",
    "print(\"arr : \", arr)\n",
    "print(\"50th percentile of arr : \",\n",
    "       np.percentile(arr, 50))\n",
    "print(\"25th percentile of arr : \",\n",
    "       np.percentile(arr, 25))\n",
    "print(\"75th percentile of arr : \",\n",
    "       np.percentile(arr, 75))"
   ]
  },
  {
   "cell_type": "code",
   "execution_count": 7,
   "id": "6c2aa52d",
   "metadata": {},
   "outputs": [],
   "source": [
    "arr = [20, 2, 7, 1, 34]\n",
    "\n",
    "\n",
    "q1, median, q3= np.percentile(arr,[25, 50, 75]) # 25 : q1, 75 : q3, 50 : median \n",
    "iqr = q3 - q1"
   ]
  },
  {
   "cell_type": "code",
   "execution_count": 8,
   "id": "47f7f6b8",
   "metadata": {},
   "outputs": [
    {
     "name": "stdout",
     "output_type": "stream",
     "text": [
      "q1 :  2.0 \n",
      "q3 :  20.0 \n",
      "iqr :  18.0 \n",
      "median :  7.0\n"
     ]
    }
   ],
   "source": [
    "print( \"q1 : \", q1, \"\\nq3 : \", q3, \"\\niqr : \", iqr, \"\\nmedian : \", median)"
   ]
  },
  {
   "cell_type": "code",
   "execution_count": 9,
   "id": "bc108cf8",
   "metadata": {},
   "outputs": [],
   "source": [
    "lower_bound = q1 - (1.5 * q1)\n",
    "upper_bound = q3 + (1.5 * q3)"
   ]
  },
  {
   "cell_type": "code",
   "execution_count": 10,
   "id": "5cf16d0f",
   "metadata": {
    "scrolled": true
   },
   "outputs": [
    {
     "name": "stdout",
     "output_type": "stream",
     "text": [
      "lower_bound :  -1.0 \n",
      "upper_bound :  50.0\n"
     ]
    }
   ],
   "source": [
    "print( \"lower_bound : \", lower_bound, \"\\nupper_bound : \", upper_bound)"
   ]
  },
  {
   "cell_type": "code",
   "execution_count": null,
   "id": "031d2d2a",
   "metadata": {},
   "outputs": [],
   "source": []
  }
 ],
 "metadata": {
  "kernelspec": {
   "display_name": "Python 3 (ipykernel)",
   "language": "python",
   "name": "python3"
  },
  "language_info": {
   "codemirror_mode": {
    "name": "ipython",
    "version": 3
   },
   "file_extension": ".py",
   "mimetype": "text/x-python",
   "name": "python",
   "nbconvert_exporter": "python",
   "pygments_lexer": "ipython3",
   "version": "3.8.6"
  },
  "toc": {
   "base_numbering": 1,
   "nav_menu": {},
   "number_sections": true,
   "sideBar": true,
   "skip_h1_title": false,
   "title_cell": "Table of Contents",
   "title_sidebar": "Contents",
   "toc_cell": false,
   "toc_position": {},
   "toc_section_display": true,
   "toc_window_display": true
  }
 },
 "nbformat": 4,
 "nbformat_minor": 5
}
