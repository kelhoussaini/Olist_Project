{
 "cells": [
  {
   "cell_type": "code",
   "execution_count": 1,
   "id": "771d4ec7",
   "metadata": {},
   "outputs": [],
   "source": [
    "import pandas as pd\n",
    "import numpy as np\n",
    "import scipy.stats as stats #import mannwhitneyu\n",
    "import matplotlib.pyplot as plt\n",
    "import seaborn as sns \n",
    "import statsmodels.api as sm\n",
    "from statsmodels.formula.api import ols"
   ]
  },
  {
   "cell_type": "markdown",
   "id": "3e98799b",
   "metadata": {},
   "source": [
    "<img src=\"Statistical__tests.png\" width=600 height=400 />"
   ]
  },
  {
   "cell_type": "markdown",
   "id": "1ba919c9",
   "metadata": {},
   "source": [
    " <font size=\"5\">***Interpret results***</font>"
   ]
  },
  {
   "attachments": {},
   "cell_type": "markdown",
   "id": "79cf0302",
   "metadata": {},
   "source": [
    "<img src=\"Null_hypothesis.png\" width=600 height=400 />"
   ]
  },
  {
   "cell_type": "markdown",
   "id": "bf10cf77",
   "metadata": {},
   "source": [
    "### Load Data"
   ]
  },
  {
   "cell_type": "code",
   "execution_count": 2,
   "id": "ecf56b2b",
   "metadata": {},
   "outputs": [
    {
     "data": {
      "text/html": [
       "<div>\n",
       "<style scoped>\n",
       "    .dataframe tbody tr th:only-of-type {\n",
       "        vertical-align: middle;\n",
       "    }\n",
       "\n",
       "    .dataframe tbody tr th {\n",
       "        vertical-align: top;\n",
       "    }\n",
       "\n",
       "    .dataframe thead th {\n",
       "        text-align: right;\n",
       "    }\n",
       "</style>\n",
       "<table border=\"1\" class=\"dataframe\">\n",
       "  <thead>\n",
       "    <tr style=\"text-align: right;\">\n",
       "      <th></th>\n",
       "      <th>Sepal_Length</th>\n",
       "      <th>Sepal_Width</th>\n",
       "      <th>Petal_Length</th>\n",
       "      <th>Petal_Width</th>\n",
       "      <th>Species</th>\n",
       "    </tr>\n",
       "  </thead>\n",
       "  <tbody>\n",
       "    <tr>\n",
       "      <th>0</th>\n",
       "      <td>5.1</td>\n",
       "      <td>3.5</td>\n",
       "      <td>1.4</td>\n",
       "      <td>0.2</td>\n",
       "      <td>setosa</td>\n",
       "    </tr>\n",
       "    <tr>\n",
       "      <th>1</th>\n",
       "      <td>4.9</td>\n",
       "      <td>3.0</td>\n",
       "      <td>1.4</td>\n",
       "      <td>0.2</td>\n",
       "      <td>setosa</td>\n",
       "    </tr>\n",
       "  </tbody>\n",
       "</table>\n",
       "</div>"
      ],
      "text/plain": [
       "   Sepal_Length  Sepal_Width  Petal_Length  Petal_Width Species\n",
       "0           5.1          3.5           1.4          0.2  setosa\n",
       "1           4.9          3.0           1.4          0.2  setosa"
      ]
     },
     "execution_count": 2,
     "metadata": {},
     "output_type": "execute_result"
    }
   ],
   "source": [
    "# Load iris datset \n",
    "iris = sm.datasets.get_rdataset(\"iris\").data\n",
    "iris.columns = [s.replace('.', '_') for s in iris.columns]\n",
    "iris.head(2)"
   ]
  },
  {
   "cell_type": "markdown",
   "id": "6e368be4",
   "metadata": {},
   "source": [
    "### Group means"
   ]
  },
  {
   "cell_type": "code",
   "execution_count": 3,
   "id": "272f0669",
   "metadata": {},
   "outputs": [
    {
     "data": {
      "text/html": [
       "<div>\n",
       "<style scoped>\n",
       "    .dataframe tbody tr th:only-of-type {\n",
       "        vertical-align: middle;\n",
       "    }\n",
       "\n",
       "    .dataframe tbody tr th {\n",
       "        vertical-align: top;\n",
       "    }\n",
       "\n",
       "    .dataframe thead th {\n",
       "        text-align: right;\n",
       "    }\n",
       "</style>\n",
       "<table border=\"1\" class=\"dataframe\">\n",
       "  <thead>\n",
       "    <tr style=\"text-align: right;\">\n",
       "      <th></th>\n",
       "      <th>Species</th>\n",
       "      <th>Sepal_Length</th>\n",
       "      <th>Sepal_Width</th>\n",
       "      <th>Petal_Length</th>\n",
       "      <th>Petal_Width</th>\n",
       "    </tr>\n",
       "  </thead>\n",
       "  <tbody>\n",
       "    <tr>\n",
       "      <th>0</th>\n",
       "      <td>setosa</td>\n",
       "      <td>5.006</td>\n",
       "      <td>3.428</td>\n",
       "      <td>1.462</td>\n",
       "      <td>0.246</td>\n",
       "    </tr>\n",
       "    <tr>\n",
       "      <th>1</th>\n",
       "      <td>versicolor</td>\n",
       "      <td>5.936</td>\n",
       "      <td>2.770</td>\n",
       "      <td>4.260</td>\n",
       "      <td>1.326</td>\n",
       "    </tr>\n",
       "    <tr>\n",
       "      <th>2</th>\n",
       "      <td>virginica</td>\n",
       "      <td>6.588</td>\n",
       "      <td>2.974</td>\n",
       "      <td>5.552</td>\n",
       "      <td>2.026</td>\n",
       "    </tr>\n",
       "  </tbody>\n",
       "</table>\n",
       "</div>"
      ],
      "text/plain": [
       "      Species  Sepal_Length  Sepal_Width  Petal_Length  Petal_Width\n",
       "0      setosa         5.006        3.428         1.462        0.246\n",
       "1  versicolor         5.936        2.770         4.260        1.326\n",
       "2   virginica         6.588        2.974         5.552        2.026"
      ]
     },
     "execution_count": 3,
     "metadata": {},
     "output_type": "execute_result"
    }
   ],
   "source": [
    "# Group means\n",
    "means = iris.groupby(\"Species\").mean().reset_index() \n",
    "means"
   ]
  },
  {
   "cell_type": "markdown",
   "id": "e1c26799",
   "metadata": {},
   "source": [
    "*Do the population means of the groups all have the same value ? (separating each feature)*"
   ]
  },
  {
   "cell_type": "markdown",
   "id": "9cc85abc",
   "metadata": {},
   "source": [
    "### Group Stds "
   ]
  },
  {
   "cell_type": "code",
   "execution_count": 4,
   "id": "a77ba0ac",
   "metadata": {},
   "outputs": [
    {
     "data": {
      "text/html": [
       "<div>\n",
       "<style scoped>\n",
       "    .dataframe tbody tr th:only-of-type {\n",
       "        vertical-align: middle;\n",
       "    }\n",
       "\n",
       "    .dataframe tbody tr th {\n",
       "        vertical-align: top;\n",
       "    }\n",
       "\n",
       "    .dataframe thead th {\n",
       "        text-align: right;\n",
       "    }\n",
       "</style>\n",
       "<table border=\"1\" class=\"dataframe\">\n",
       "  <thead>\n",
       "    <tr style=\"text-align: right;\">\n",
       "      <th></th>\n",
       "      <th>Species</th>\n",
       "      <th>Sepal_Length</th>\n",
       "      <th>Sepal_Width</th>\n",
       "      <th>Petal_Length</th>\n",
       "      <th>Petal_Width</th>\n",
       "    </tr>\n",
       "  </thead>\n",
       "  <tbody>\n",
       "    <tr>\n",
       "      <th>0</th>\n",
       "      <td>setosa</td>\n",
       "      <td>0.352490</td>\n",
       "      <td>0.379064</td>\n",
       "      <td>0.173664</td>\n",
       "      <td>0.105386</td>\n",
       "    </tr>\n",
       "    <tr>\n",
       "      <th>1</th>\n",
       "      <td>versicolor</td>\n",
       "      <td>0.516171</td>\n",
       "      <td>0.313798</td>\n",
       "      <td>0.469911</td>\n",
       "      <td>0.197753</td>\n",
       "    </tr>\n",
       "    <tr>\n",
       "      <th>2</th>\n",
       "      <td>virginica</td>\n",
       "      <td>0.635880</td>\n",
       "      <td>0.322497</td>\n",
       "      <td>0.551895</td>\n",
       "      <td>0.274650</td>\n",
       "    </tr>\n",
       "  </tbody>\n",
       "</table>\n",
       "</div>"
      ],
      "text/plain": [
       "      Species  Sepal_Length  Sepal_Width  Petal_Length  Petal_Width\n",
       "0      setosa      0.352490     0.379064      0.173664     0.105386\n",
       "1  versicolor      0.516171     0.313798      0.469911     0.197753\n",
       "2   virginica      0.635880     0.322497      0.551895     0.274650"
      ]
     },
     "execution_count": 4,
     "metadata": {},
     "output_type": "execute_result"
    }
   ],
   "source": [
    "# Group Stds (equal variances ?) \n",
    "stds = iris.groupby(\"Species\").std().reset_index() \n",
    "stds"
   ]
  },
  {
   "cell_type": "markdown",
   "id": "7329c9f3",
   "metadata": {},
   "source": [
    "### Plot Species Vs Sepal_Length"
   ]
  },
  {
   "cell_type": "code",
   "execution_count": 5,
   "id": "08be90de",
   "metadata": {},
   "outputs": [
    {
     "data": {
      "text/plain": [
       "setosa        50\n",
       "versicolor    50\n",
       "virginica     50\n",
       "Name: Species, dtype: int64"
      ]
     },
     "execution_count": 5,
     "metadata": {},
     "output_type": "execute_result"
    }
   ],
   "source": [
    "iris.Species.value_counts()"
   ]
  },
  {
   "cell_type": "code",
   "execution_count": 6,
   "id": "60a5048b",
   "metadata": {},
   "outputs": [
    {
     "data": {
      "image/png": "[encoded data removed]",
      "text/plain": [
       "<Figure size 432x288 with 1 Axes>"
      ]
     },
     "metadata": {
      "needs_background": "light"
     },
     "output_type": "display_data"
    }
   ],
   "source": [
    "sns.swarmplot(x=\"Species\", y=\"Sepal_Length\", data=iris, color=\"black\") ;\n",
    "# sns.scatterplot(x=\"Species\", y=\"Sepal_Length\", data=iris, color=\"black\") \n",
    "\n",
    "# Here, we visualize better using swarmplot than scatterplot"
   ]
  },
  {
   "cell_type": "markdown",
   "id": "69a6304e",
   "metadata": {},
   "source": [
    "### Plot groups "
   ]
  },
  {
   "cell_type": "code",
   "execution_count": 7,
   "id": "2070ed9a",
   "metadata": {},
   "outputs": [
    {
     "data": {
      "image/png": "[encoded data removed]",
      "text/plain": [
       "<Figure size 432x288 with 1 Axes>"
      ]
     },
     "metadata": {
      "needs_background": "light"
     },
     "output_type": "display_data"
    }
   ],
   "source": [
    "# Plot groups \n",
    "ax = sns.violinplot(x=\"Species\", y=\"Sepal_Length\", data=iris) \n",
    "ax = sns.swarmplot(x=\"Species\", y=\"Sepal_Length\", data=iris, color=\"white\") \n",
    "ax = sns.swarmplot(x=\"Species\", y=\"Sepal_Length\", color=\"black\", data=means, size=10)"
   ]
  },
  {
   "cell_type": "markdown",
   "id": "59562e97",
   "metadata": {},
   "source": [
    "# <font color='blue'> **(quantit ~ categorial (>=2 levels))**</font>"
   ]
  },
  {
   "cell_type": "markdown",
   "id": "4025258b",
   "metadata": {},
   "source": [
    "## Parametric <font color='red'> **ANOVA test**</font> -- Comparaison de moyennes"
   ]
  },
  {
   "cell_type": "markdown",
   "id": "98be4e4d",
   "metadata": {},
   "source": [
    "**Is there a difference in Petal Length in species from iris dataset ?**"
   ]
  },
  {
   "cell_type": "markdown",
   "id": "ca3ced84",
   "metadata": {},
   "source": [
    "### ANOVA -- Estimate means and variances"
   ]
  },
  {
   "cell_type": "code",
   "execution_count": 8,
   "id": "79a61274",
   "metadata": {},
   "outputs": [
    {
     "data": {
      "text/html": [
       "<div>\n",
       "<style scoped>\n",
       "    .dataframe tbody tr th:only-of-type {\n",
       "        vertical-align: middle;\n",
       "    }\n",
       "\n",
       "    .dataframe tbody tr th {\n",
       "        vertical-align: top;\n",
       "    }\n",
       "\n",
       "    .dataframe thead th {\n",
       "        text-align: right;\n",
       "    }\n",
       "</style>\n",
       "<table border=\"1\" class=\"dataframe\">\n",
       "  <thead>\n",
       "    <tr style=\"text-align: right;\">\n",
       "      <th></th>\n",
       "      <th>sum_sq</th>\n",
       "      <th>df</th>\n",
       "      <th>F</th>\n",
       "      <th>PR(&gt;F)</th>\n",
       "    </tr>\n",
       "  </thead>\n",
       "  <tbody>\n",
       "    <tr>\n",
       "      <th>Species</th>\n",
       "      <td>63.212133</td>\n",
       "      <td>2.0</td>\n",
       "      <td>119.264502</td>\n",
       "      <td>1.669669e-31</td>\n",
       "    </tr>\n",
       "    <tr>\n",
       "      <th>Residual</th>\n",
       "      <td>38.956200</td>\n",
       "      <td>147.0</td>\n",
       "      <td>NaN</td>\n",
       "      <td>NaN</td>\n",
       "    </tr>\n",
       "  </tbody>\n",
       "</table>\n",
       "</div>"
      ],
      "text/plain": [
       "             sum_sq     df           F        PR(>F)\n",
       "Species   63.212133    2.0  119.264502  1.669669e-31\n",
       "Residual  38.956200  147.0         NaN           NaN"
      ]
     },
     "execution_count": 8,
     "metadata": {},
     "output_type": "execute_result"
    }
   ],
   "source": [
    "# ANOVA \n",
    "lm = ols('Sepal_Length ~ Species', data=iris).fit() \n",
    "sm.stats.anova_lm(lm, typ=2) # Type 2 ANOVA DataFrame\n",
    "                            # There are only two groups for the one-way ANOVA F-test"
   ]
  },
  {
   "cell_type": "code",
   "execution_count": 9,
   "id": "34072605",
   "metadata": {},
   "outputs": [
    {
     "data": {
      "text/plain": [
       "(150, 5)"
      ]
     },
     "execution_count": 9,
     "metadata": {},
     "output_type": "execute_result"
    }
   ],
   "source": [
    "iris.shape"
   ]
  },
  {
   "cell_type": "markdown",
   "id": "1d0b75ad",
   "metadata": {},
   "source": [
    "This 𝐹-statistic follows the 𝐹-distribution with 𝐾 − 1 and 𝑁 − 𝐾 degrees of freedom under the null hypothesis.\n",
    "* K denotes the number of groups, here K = 3\n",
    "* N The number of observations, here N = 150"
   ]
  },
  {
   "attachments": {
    "F_test.png": {
     "image/png": "[encoded data removed]"
    }
   },
   "cell_type": "markdown",
   "id": "529035bb",
   "metadata": {},
   "source": [
    "![F_test.png](attachment:F_test.png)"
   ]
  },
  {
   "cell_type": "markdown",
   "id": "907ccab1",
   "metadata": {},
   "source": [
    "### **Interpret results**"
   ]
  },
  {
   "cell_type": "code",
   "execution_count": 10,
   "id": "e6195539",
   "metadata": {},
   "outputs": [
    {
     "data": {
      "text/html": [
       "<div>\n",
       "<style scoped>\n",
       "    .dataframe tbody tr th:only-of-type {\n",
       "        vertical-align: middle;\n",
       "    }\n",
       "\n",
       "    .dataframe tbody tr th {\n",
       "        vertical-align: top;\n",
       "    }\n",
       "\n",
       "    .dataframe thead th {\n",
       "        text-align: right;\n",
       "    }\n",
       "</style>\n",
       "<table border=\"1\" class=\"dataframe\">\n",
       "  <thead>\n",
       "    <tr style=\"text-align: right;\">\n",
       "      <th></th>\n",
       "      <th>sum_sq</th>\n",
       "      <th>df</th>\n",
       "      <th>F</th>\n",
       "      <th>PR(&gt;F)</th>\n",
       "    </tr>\n",
       "  </thead>\n",
       "  <tbody>\n",
       "    <tr>\n",
       "      <th>Species</th>\n",
       "      <td>63.212133</td>\n",
       "      <td>2.0</td>\n",
       "      <td>119.264502</td>\n",
       "      <td>1.669669e-31</td>\n",
       "    </tr>\n",
       "    <tr>\n",
       "      <th>Residual</th>\n",
       "      <td>38.956200</td>\n",
       "      <td>147.0</td>\n",
       "      <td>NaN</td>\n",
       "      <td>NaN</td>\n",
       "    </tr>\n",
       "  </tbody>\n",
       "</table>\n",
       "</div>"
      ],
      "text/plain": [
       "             sum_sq     df           F        PR(>F)\n",
       "Species   63.212133    2.0  119.264502  1.669669e-31\n",
       "Residual  38.956200  147.0         NaN           NaN"
      ]
     },
     "execution_count": 10,
     "metadata": {},
     "output_type": "execute_result"
    }
   ],
   "source": [
    "res = sm.stats.anova_lm(lm, typ=2)\n",
    "res"
   ]
  },
  {
   "cell_type": "code",
   "execution_count": 11,
   "id": "d2c7dd87",
   "metadata": {},
   "outputs": [
    {
     "name": "stdout",
     "output_type": "stream",
     "text": [
      "Statistics=119.265, p=0.000\n",
      "Different distribution (reject H0)\n"
     ]
    }
   ],
   "source": [
    "print('Statistics=%.3f, p=%.3f' % (res.F.Species, res['PR(>F)'].Species))\n",
    "# interpret\n",
    "alpha = 0.05\n",
    "if res['PR(>F)'].Species > alpha:\n",
    "\tprint('Same distribution (fail to reject H0)')\n",
    "else:\n",
    "\tprint('Different distribution (reject H0)')"
   ]
  },
  {
   "cell_type": "markdown",
   "id": "59b9422e",
   "metadata": {},
   "source": [
    "## <font color='red'>**Standard t-test**</font>"
   ]
  },
  {
   "cell_type": "markdown",
   "id": "ca7fb52f",
   "metadata": {},
   "source": [
    "*Test whether two samples means are equal*"
   ]
  },
  {
   "cell_type": "code",
   "execution_count": 12,
   "id": "c56dda7f",
   "metadata": {},
   "outputs": [
    {
     "name": "stdout",
     "output_type": "stream",
     "text": [
      "Parametric Standard t-test : Statistics=21.556, p=0.000\n",
      "Different distributions (reject H0)\n"
     ]
    }
   ],
   "source": [
    "# Compute with scipy\n",
    "Sep_L = iris[iris[\"Species\"] == \"setosa\"]['Sepal_Length']\n",
    "Sep_W = iris[iris[\"Species\"] == \"setosa\"]['Sepal_Width']\n",
    "\n",
    "Pet_L = iris[iris[\"Species\"] == \"setosa\"]['Petal_Length']\n",
    "Pet_W = iris[iris[\"Species\"] == \"setosa\"]['Petal_Width']\n",
    "\n",
    "\n",
    "stat, p = stats.ttest_ind(Sep_L, Sep_W, equal_var=True)\n",
    "print('Parametric Standard t-test : Statistics=%.3f, p=%.3f' % (stat, p))\n",
    "\n",
    "# interpret\n",
    "alpha = 0.05\n",
    "if p > alpha:\n",
    "    print('Same distributions (fail to reject H0)')\n",
    "else:\n",
    "    print('Different distributions (reject H0)')"
   ]
  },
  {
   "cell_type": "code",
   "execution_count": 13,
   "id": "bcb4389f",
   "metadata": {},
   "outputs": [
    {
     "data": {
      "text/plain": [
       "Ttest_indResult(statistic=3.5511519888466885, pvalue=0.00228208937112721)"
      ]
     },
     "execution_count": 13,
     "metadata": {},
     "output_type": "execute_result"
    }
   ],
   "source": [
    "height = np.array([ 1.83,  1.83,  1.73,  1.82,  1.83,  1.73,  1.99,  1.85,  1.68,  1.87,\n",
    "                    1.66,  1.71,  1.73,  1.64,  1.70,  1.60,  1.79,  1.73,  1.62,  1.77])\n",
    "\n",
    "grp = np.array([\"M\"] * 10 + [\"F\"] * 10)\n",
    "\n",
    "# Compute with scipy\n",
    "stats.ttest_ind(height[grp == \"M\"], height[grp == \"F\"], equal_var=True)"
   ]
  },
  {
   "cell_type": "markdown",
   "id": "a9ea1e8d",
   "metadata": {},
   "source": [
    "## Non-Parametric <font color='red'> **Kruskal-Wallis H Test**</font>"
   ]
  },
  {
   "cell_type": "markdown",
   "id": "bf55ac45",
   "metadata": {},
   "source": [
    "The <font color='red'>**Kruskal-Wallis**</font>  test is a nonparametric version of the one-way analysis of variance test or **ANOVA** for short. It is named for the developers of the method, William Kruskal and Wilson Wallis. \n",
    "    \n",
    "This test can be used to determine **whether more than two independent samples have a different distribution.** It can be thought of as the generalization of <font color='blue'>**the Mann-Whitney U**</font> test."
   ]
  },
  {
   "cell_type": "markdown",
   "id": "ae975371",
   "metadata": {},
   "source": [
    "*Categorical target*"
   ]
  },
  {
   "cell_type": "code",
   "execution_count": 14,
   "id": "17c112f4",
   "metadata": {},
   "outputs": [],
   "source": [
    "data = [iris.loc[ids, 'Sepal_Length'].values for ids in iris.groupby('Species').groups.values()]"
   ]
  },
  {
   "cell_type": "code",
   "execution_count": 15,
   "id": "1b13d6bb",
   "metadata": {},
   "outputs": [
    {
     "data": {
      "text/plain": [
       "setosa        50\n",
       "versicolor    50\n",
       "virginica     50\n",
       "Name: Species, dtype: int64"
      ]
     },
     "execution_count": 15,
     "metadata": {},
     "output_type": "execute_result"
    }
   ],
   "source": [
    "# N.B :\n",
    "iris.Species.value_counts()"
   ]
  },
  {
   "cell_type": "code",
   "execution_count": 16,
   "id": "3065f6f3",
   "metadata": {},
   "outputs": [
    {
     "data": {
      "text/plain": [
       "[array([5.1, 4.9, 4.7, 4.6, 5. , 5.4, 4.6, 5. , 4.4, 4.9, 5.4, 4.8, 4.8,\n",
       "        4.3, 5.8, 5.7, 5.4, 5.1, 5.7, 5.1, 5.4, 5.1, 4.6, 5.1, 4.8, 5. ,\n",
       "        5. , 5.2, 5.2, 4.7, 4.8, 5.4, 5.2, 5.5, 4.9, 5. , 5.5, 4.9, 4.4,\n",
       "        5.1, 5. , 4.5, 4.4, 5. , 5.1, 4.8, 5.1, 4.6, 5.3, 5. ]),\n",
       " array([7. , 6.4, 6.9, 5.5, 6.5, 5.7, 6.3, 4.9, 6.6, 5.2, 5. , 5.9, 6. ,\n",
       "        6.1, 5.6, 6.7, 5.6, 5.8, 6.2, 5.6, 5.9, 6.1, 6.3, 6.1, 6.4, 6.6,\n",
       "        6.8, 6.7, 6. , 5.7, 5.5, 5.5, 5.8, 6. , 5.4, 6. , 6.7, 6.3, 5.6,\n",
       "        5.5, 5.5, 6.1, 5.8, 5. , 5.6, 5.7, 5.7, 6.2, 5.1, 5.7]),\n",
       " array([6.3, 5.8, 7.1, 6.3, 6.5, 7.6, 4.9, 7.3, 6.7, 7.2, 6.5, 6.4, 6.8,\n",
       "        5.7, 5.8, 6.4, 6.5, 7.7, 7.7, 6. , 6.9, 5.6, 7.7, 6.3, 6.7, 7.2,\n",
       "        6.2, 6.1, 6.4, 7.2, 7.4, 7.9, 6.4, 6.3, 6.1, 7.7, 6.3, 6.4, 6. ,\n",
       "        6.9, 6.7, 6.9, 5.8, 6.8, 6.7, 6.7, 6.3, 6.5, 6.2, 5.9])]"
      ]
     },
     "execution_count": 16,
     "metadata": {},
     "output_type": "execute_result"
    }
   ],
   "source": [
    "data # Species : there are 3 classes \n",
    "# len(data) = 3\n",
    "# data[0].shape ---> (50,)"
   ]
  },
  {
   "cell_type": "code",
   "execution_count": 17,
   "id": "d7cc055a",
   "metadata": {},
   "outputs": [
    {
     "name": "stdout",
     "output_type": "stream",
     "text": [
      "Parametric Kruskal test : Statistics=96.937, p=0.000\n",
      "Different distributions (reject H0)\n"
     ]
    }
   ],
   "source": [
    "stat, p = stats.kruskal(*data)\n",
    "print('Parametric Kruskal test : Statistics=%.3f, p=%.3f' % (stat, p))\n",
    "\n",
    "# interpret\n",
    "alpha = 0.05\n",
    "if p > alpha:\n",
    "    print('Same distributions (fail to reject H0)')\n",
    "else:\n",
    "    print('Different distributions (reject H0)')"
   ]
  },
  {
   "cell_type": "markdown",
   "id": "a4fe3247",
   "metadata": {},
   "source": [
    "## Non-Parametric <font color='red'> **Friedman Test**</font>   rank-order\n"
   ]
  },
  {
   "cell_type": "markdown",
   "id": "cc07cd47",
   "metadata": {},
   "source": [
    "The <font color='red'>**Friedman test**</font>  is the nonparametric version of <font color='blue'> **the repeated measures**</font> analysis of variance test, or <font color='blue'> **repeated measures ANOVA.**</font>\n",
    "\n",
    "The test can be thought of as a generalization of the **Kruskal-Wallis H Test** to more than two samples."
   ]
  },
  {
   "cell_type": "code",
   "execution_count": 18,
   "id": "af7b12a7",
   "metadata": {},
   "outputs": [
    {
     "name": "stdout",
     "output_type": "stream",
     "text": [
      "Parametric Friedman test : Statistics=73.786, p=0.000\n",
      "Different distributions (reject H0)\n"
     ]
    }
   ],
   "source": [
    "stat, p = stats.friedmanchisquare(*data)\n",
    "print('Parametric Friedman test : Statistics=%.3f, p=%.3f' % (stat, p))\n",
    "\n",
    "# interpret\n",
    "alpha = 0.05\n",
    "if p > alpha:\n",
    "    print('Same distributions (fail to reject H0)')\n",
    "else:\n",
    "    print('Different distributions (reject H0)')"
   ]
  },
  {
   "cell_type": "markdown",
   "id": "6a4e5747",
   "metadata": {},
   "source": [
    "## Non-Parametric <font color='red'> **Mann-Whitney U**</font> "
   ]
  },
  {
   "cell_type": "markdown",
   "id": "842731cd",
   "metadata": {},
   "source": [
    "We use the <font color='red'> **Mann-Whitney U test**</font>  to assess **whether there is a statistically significant difference in the diagnosis age of males and females.**\n",
    "\n",
    "The <font color='blue'> **null hypothesis**</font> is that the distribution of male diagnosis ages is the same as the distribution of female diagnosis ages. \n",
    "\n",
    "We decide that a <font color='green'> **confidence level**</font> of 95% is required to reject the null hypothesis in favor of the alternative that that the distributions are different."
   ]
  },
  {
   "cell_type": "code",
   "execution_count": 19,
   "id": "5a1381b9",
   "metadata": {},
   "outputs": [
    {
     "name": "stdout",
     "output_type": "stream",
     "text": [
      "Parametric Friedman test : Statistics=168.500, p=0.000\n",
      "Different distributions (reject H0)\n"
     ]
    }
   ],
   "source": [
    "stat, p = stats.mannwhitneyu(*data[0:2]) ### Here, we only use the two first classes, to see how the test works\n",
    "                                         #The test is used for 2 samples\n",
    "    \n",
    "print('Parametric Friedman test : Statistics=%.3f, p=%.3f' % (stat, p))\n",
    "\n",
    "# interpret\n",
    "alpha = 0.05\n",
    "if p > alpha:\n",
    "    print('Same distributions (fail to reject H0)')\n",
    "else:\n",
    "    print('Different distributions (reject H0)')"
   ]
  },
  {
   "cell_type": "markdown",
   "id": "8bf75718",
   "metadata": {},
   "source": [
    "### Example"
   ]
  },
  {
   "cell_type": "code",
   "execution_count": 30,
   "id": "19ceb9c4",
   "metadata": {},
   "outputs": [
    {
     "name": "stdout",
     "output_type": "stream",
     "text": [
      "stats :  17.0   p :  0.1111111111111111\n"
     ]
    }
   ],
   "source": [
    "males = [19, 22, 16, 29, 24]\n",
    "females = [20, 11, 17, 12]\n",
    "\n",
    "stat, pval = stats.mannwhitneyu(males, females, method=\"exact\")\n",
    "print(\"stats : \", stat, \"  p : \", pval)"
   ]
  },
  {
   "cell_type": "code",
   "execution_count": 31,
   "id": "1a1fb595",
   "metadata": {},
   "outputs": [
    {
     "name": "stdout",
     "output_type": "stream",
     "text": [
      "Same distribution (fail to reject H0)\n"
     ]
    }
   ],
   "source": [
    "# interpret\n",
    "alpha = 0.05\n",
    "if pval > alpha:\n",
    "\tprint('Same distribution (fail to reject H0)')\n",
    "else:\n",
    "\tprint('Different distribution (reject H0)')"
   ]
  },
  {
   "cell_type": "markdown",
   "id": "8ee5bf82",
   "metadata": {},
   "source": [
    "# <font color='green'> **Correlation**</font> <font color='blue'> **(quantit ~ quantit)**</font>"
   ]
  },
  {
   "cell_type": "markdown",
   "id": "26f6ea1e",
   "metadata": {},
   "source": [
    "*Evaluation de la relation monotone <font color='red'> **(Spearman)**</font> ou linéaire <font color='red'> **(Pearson)**</font> entre deux variables continues*"
   ]
  },
  {
   "cell_type": "code",
   "execution_count": 24,
   "id": "053db0dc",
   "metadata": {},
   "outputs": [
    {
     "data": {
      "text/plain": [
       "Text(0, 0.5, 'sbp')"
      ]
     },
     "execution_count": 24,
     "metadata": {},
     "output_type": "execute_result"
    },
    {
     "data": {
      "image/png": "[encoded data removed]",
      "text/plain": [
       "<Figure size 720x288 with 1 Axes>"
      ]
     },
     "metadata": {
      "needs_background": "light"
     },
     "output_type": "display_data"
    }
   ],
   "source": [
    "# Age uniform distribution between 20 and 40\n",
    "age = np.random.uniform(20, 60, 40)\n",
    "\n",
    "# Systolic blood presure, 2 groups:\n",
    "# - 15 subjects at 0.05 * age + 6\n",
    "# - 25 subjects at 0.15 * age + 10\n",
    "sbp = np.concatenate((0.05 * age[:15] + 6, 0.15 * age[15:] + 10)) + \\\n",
    "    .5 * np.random.normal(size=40)\n",
    "\n",
    "plt.figure(figsize = (10, 4))\n",
    "sns.regplot(x=age, y=sbp)\n",
    "plt.xlabel('age')\n",
    "plt.ylabel('sbp')"
   ]
  },
  {
   "cell_type": "markdown",
   "id": "5ae27f46",
   "metadata": {},
   "source": [
    "The <font color='blue'>**p-value**</font>  is the probability to observe a value 𝑡 more extreme than the observed one 𝑡 𝑜𝑏𝑠 under the null hypothesis 𝐻0 : 𝑃(𝑡 > 𝑡 𝑜𝑏𝑠 |𝐻 0 )"
   ]
  },
  {
   "cell_type": "markdown",
   "id": "9d649db7",
   "metadata": {},
   "source": [
    "## Non-Parametric <font color='red'> **Spearman**</font>   rank-order"
   ]
  },
  {
   "cell_type": "code",
   "execution_count": 25,
   "id": "d84c27f3",
   "metadata": {},
   "outputs": [
    {
     "name": "stdout",
     "output_type": "stream",
     "text": [
      "Non-Parametric Spearman, cor: 0.4079, pval: 0.0090\n"
     ]
    }
   ],
   "source": [
    "# Non-Parametric Spearman \n",
    "stat, pval = stats.spearmanr(age, sbp)\n",
    "print(\"Non-Parametric Spearman, cor: %.4f, pval: %.4f\" % (stat, pval))"
   ]
  },
  {
   "cell_type": "code",
   "execution_count": 26,
   "id": "e26125f5",
   "metadata": {},
   "outputs": [
    {
     "name": "stdout",
     "output_type": "stream",
     "text": [
      "Different distribution (reject H0)\n"
     ]
    }
   ],
   "source": [
    "# interpret\n",
    "alpha = 0.05\n",
    "if pval > alpha:\n",
    "\tprint('Same distribution (fail to reject H0)')\n",
    "else:\n",
    "\tprint('Different distribution (reject H0)')"
   ]
  },
  {
   "cell_type": "markdown",
   "id": "4f3ac810",
   "metadata": {},
   "source": [
    "The <font color='red'> **Spearman correlation**</font> is a non-parametric measure of the monotonicity of the relationship between two datasets.\n",
    "\n",
    "**When to use it?** Observe the data distribution: \n",
    "* presence of <font color='green'> **outliers**</font>\n",
    "* the distribution of the residuals is <font color='green'> **not Gaussian.**</font>"
   ]
  },
  {
   "cell_type": "markdown",
   "id": "ec27cff8",
   "metadata": {},
   "source": [
    "### Based on Iris Data"
   ]
  },
  {
   "cell_type": "code",
   "execution_count": 34,
   "id": "1aab076d",
   "metadata": {},
   "outputs": [
    {
     "name": "stdout",
     "output_type": "stream",
     "text": [
      "Non-Parametric Spearman, stat: 0.8819, pval: 0.0000\n",
      "Different distribution (reject H0)\n"
     ]
    }
   ],
   "source": [
    "# Parametric Pearson cor test \n",
    "stat, pval = stats.spearmanr(iris['Petal_Length'], iris['Sepal_Length'])\n",
    "print(\"Non-Parametric Spearman, stat: %.4f, pval: %.4f\" % (stat, pval))\n",
    "\n",
    "# interpret\n",
    "alpha = 0.05\n",
    "if pval > alpha:\n",
    "    print('Same distribution (fail to reject H0)')\n",
    "else:\n",
    "    print('Different distribution (reject H0)')"
   ]
  },
  {
   "cell_type": "markdown",
   "id": "ca2d62dc",
   "metadata": {},
   "source": [
    "## Parametric <font color='red'> **Pearson**</font> "
   ]
  },
  {
   "cell_type": "code",
   "execution_count": 28,
   "id": "0b611f56",
   "metadata": {},
   "outputs": [
    {
     "name": "stdout",
     "output_type": "stream",
     "text": [
      "Parametric Pearson, stat: 0.2330, pval: 0.1479\n"
     ]
    }
   ],
   "source": [
    "# Parametric Pearson cor test \n",
    "stat, pval = stats.pearsonr(age, sbp)\n",
    "print(\"Parametric Pearson, stat: %.4f, pval: %.4f\" % (stat, pval))"
   ]
  },
  {
   "cell_type": "code",
   "execution_count": 29,
   "id": "41bcc62d",
   "metadata": {},
   "outputs": [
    {
     "name": "stdout",
     "output_type": "stream",
     "text": [
      "Same distribution (fail to reject H0)\n"
     ]
    }
   ],
   "source": [
    "# interpret\n",
    "alpha = 0.05\n",
    "if pval > alpha:\n",
    "\tprint('Same distribution (fail to reject H0)')\n",
    "else:\n",
    "\tprint('Different distribution (reject H0)')"
   ]
  },
  {
   "cell_type": "markdown",
   "id": "ea00cd46",
   "metadata": {},
   "source": [
    "### Based on Iris Data"
   ]
  },
  {
   "cell_type": "code",
   "execution_count": 33,
   "id": "52ae35d2",
   "metadata": {},
   "outputs": [
    {
     "name": "stdout",
     "output_type": "stream",
     "text": [
      "Parametric Pearson, stat: 0.8718, pval: 0.0000\n",
      "Different distribution (reject H0)\n"
     ]
    }
   ],
   "source": [
    "# Parametric Pearson cor test \n",
    "stat, pval = stats.pearsonr(iris['Petal_Length'], iris['Sepal_Length'])\n",
    "print(\"Parametric Pearson, stat: %.4f, pval: %.4f\" % (stat, pval))\n",
    "\n",
    "# interpret\n",
    "alpha = 0.05\n",
    "if pval > alpha:\n",
    "\tprint('Same distribution (fail to reject H0)')\n",
    "else:\n",
    "\tprint('Different distribution (reject H0)')"
   ]
  },
  {
   "cell_type": "markdown",
   "id": "ebf08cef",
   "metadata": {},
   "source": [
    "# <font color='blue'> **Comparing two related samples**</font>"
   ]
  },
  {
   "cell_type": "code",
   "execution_count": null,
   "id": "b2b7601f",
   "metadata": {},
   "outputs": [],
   "source": [
    "#(quantit ~ cte)"
   ]
  },
  {
   "cell_type": "markdown",
   "id": "2fb7f980",
   "metadata": {},
   "source": [
    "## Non-Parametric <font color='red'> **Wilcoxon**</font>  signed-rank test"
   ]
  },
  {
   "cell_type": "markdown",
   "id": "4e2f57e7",
   "metadata": {},
   "source": [
    "***Echantillons indépendants ou appariés***"
   ]
  },
  {
   "cell_type": "code",
   "execution_count": null,
   "id": "c38ad2e2",
   "metadata": {},
   "outputs": [],
   "source": [
    "n = 20 \n",
    "# Buisness Volume time 0 \n",
    "bv0 = np.random.normal(loc=3, scale=.1, size=n) \n",
    "# Buisness Volume time 1 \n",
    "bv1 = bv0 + 0.1 + np.random.normal(loc=0, scale=.1, size=n)\n",
    "\n",
    "# create an outlier \n",
    "bv1[0] -= 10\n",
    "\n",
    "# Paired t-test \n",
    "print(stats.ttest_rel(bv0, bv1))\n",
    "\n",
    "# Wilcoxon \n",
    "print(\":::  :::::  :::: \")\n",
    "stat, pval = stats.wilcoxon(bv0, bv1)\n",
    "\n",
    "print(\"Non-Parametric Wilcoxon test, stat: %.4f, pval: %.4f\" % (stat, pval))"
   ]
  },
  {
   "cell_type": "code",
   "execution_count": null,
   "id": "0171cbf8",
   "metadata": {},
   "outputs": [],
   "source": [
    "# interpret\n",
    "alpha = 0.05\n",
    "if pval > alpha:\n",
    "\tprint('Same distribution (fail to reject H0)')\n",
    "else:\n",
    "\tprint('Different distribution (reject H0)')"
   ]
  },
  {
   "cell_type": "markdown",
   "id": "2f8303c0",
   "metadata": {},
   "source": [
    "The <font color='red'> **Wilcoxon signed-rank test**</font>  is a non-parametric statistical hypothesis test used when comparing two related samples, matched samples, or repeated measurements on a single sample to assess whether their population mean ranks differ (i.e. it is a paired difference test). It is equivalent to one-sample test of the difference of paired samples.\n",
    "\n",
    "It can be used as **an alternative to** the <font color='green'> **paired Student’s 𝑡-test**</font> , 𝑡-test for matched pairs, or the 𝑡test for dependent samples when the population **cannot be assumed to be normally distributed.**\n",
    "\n",
    "**When to use it?** Observe the data distribution: \n",
    "* presence of outliers\n",
    "* the distribution of the residuals is not Gaussian\n",
    "\n",
    "It has a lower sensitivity compared to <font color='blue'> **𝑡-test.**</font> May be problematic to use when the sample size is small."
   ]
  },
  {
   "cell_type": "markdown",
   "id": "cdcb5c36",
   "metadata": {},
   "source": [
    "# <font color='green'> **Correlation**</font> <font color='blue'> **(categorial ~ categorial)**</font> "
   ]
  },
  {
   "cell_type": "markdown",
   "id": "0454610f",
   "metadata": {},
   "source": [
    "## <font color='red'> **Chi-square, 𝜒2**</font>  "
   ]
  },
  {
   "cell_type": "code",
   "execution_count": null,
   "id": "74873833",
   "metadata": {},
   "outputs": [],
   "source": [
    "# Dataset:\n",
    "\n",
    "# 20 samples:\n",
    "\n",
    "# 10 first exposed\n",
    "exposed = np.array([1] * 10 + [0] * 10)\n",
    "print(\"exposed Dataset: \", exposed)\n",
    "\n",
    "print(\"---------------\")\n",
    "# 8 first with cancer, 10 without, the last two with.\n",
    "cancer = np.array([1] * 8 + [0] * 10 + [1] * 2)\n",
    "print(\"cancer Dataset:  \", cancer)\n",
    "print(\"---------------\")\n",
    "\n",
    "\n",
    "crosstab = pd.crosstab(exposed, cancer, rownames=['exposed'], colnames=['cancer'])\n",
    "print(\"Observed table:\")\n",
    "print(crosstab)\n",
    "\n",
    "pd.DataFrame(crosstab)"
   ]
  },
  {
   "cell_type": "code",
   "execution_count": null,
   "id": "0364deb8",
   "metadata": {},
   "outputs": [],
   "source": [
    "chi2, pval, dof, expected = stats.chi2_contingency(crosstab)\n",
    "print(\"Statistics:\")\n",
    "print(\"Chi2 = %f, pval = %.4f\" % (chi2, pval))\n",
    "print(\"---------------\")\n",
    "print(\"Expected table:\")\n",
    "print(expected)\n",
    "print(\"---------------\")\n"
   ]
  },
  {
   "cell_type": "code",
   "execution_count": null,
   "id": "b8463ebf",
   "metadata": {},
   "outputs": [],
   "source": [
    "# interpret\n",
    "alpha = 0.05\n",
    "if pval > alpha:\n",
    "\tprint('Same distribution (fail to reject H0)')\n",
    "else:\n",
    "\tprint('Different distribution (reject H0)')"
   ]
  },
  {
   "cell_type": "code",
   "execution_count": null,
   "id": "f25222f3",
   "metadata": {},
   "outputs": [],
   "source": [
    "# Compute expected cross-table based on proportion\n",
    "exposed_marg = crosstab.sum(axis=0) \n",
    "exposed_freq = exposed_marg / exposed_marg.sum()\n",
    "\n",
    "cancer_marg = crosstab.sum(axis=1)\n",
    "cancer_freq = cancer_marg / cancer_marg.sum()\n",
    "\n",
    "print('Exposed frequency? Yes: %.2f' % exposed_freq[0], 'No: %.2f' % exposed_freq[1]) \n",
    "print('Cancer frequency? Yes: %.2f' % cancer_freq[0], 'No: %.2f' % cancer_freq[1])\n",
    "print(\"---------------\")\n",
    "\n",
    "print('Expected frequencies:') \n",
    "print(np.outer(exposed_freq, cancer_freq))\n",
    "print(\"---------------\")\n",
    "\n",
    "print('N=', len(exposed), ', Expected cross-table (frequencies * N): ') \n",
    "print(np.outer(exposed_freq, cancer_freq) * len(exposed))"
   ]
  },
  {
   "cell_type": "code",
   "execution_count": null,
   "id": "fee600dc",
   "metadata": {},
   "outputs": [],
   "source": [
    "len(exposed)"
   ]
  },
  {
   "cell_type": "raw",
   "id": "a2c327a9",
   "metadata": {},
   "source": [
    "Please See the following document for more details :\n",
    "\n",
    "* Statistics and Machine Learning in Python\n",
    "Edouard Duchesnay, Tommy Löfstedt, Feki Younes\n",
    "\n",
    "*https://machinelearningmastery.com/nonparametric-statistical-significance-tests-in-python/"
   ]
  },
  {
   "cell_type": "markdown",
   "id": "f37a7acf",
   "metadata": {},
   "source": [
    "# <font><span background='yellow'>Application : Choose the good test from Dataset</span></font>"
   ]
  },
  {
   "cell_type": "code",
   "execution_count": 36,
   "id": "703e6185",
   "metadata": {},
   "outputs": [
    {
     "data": {
      "text/plain": [
       "((30, 1), (30, 1))"
      ]
     },
     "execution_count": 36,
     "metadata": {},
     "output_type": "execute_result"
    }
   ],
   "source": [
    "results_control_accuracy = pd.DataFrame(\n",
    "    [0.9333333359824286, 0.9777777791023254, 0.9777777791023254, 0.9777777791023254, 0.9777777791023254, \n",
    "     0.9777777791023254, 0.9777777791023254, 0.9777777791023254, 0.9555555568801032, 0.9777777791023254,\n",
    "     0.9777777791023254, 0.9777777791023254, 0.9777777791023254, 0.6000000052981906, 0.9777777791023254, \n",
    "     0.9777777791023254, 0.9777777791023254, 0.9111111124356588, 0.9777777791023254, 0.9777777791023254, \n",
    "     0.9777777791023254, 0.9777777791023254, 0.9777777791023254, 0.9777777791023254, 0.9555555568801032,\n",
    "     0.9777777791023254, 0.9777777791023254, 0.9777777791023254, 0.9777777791023254, 0.9111111124356588])\n",
    "\n",
    "results_experimental_accuracy = pd.DataFrame(\n",
    "    [0.9111111124356588, 0.9555555568801032, 0.9555555568801032, 0.9777777791023254, 0.9777777791023254, \n",
    "     0.9777777791023254, 0.9555555568801032, 0.933333334657881, 0.9777777791023254, 0.9777777791023254, \n",
    "     0.9777777791023254, 0.9555555568801032, 0.9777777791023254, 0.933333334657881, 0.9777777791023254, \n",
    "     0.9777777791023254, 0.9777777791023254, 0.9777777791023254, 0.9777777791023254, 0.9777777791023254,\n",
    "     0.9777777791023254, 0.9777777791023254, 0.9333333359824286, 0.9777777791023254, 0.9777777791023254, \n",
    "     0.9333333359824286, 0.9777777791023254, 0.9555555568801032, 0.9777777791023254, 0.9777777791023254])\n",
    "\n",
    "results_control_accuracy.shape, results_experimental_accuracy.shape"
   ]
  },
  {
   "cell_type": "markdown",
   "id": "b60292ce",
   "metadata": {},
   "source": [
    "## Visualize Data"
   ]
  },
  {
   "cell_type": "code",
   "execution_count": 41,
   "id": "cebcfb4b",
   "metadata": {},
   "outputs": [
    {
     "data": {
      "text/html": [
       "<div>\n",
       "<style scoped>\n",
       "    .dataframe tbody tr th:only-of-type {\n",
       "        vertical-align: middle;\n",
       "    }\n",
       "\n",
       "    .dataframe tbody tr th {\n",
       "        vertical-align: top;\n",
       "    }\n",
       "\n",
       "    .dataframe thead th {\n",
       "        text-align: right;\n",
       "    }\n",
       "</style>\n",
       "<table border=\"1\" class=\"dataframe\">\n",
       "  <thead>\n",
       "    <tr style=\"text-align: right;\">\n",
       "      <th></th>\n",
       "      <th>Control</th>\n",
       "      <th>Experimental</th>\n",
       "    </tr>\n",
       "  </thead>\n",
       "  <tbody>\n",
       "    <tr>\n",
       "      <th>0</th>\n",
       "      <td>0.933333</td>\n",
       "      <td>0.911111</td>\n",
       "    </tr>\n",
       "    <tr>\n",
       "      <th>1</th>\n",
       "      <td>0.977778</td>\n",
       "      <td>0.955556</td>\n",
       "    </tr>\n",
       "    <tr>\n",
       "      <th>2</th>\n",
       "      <td>0.977778</td>\n",
       "      <td>0.955556</td>\n",
       "    </tr>\n",
       "  </tbody>\n",
       "</table>\n",
       "</div>"
      ],
      "text/plain": [
       "    Control  Experimental\n",
       "0  0.933333      0.911111\n",
       "1  0.977778      0.955556\n",
       "2  0.977778      0.955556"
      ]
     },
     "execution_count": 41,
     "metadata": {},
     "output_type": "execute_result"
    }
   ],
   "source": [
    "results_accuracy= pd.concat([results_control_accuracy, results_experimental_accuracy], axis=1)\n",
    "results_accuracy.columns = ['Control', 'Experimental']\n",
    "\n",
    "results_accuracy.head(3)"
   ]
  },
  {
   "cell_type": "markdown",
   "id": "146e3d13",
   "metadata": {},
   "source": [
    "## Plots"
   ]
  },
  {
   "cell_type": "code",
   "execution_count": 42,
   "id": "9bddcb4f",
   "metadata": {},
   "outputs": [
    {
     "data": {
      "text/plain": [
       "<AxesSubplot:>"
      ]
     },
     "execution_count": 42,
     "metadata": {},
     "output_type": "execute_result"
    },
    {
     "data": {
      "image/png": "[encoded data removed]",
      "text/plain": [
       "<Figure size 432x288 with 1 Axes>"
      ]
     },
     "metadata": {
      "needs_background": "light"
     },
     "output_type": "display_data"
    }
   ],
   "source": [
    "results_accuracy.boxplot()\n",
    "\n",
    "#We can remove the outlier from view and get a better look, using showfliers\n",
    "#results_accuracy.boxplot(showfliers=False)"
   ]
  },
  {
   "cell_type": "code",
   "execution_count": 78,
   "id": "f8ed9df7",
   "metadata": {},
   "outputs": [
    {
     "name": "stdout",
     "output_type": "stream",
     "text": [
      "(2,)\n"
     ]
    },
    {
     "data": {
      "image/png": "[encoded data removed]",
      "text/plain": [
       "<Figure size 1368x504 with 2 Axes>"
      ]
     },
     "metadata": {
      "needs_background": "light"
     },
     "output_type": "display_data"
    }
   ],
   "source": [
    "# Destructuring initialization\n",
    "fig, axes = plt.subplots(1, 2, figsize=(19,7)) # axs is a (1,2) nd-array\n",
    "\n",
    "\n",
    "print(axes.shape)\n",
    "# First subplot\n",
    "sns.histplot(data = results_accuracy, x = \"Control\", kde = True,  ax=axes[0]);\n",
    "sns.histplot(data = results_accuracy, x = \"Experimental\", kde = True, ax=axes[1]);\n"
   ]
  },
  {
   "cell_type": "markdown",
   "id": "51c8182e",
   "metadata": {},
   "source": [
    "## Compare the mean performance (Control Vs. experimental)"
   ]
  },
  {
   "cell_type": "code",
   "execution_count": 79,
   "id": "56ad2d22",
   "metadata": {
    "scrolled": true
   },
   "outputs": [
    {
     "name": "stdout",
     "output_type": "stream",
     "text": [
      "Mean Control Accuracy: 0    0.957778\n",
      "dtype: float64\n",
      "Mean Experimental Accuracy: 0    0.965926\n",
      "dtype: float64\n",
      "---------------     ---------------    ---------------    ---------------   ---------------\n",
      "Standard Deviation of Control Accuracy Results: 0    0.070115\n",
      "dtype: float64\n",
      "Standard Deviation of Experimental Accuracy Results: 0    0.019119\n",
      "dtype: float64\n"
     ]
    }
   ],
   "source": [
    "mean_control_accuracy = results_control_accuracy.mean()\n",
    "print(\"Mean Control Accuracy: {}\".format(mean_control_accuracy))\n",
    "\n",
    "mean_experimental_accuracy = results_experimental_accuracy.mean()\n",
    "print(\"Mean Experimental Accuracy: {}\".format(mean_experimental_accuracy))\n",
    "\n",
    "print(\"---------------     ---------------    ---------------    ---------------   ---------------\")\n",
    "\n",
    "std_control_accuracy = results_control_accuracy.std()\n",
    "print(\"Standard Deviation of Control Accuracy Results: {}\".format(std_control_accuracy))\n",
    "\n",
    "std_experimental_accuracy = results_experimental_accuracy.std()\n",
    "print(\"Standard Deviation of Experimental Accuracy Results: {}\".format(std_experimental_accuracy))\n"
   ]
  },
  {
   "cell_type": "markdown",
   "id": "ceddd2ba",
   "metadata": {},
   "source": [
    "## Normality Test"
   ]
  },
  {
   "cell_type": "code",
   "execution_count": 80,
   "id": "37832b54",
   "metadata": {},
   "outputs": [
    {
     "name": "stdout",
     "output_type": "stream",
     "text": [
      "Control data is not normal\n",
      "Experimental data is not normal\n"
     ]
    }
   ],
   "source": [
    "alpha = 0.05;\n",
    "\n",
    "s, p = stats.normaltest(results_control_accuracy)\n",
    "if p < alpha:\n",
    "  print('Control data is not normal')\n",
    "else:\n",
    "  print('Control data is normal')\n",
    "\n",
    "s, p = stats.normaltest(results_experimental_accuracy)\n",
    "if p < alpha:\n",
    "  print('Experimental data is not normal')\n",
    "else:\n",
    "  print('Experimental data is normal')"
   ]
  },
  {
   "cell_type": "markdown",
   "id": "51e5f919",
   "metadata": {},
   "source": [
    "**So, we use The non Parametric Wilcoxon test**"
   ]
  },
  {
   "cell_type": "markdown",
   "id": "c41a81b1",
   "metadata": {},
   "source": [
    "## Choose the suitable Statistical test "
   ]
  },
  {
   "cell_type": "code",
   "execution_count": 82,
   "id": "28d552ac",
   "metadata": {},
   "outputs": [
    {
     "name": "stdout",
     "output_type": "stream",
     "text": [
      "Null hypothesis accepted, no significant difference between the data-sets\n"
     ]
    }
   ],
   "source": [
    "s, p = stats.wilcoxon(results_control_accuracy[0], results_experimental_accuracy[0])\n",
    "\n",
    "if p > 0.05:\n",
    "    print('Null hypothesis accepted, no significant difference between the data-sets')\n",
    "else:\n",
    "    print('Null hypothesis rejected, significant difference between the data-sets')"
   ]
  },
  {
   "cell_type": "code",
   "execution_count": null,
   "id": "7bc0f0cb",
   "metadata": {},
   "outputs": [],
   "source": []
  },
  {
   "cell_type": "markdown",
   "id": "d9d8071b",
   "metadata": {},
   "source": [
    "# <span style='background:yellow'>Application 2: Choose the good test from Dataset</span>"
   ]
  },
  {
   "cell_type": "code",
   "execution_count": 85,
   "id": "fdb6556a",
   "metadata": {},
   "outputs": [
    {
     "data": {
      "text/html": [
       "<div>\n",
       "<style scoped>\n",
       "    .dataframe tbody tr th:only-of-type {\n",
       "        vertical-align: middle;\n",
       "    }\n",
       "\n",
       "    .dataframe tbody tr th {\n",
       "        vertical-align: top;\n",
       "    }\n",
       "\n",
       "    .dataframe thead th {\n",
       "        text-align: right;\n",
       "    }\n",
       "</style>\n",
       "<table border=\"1\" class=\"dataframe\">\n",
       "  <thead>\n",
       "    <tr style=\"text-align: right;\">\n",
       "      <th></th>\n",
       "      <th>Gender</th>\n",
       "      <th>FSIQ</th>\n",
       "      <th>VIQ</th>\n",
       "      <th>PIQ</th>\n",
       "      <th>Weight</th>\n",
       "      <th>Height</th>\n",
       "      <th>MRI_Count</th>\n",
       "    </tr>\n",
       "  </thead>\n",
       "  <tbody>\n",
       "    <tr>\n",
       "      <th>1</th>\n",
       "      <td>Female</td>\n",
       "      <td>133</td>\n",
       "      <td>132</td>\n",
       "      <td>124</td>\n",
       "      <td>118.0</td>\n",
       "      <td>64.5</td>\n",
       "      <td>816932</td>\n",
       "    </tr>\n",
       "    <tr>\n",
       "      <th>2</th>\n",
       "      <td>Male</td>\n",
       "      <td>140</td>\n",
       "      <td>150</td>\n",
       "      <td>124</td>\n",
       "      <td>NaN</td>\n",
       "      <td>72.5</td>\n",
       "      <td>1001121</td>\n",
       "    </tr>\n",
       "  </tbody>\n",
       "</table>\n",
       "</div>"
      ],
      "text/plain": [
       "   Gender  FSIQ  VIQ  PIQ  Weight  Height  MRI_Count\n",
       "1  Female   133  132  124   118.0    64.5     816932\n",
       "2    Male   140  150  124     NaN    72.5    1001121"
      ]
     },
     "execution_count": 85,
     "metadata": {},
     "output_type": "execute_result"
    }
   ],
   "source": [
    "data = pd.read_csv('brain_size.csv', \n",
    "                   delimiter=';', index_col=0, na_values='.')\n",
    "data.head(2)"
   ]
  },
  {
   "cell_type": "code",
   "execution_count": 86,
   "id": "450ed1cd",
   "metadata": {},
   "outputs": [
    {
     "data": {
      "text/plain": [
       "(40, 7)"
      ]
     },
     "execution_count": 86,
     "metadata": {},
     "output_type": "execute_result"
    }
   ],
   "source": [
    "data.shape"
   ]
  },
  {
   "cell_type": "code",
   "execution_count": 87,
   "id": "70e2d843",
   "metadata": {},
   "outputs": [
    {
     "data": {
      "text/plain": [
       "Female    20\n",
       "Male      20\n",
       "Name: Gender, dtype: int64"
      ]
     },
     "execution_count": 87,
     "metadata": {},
     "output_type": "execute_result"
    }
   ],
   "source": [
    "data.Gender.value_counts()"
   ]
  },
  {
   "cell_type": "code",
   "execution_count": 92,
   "id": "2b6ac7b0",
   "metadata": {},
   "outputs": [
    {
     "data": {
      "text/html": [
       "<div>\n",
       "<style scoped>\n",
       "    .dataframe tbody tr th:only-of-type {\n",
       "        vertical-align: middle;\n",
       "    }\n",
       "\n",
       "    .dataframe tbody tr th {\n",
       "        vertical-align: top;\n",
       "    }\n",
       "\n",
       "    .dataframe thead th {\n",
       "        text-align: right;\n",
       "    }\n",
       "</style>\n",
       "<table border=\"1\" class=\"dataframe\">\n",
       "  <thead>\n",
       "    <tr style=\"text-align: right;\">\n",
       "      <th></th>\n",
       "      <th>Gender</th>\n",
       "      <th>FSIQ</th>\n",
       "      <th>VIQ</th>\n",
       "      <th>PIQ</th>\n",
       "      <th>Weight</th>\n",
       "      <th>Height</th>\n",
       "      <th>MRI_Count</th>\n",
       "    </tr>\n",
       "  </thead>\n",
       "  <tbody>\n",
       "    <tr>\n",
       "      <th>0</th>\n",
       "      <td>Female</td>\n",
       "      <td>111.9</td>\n",
       "      <td>109.45</td>\n",
       "      <td>110.45</td>\n",
       "      <td>137.200000</td>\n",
       "      <td>65.765000</td>\n",
       "      <td>862654.6</td>\n",
       "    </tr>\n",
       "    <tr>\n",
       "      <th>1</th>\n",
       "      <td>Male</td>\n",
       "      <td>115.0</td>\n",
       "      <td>115.25</td>\n",
       "      <td>111.60</td>\n",
       "      <td>166.444444</td>\n",
       "      <td>71.431579</td>\n",
       "      <td>954855.4</td>\n",
       "    </tr>\n",
       "  </tbody>\n",
       "</table>\n",
       "</div>"
      ],
      "text/plain": [
       "   Gender   FSIQ     VIQ     PIQ      Weight     Height  MRI_Count\n",
       "0  Female  111.9  109.45  110.45  137.200000  65.765000   862654.6\n",
       "1    Male  115.0  115.25  111.60  166.444444  71.431579   954855.4"
      ]
     },
     "execution_count": 92,
     "metadata": {},
     "output_type": "execute_result"
    }
   ],
   "source": [
    "# make a groupby object on the dataframe\n",
    "groupby_gender = data.groupby('Gender')\n",
    "groupby_gender.mean().reset_index()"
   ]
  },
  {
   "cell_type": "markdown",
   "id": "d1409bcc",
   "metadata": {},
   "source": [
    "## 1 sample t-Student test "
   ]
  },
  {
   "cell_type": "code",
   "execution_count": 95,
   "id": "4f153610",
   "metadata": {},
   "outputs": [
    {
     "name": "stdout",
     "output_type": "stream",
     "text": [
      "Parametric 1 sample t-Student test : Statistics=30.088, p=0.726\n"
     ]
    }
   ],
   "source": [
    "# runa 1 sample t-test\n",
    "stat, pval = stats.ttest_1samp(data['VIQ'], 0)\n",
    "\n",
    "print('Parametric 1 sample t-Student test : Statistics=%.3f, p=%.3f' % (stat, p))"
   ]
  },
  {
   "cell_type": "markdown",
   "id": "19b587fd",
   "metadata": {},
   "source": [
    "## 2 samples t-Student test "
   ]
  },
  {
   "cell_type": "code",
   "execution_count": 96,
   "id": "180bc43c",
   "metadata": {},
   "outputs": [
    {
     "name": "stdout",
     "output_type": "stream",
     "text": [
      "Parametric 2 samples t-Student test : Statistics=-0.773, p=0.726\n"
     ]
    }
   ],
   "source": [
    "female_viq = data[data['Gender'] == 'Female']['VIQ']\n",
    "male_viq = data[data['Gender'] == 'Male']['VIQ']\n",
    "\n",
    "stat, pval = stats.ttest_ind(female_viq, male_viq)\n",
    "print('Parametric 2 samples t-Student test : Statistics=%.3f, p=%.3f' % (stat, p))"
   ]
  },
  {
   "cell_type": "markdown",
   "id": "123291ba",
   "metadata": {},
   "source": [
    "## Paired tests: repeated measurements on the same indivuals"
   ]
  },
  {
   "cell_type": "markdown",
   "id": "bf009abe",
   "metadata": {},
   "source": [
    "We can first look if FSIQ and PIQ are different using the 2-sample t-test."
   ]
  },
  {
   "cell_type": "code",
   "execution_count": 98,
   "id": "dc88e6b0",
   "metadata": {},
   "outputs": [
    {
     "name": "stdout",
     "output_type": "stream",
     "text": [
      "1 sample t-test : Statistics=0.466, p=0.726\n"
     ]
    }
   ],
   "source": [
    "stat, pval = stats.ttest_ind(data['FSIQ'], data['PIQ'])\n",
    "\n",
    "print('1 sample t-test : Statistics=%.3f, p=%.3f' % (stat, p))"
   ]
  },
  {
   "cell_type": "markdown",
   "id": "85aadda9",
   "metadata": {},
   "source": [
    "1 sample t-test  doesn't account for individual differences contributing to variance in data.\n",
    "\n",
    "We can use a paired t-test or repeated measures test to account for these individual differences."
   ]
  },
  {
   "cell_type": "code",
   "execution_count": 99,
   "id": "866c9f26",
   "metadata": {},
   "outputs": [
    {
     "name": "stdout",
     "output_type": "stream",
     "text": [
      "Paired test : Statistics=1.784, p=0.726\n"
     ]
    }
   ],
   "source": [
    "stat, pval = stats.ttest_rel(data['FSIQ'], data['PIQ'])\n",
    "\n",
    "print('Paired test : Statistics=%.3f, p=%.3f' % (stat, p))"
   ]
  },
  {
   "cell_type": "code",
   "execution_count": 100,
   "id": "16d1f1ea",
   "metadata": {},
   "outputs": [
    {
     "name": "stdout",
     "output_type": "stream",
     "text": [
      "1-sample t-test on the difference of the two measures : Statistics=1.784, p=0.726\n"
     ]
    }
   ],
   "source": [
    "####   NB  ########\n",
    "stat, pval = stats.ttest_1samp(data['FSIQ'] - data['PIQ'], 0)\n",
    "print('1-sample t-test on the difference of the two measures : Statistics=%.3f, p=%.3f' % (stat, p))"
   ]
  },
  {
   "cell_type": "markdown",
   "id": "ddd94e39",
   "metadata": {},
   "source": [
    "**These tests assume normality in the data. A non-parametric alternative is the Wilcoxian signed rank test**"
   ]
  },
  {
   "cell_type": "code",
   "execution_count": 101,
   "id": "a6b1331d",
   "metadata": {},
   "outputs": [
    {
     "name": "stdout",
     "output_type": "stream",
     "text": [
      "Non-Parametric Wilcoxon test, stat: 274.5000, pval: 0.1066\n"
     ]
    }
   ],
   "source": [
    "stat, pval = stats.wilcoxon(data['FSIQ'], data['PIQ'])\n",
    "print(\"Non-Parametric Wilcoxon test, stat: %.4f, pval: %.4f\" % (stat, pval))"
   ]
  },
  {
   "cell_type": "markdown",
   "id": "28a7c18c",
   "metadata": {},
   "source": [
    "**Note: The corresponding test in the non paired case is the Mann–Whitney U test, scipy.stats.mannwhitneyu().**"
   ]
  },
  {
   "cell_type": "code",
   "execution_count": null,
   "id": "11a9f3ba",
   "metadata": {},
   "outputs": [],
   "source": []
  }
 ],
 "metadata": {
  "kernelspec": {
   "display_name": "Python 3 (ipykernel)",
   "language": "python",
   "name": "python3"
  },
  "language_info": {
   "codemirror_mode": {
    "name": "ipython",
    "version": 3
   },
   "file_extension": ".py",
   "mimetype": "text/x-python",
   "name": "python",
   "nbconvert_exporter": "python",
   "pygments_lexer": "ipython3",
   "version": "3.8.6"
  },
  "toc": {
   "base_numbering": 1,
   "nav_menu": {},
   "number_sections": true,
   "sideBar": true,
   "skip_h1_title": false,
   "title_cell": "Table of Contents",
   "title_sidebar": "Contents",
   "toc_cell": false,
   "toc_position": {
    "height": "calc(100% - 180px)",
    "left": "10px",
    "top": "150px",
    "width": "360px"
   },
   "toc_section_display": true,
   "toc_window_display": true
  }
 },
 "nbformat": 4,
 "nbformat_minor": 5
}
