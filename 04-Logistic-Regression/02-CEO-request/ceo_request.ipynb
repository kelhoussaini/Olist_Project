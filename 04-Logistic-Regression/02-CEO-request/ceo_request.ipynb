{
 "cells": [
  {
   "cell_type": "markdown",
   "metadata": {
    "slideshow": {
     "slide_type": "skip"
    }
   },
   "source": [
    "# CEO-REQUEST CHALLENGE"
   ]
  },
  {
   "cell_type": "markdown",
   "metadata": {
    "slideshow": {
     "slide_type": "slide"
    }
   },
   "source": [
    "> Should Olist remove underperforming sellers from its marketplace?"
   ]
  },
  {
   "cell_type": "code",
   "execution_count": 1,
   "metadata": {
    "slideshow": {
     "slide_type": "skip"
    }
   },
   "outputs": [],
   "source": [
    "import pandas as pd\n",
    "import seaborn as sns\n",
    "import statsmodels.api as sm\n",
    "import statsmodels.formula.api as smf\n",
    "import matplotlib.pyplot as plt\n",
    "import numpy as np"
   ]
  },
  {
   "cell_type": "code",
   "execution_count": 2,
   "metadata": {
    "slideshow": {
     "slide_type": "skip"
    }
   },
   "outputs": [],
   "source": [
    "# Import data\n",
    "\n",
    "from olist.data import Olist\n",
    "olist=Olist()\n",
    "data=olist.get_data()  ## is dict\n",
    "matching_table = olist.get_matching_table()\n",
    "\n",
    "#print(\" ** matching_table.shape  ** \", matching_table.shape)\n",
    "#print(list(data.keys()))"
   ]
  },
  {
   "cell_type": "code",
   "execution_count": 3,
   "metadata": {
    "slideshow": {
     "slide_type": "skip"
    }
   },
   "outputs": [],
   "source": [
    "# Import olist seller\n",
    "from olist.seller import Seller\n",
    "seller=Seller()\n",
    "sellers=seller.get_training_data() \n",
    "\n",
    "#print(\" ** sellers.shape  ** \", sellers.shape)"
   ]
  },
  {
   "cell_type": "code",
   "execution_count": 4,
   "metadata": {
    "slideshow": {
     "slide_type": "skip"
    }
   },
   "outputs": [],
   "source": [
    "# Import orders training_set \n",
    "from olist.order import Order\n",
    "order=Order()\n",
    "orders=order.get_training_data() ## is dict\n",
    "#print(\" ** orders.shape  ** \", orders.shape)"
   ]
  },
  {
   "cell_type": "markdown",
   "metadata": {
    "slideshow": {
     "slide_type": "slide"
    }
   },
   "source": [
    "## Problem statement"
   ]
  },
  {
   "cell_type": "markdown",
   "metadata": {
    "slideshow": {
     "slide_type": "subslide"
    }
   },
   "source": [
    "- The `revenues` it brings\n",
    "- The `costs` associated with all its bad reviews\n",
    "- The resulting `profits` (revenues - costs)\n",
    "\n",
    "**review_score\t------> cost (BRL)**\n",
    "- 1 star\t------>       100\n",
    "- 2 stars     ------>   \t50\n",
    "- 3 stars     ------>   \t40\n",
    "- 4 stars     ------>    \t0\n",
    "- 5 stars     ------>       0"
   ]
  },
  {
   "cell_type": "markdown",
   "metadata": {
    "slideshow": {
     "slide_type": "fragment"
    }
   },
   "source": [
    "<span style=\"color:blue\">  Solution : We suggest to not remove underperforming sellers from its marketplace, but to increase price rate to 15% </span>"
   ]
  },
  {
   "cell_type": "markdown",
   "metadata": {
    "slideshow": {
     "slide_type": "skip"
    }
   },
   "source": [
    "To analyse the impact of removing the worse sellers from Olist's marketplace, we can start with a what-if analysis: What would have happened if Olist had never accepted these sellers in the first place? For that:\n",
    "\n",
    "Step ① Compute, for each `seller_id`, and cumulated since the beginning:\n",
    "- The `revenues` it brings\n",
    "- The `costs` associated with all its bad reviews\n",
    "- The resulting `profits` (revenues - costs)\n",
    "- The number of `orders` (it will impact overall IT costs)\n",
    "\n",
    "\n",
    "Step ② We can then sort sellers by increasing profits for Olist, and for each number of sellers to remove, compute the financial impact it would have made had they never been accepted on the platform. We may find an optimal number of sellers to remove that maximizes Olist's profit margin"
   ]
  },
  {
   "cell_type": "markdown",
   "metadata": {
    "slideshow": {
     "slide_type": "skip"
    }
   },
   "source": [
    "### Step 1"
   ]
  },
  {
   "cell_type": "markdown",
   "metadata": {
    "slideshow": {
     "slide_type": "slide"
    }
   },
   "source": [
    "#### The revenues for all sellers and per seller"
   ]
  },
  {
   "cell_type": "markdown",
   "metadata": {
    "slideshow": {
     "slide_type": "skip"
    }
   },
   "source": [
    "- Import orders training_set ----> from olist.order import Order\n",
    "- order=Order()  ------ > orders=order.get_training_data() "
   ]
  },
  {
   "cell_type": "markdown",
   "metadata": {
    "slideshow": {
     "slide_type": "skip"
    }
   },
   "source": [
    "- from olist.seller import Seller\n",
    "- seller=Seller()    --------->   sellers=seller.get_training_data() "
   ]
  },
  {
   "cell_type": "code",
   "execution_count": 5,
   "metadata": {
    "slideshow": {
     "slide_type": "fragment"
    }
   },
   "outputs": [],
   "source": [
    "# Import olist seller\n",
    "from olist.seller import Seller\n",
    "seller=Seller(); sellers=seller.get_training_data() "
   ]
  },
  {
   "cell_type": "code",
   "execution_count": 6,
   "metadata": {
    "slideshow": {
     "slide_type": "skip"
    }
   },
   "outputs": [
    {
     "data": {
      "text/html": [
       "<div>\n",
       "<style scoped>\n",
       "    .dataframe tbody tr th:only-of-type {\n",
       "        vertical-align: middle;\n",
       "    }\n",
       "\n",
       "    .dataframe tbody tr th {\n",
       "        vertical-align: top;\n",
       "    }\n",
       "\n",
       "    .dataframe thead th {\n",
       "        text-align: right;\n",
       "    }\n",
       "</style>\n",
       "<table border=\"1\" class=\"dataframe\">\n",
       "  <thead>\n",
       "    <tr style=\"text-align: right;\">\n",
       "      <th></th>\n",
       "      <th>seller_id</th>\n",
       "      <th>seller_city</th>\n",
       "      <th>seller_state</th>\n",
       "      <th>delay_to_carrier</th>\n",
       "      <th>wait_time</th>\n",
       "      <th>date_first_sale</th>\n",
       "      <th>date_last_sale</th>\n",
       "      <th>share_of_one_stars</th>\n",
       "      <th>share_of_five_stars</th>\n",
       "      <th>review_score</th>\n",
       "      <th>n_orders</th>\n",
       "      <th>quantity</th>\n",
       "      <th>quantity_per_order</th>\n",
       "      <th>sales</th>\n",
       "    </tr>\n",
       "  </thead>\n",
       "  <tbody>\n",
       "    <tr>\n",
       "      <th>0</th>\n",
       "      <td>3442f8959a84dea7ee197c632cb2df15</td>\n",
       "      <td>campinas</td>\n",
       "      <td>SP</td>\n",
       "      <td>1.514329</td>\n",
       "      <td>13.018588</td>\n",
       "      <td>2017-05-05 16:25:11</td>\n",
       "      <td>2017-08-30 12:50:19</td>\n",
       "      <td>0.333333</td>\n",
       "      <td>0.333333</td>\n",
       "      <td>3.00</td>\n",
       "      <td>3</td>\n",
       "      <td>3</td>\n",
       "      <td>1.000</td>\n",
       "      <td>218.70</td>\n",
       "    </tr>\n",
       "    <tr>\n",
       "      <th>1</th>\n",
       "      <td>d1b65fc7debc3361ea86b5f14c68d2e2</td>\n",
       "      <td>mogi guacu</td>\n",
       "      <td>SP</td>\n",
       "      <td>0.155190</td>\n",
       "      <td>9.065716</td>\n",
       "      <td>2017-03-29 02:10:34</td>\n",
       "      <td>2018-06-06 20:15:21</td>\n",
       "      <td>0.050000</td>\n",
       "      <td>0.725000</td>\n",
       "      <td>4.55</td>\n",
       "      <td>40</td>\n",
       "      <td>41</td>\n",
       "      <td>1.025</td>\n",
       "      <td>11703.07</td>\n",
       "    </tr>\n",
       "  </tbody>\n",
       "</table>\n",
       "</div>"
      ],
      "text/plain": [
       "                          seller_id seller_city seller_state  \\\n",
       "0  3442f8959a84dea7ee197c632cb2df15    campinas           SP   \n",
       "1  d1b65fc7debc3361ea86b5f14c68d2e2  mogi guacu           SP   \n",
       "\n",
       "   delay_to_carrier  wait_time     date_first_sale      date_last_sale  \\\n",
       "0          1.514329  13.018588 2017-05-05 16:25:11 2017-08-30 12:50:19   \n",
       "1          0.155190   9.065716 2017-03-29 02:10:34 2018-06-06 20:15:21   \n",
       "\n",
       "   share_of_one_stars  share_of_five_stars  review_score  n_orders  quantity  \\\n",
       "0            0.333333             0.333333          3.00         3         3   \n",
       "1            0.050000             0.725000          4.55        40        41   \n",
       "\n",
       "   quantity_per_order     sales  \n",
       "0               1.000    218.70  \n",
       "1               1.025  11703.07  "
      ]
     },
     "execution_count": 6,
     "metadata": {},
     "output_type": "execute_result"
    }
   ],
   "source": [
    "sellers.head(2)"
   ]
  },
  {
   "cell_type": "markdown",
   "metadata": {
    "slideshow": {
     "slide_type": "skip"
    }
   },
   "source": [
    "Revenues :\n",
    "\n",
    "- Olist takes a 10% cut on the product price (excl. freight) of each order delivered.\n",
    "- Olist charges 80 BRL by month per seller."
   ]
  },
  {
   "cell_type": "markdown",
   "metadata": {
    "slideshow": {
     "slide_type": "skip"
    }
   },
   "source": [
    "##### Data"
   ]
  },
  {
   "cell_type": "markdown",
   "metadata": {
    "slideshow": {
     "slide_type": "skip"
    }
   },
   "source": [
    "**Columns of interest**"
   ]
  },
  {
   "cell_type": "code",
   "execution_count": 10,
   "metadata": {
    "slideshow": {
     "slide_type": "fragment"
    }
   },
   "outputs": [
    {
     "data": {
      "text/html": [
       "<div>\n",
       "<style scoped>\n",
       "    .dataframe tbody tr th:only-of-type {\n",
       "        vertical-align: middle;\n",
       "    }\n",
       "\n",
       "    .dataframe tbody tr th {\n",
       "        vertical-align: top;\n",
       "    }\n",
       "\n",
       "    .dataframe thead th {\n",
       "        text-align: right;\n",
       "    }\n",
       "</style>\n",
       "<table border=\"1\" class=\"dataframe\">\n",
       "  <thead>\n",
       "    <tr style=\"text-align: right;\">\n",
       "      <th></th>\n",
       "      <th>seller_id</th>\n",
       "      <th>date_first_sale</th>\n",
       "      <th>date_last_sale</th>\n",
       "      <th>sales</th>\n",
       "      <th>n_orders</th>\n",
       "    </tr>\n",
       "  </thead>\n",
       "  <tbody>\n",
       "    <tr>\n",
       "      <th>0</th>\n",
       "      <td>3442f8959a84dea7ee197c632cb2df15</td>\n",
       "      <td>2017-05-05 16:25:11</td>\n",
       "      <td>2017-08-30 12:50:19</td>\n",
       "      <td>218.70</td>\n",
       "      <td>3</td>\n",
       "    </tr>\n",
       "    <tr>\n",
       "      <th>1</th>\n",
       "      <td>d1b65fc7debc3361ea86b5f14c68d2e2</td>\n",
       "      <td>2017-03-29 02:10:34</td>\n",
       "      <td>2018-06-06 20:15:21</td>\n",
       "      <td>11703.07</td>\n",
       "      <td>40</td>\n",
       "    </tr>\n",
       "  </tbody>\n",
       "</table>\n",
       "</div>"
      ],
      "text/plain": [
       "                          seller_id     date_first_sale      date_last_sale  \\\n",
       "0  3442f8959a84dea7ee197c632cb2df15 2017-05-05 16:25:11 2017-08-30 12:50:19   \n",
       "1  d1b65fc7debc3361ea86b5f14c68d2e2 2017-03-29 02:10:34 2018-06-06 20:15:21   \n",
       "\n",
       "      sales  n_orders  \n",
       "0    218.70         3  \n",
       "1  11703.07        40  "
      ]
     },
     "execution_count": 10,
     "metadata": {},
     "output_type": "execute_result"
    }
   ],
   "source": [
    "mask_columns = [ 'seller_id', 'date_first_sale', 'date_last_sale', 'sales' , 'n_orders'] \n",
    "sellers_1 = sellers[mask_columns].copy()\n",
    "sellers_1.head(2)"
   ]
  },
  {
   "cell_type": "code",
   "execution_count": 14,
   "metadata": {
    "slideshow": {
     "slide_type": "fragment"
    }
   },
   "outputs": [
    {
     "data": {
      "text/html": [
       "<div>\n",
       "<style scoped>\n",
       "    .dataframe tbody tr th:only-of-type {\n",
       "        vertical-align: middle;\n",
       "    }\n",
       "\n",
       "    .dataframe tbody tr th {\n",
       "        vertical-align: top;\n",
       "    }\n",
       "\n",
       "    .dataframe thead th {\n",
       "        text-align: right;\n",
       "    }\n",
       "</style>\n",
       "<table border=\"1\" class=\"dataframe\">\n",
       "  <thead>\n",
       "    <tr style=\"text-align: right;\">\n",
       "      <th></th>\n",
       "      <th>seller_id</th>\n",
       "      <th>date_first_sale</th>\n",
       "      <th>date_last_sale</th>\n",
       "      <th>sales</th>\n",
       "      <th>n_orders</th>\n",
       "      <th>active_months</th>\n",
       "      <th>revenues</th>\n",
       "    </tr>\n",
       "  </thead>\n",
       "  <tbody>\n",
       "    <tr>\n",
       "      <th>0</th>\n",
       "      <td>3442f8959a84dea7ee197c632cb2df15</td>\n",
       "      <td>2017-05-05 16:25:11</td>\n",
       "      <td>2017-08-30 12:50:19</td>\n",
       "      <td>218.70</td>\n",
       "      <td>3</td>\n",
       "      <td>3.84</td>\n",
       "      <td>329.07</td>\n",
       "    </tr>\n",
       "    <tr>\n",
       "      <th>1</th>\n",
       "      <td>d1b65fc7debc3361ea86b5f14c68d2e2</td>\n",
       "      <td>2017-03-29 02:10:34</td>\n",
       "      <td>2018-06-06 20:15:21</td>\n",
       "      <td>11703.07</td>\n",
       "      <td>40</td>\n",
       "      <td>14.28</td>\n",
       "      <td>2312.71</td>\n",
       "    </tr>\n",
       "  </tbody>\n",
       "</table>\n",
       "</div>"
      ],
      "text/plain": [
       "                          seller_id     date_first_sale      date_last_sale  \\\n",
       "0  3442f8959a84dea7ee197c632cb2df15 2017-05-05 16:25:11 2017-08-30 12:50:19   \n",
       "1  d1b65fc7debc3361ea86b5f14c68d2e2 2017-03-29 02:10:34 2018-06-06 20:15:21   \n",
       "\n",
       "      sales  n_orders  active_months  revenues  \n",
       "0    218.70         3           3.84    329.07  \n",
       "1  11703.07        40          14.28   2312.71  "
      ]
     },
     "execution_count": 14,
     "metadata": {},
     "output_type": "execute_result"
    }
   ],
   "source": [
    "sellers_1['active_months'] = \\\n",
    "          round(\n",
    "    (sellers_1['date_last_sale'] - sellers_1['date_first_sale']) / np.timedelta64(1,'M'), 2)\n",
    "\n",
    "sellers_1['revenues'] = round( sellers_1['sales'].map(lambda x : .1*x) \\\n",
    "                       + (sellers_1['active_months']*80), 2)\n",
    "sellers_1.head(2)"
   ]
  },
  {
   "cell_type": "code",
   "execution_count": 15,
   "metadata": {
    "slideshow": {
     "slide_type": "skip"
    }
   },
   "outputs": [
    {
     "data": {
      "text/plain": [
       "seller_id          9e25199f6ef7e7c347120ff175652c3b\n",
       "date_first_sale                 2017-03-27 10:10:27\n",
       "date_last_sale                  2017-03-27 10:10:27\n",
       "sales                                          12.5\n",
       "n_orders                                          1\n",
       "active_months                                   0.0\n",
       "revenues                                       1.25\n",
       "Name: 2969, dtype: object"
      ]
     },
     "execution_count": 15,
     "metadata": {},
     "output_type": "execute_result"
    }
   ],
   "source": [
    "sellers_1.iloc[-1, :]"
   ]
  },
  {
   "cell_type": "code",
   "execution_count": 16,
   "metadata": {
    "slideshow": {
     "slide_type": "skip"
    }
   },
   "outputs": [],
   "source": [
    "total_revenues = sellers_1['revenues'].sum()"
   ]
  },
  {
   "cell_type": "code",
   "execution_count": 17,
   "metadata": {
    "slideshow": {
     "slide_type": "fragment"
    }
   },
   "outputs": [
    {
     "name": "stdout",
     "output_type": "stream",
     "text": [
      "Revenues for all sellers : 2787749.33\n"
     ]
    }
   ],
   "source": [
    "print(\"Revenues for all sellers :\", round(total_revenues, 2))"
   ]
  },
  {
   "cell_type": "markdown",
   "metadata": {
    "slideshow": {
     "slide_type": "subslide"
    }
   },
   "source": [
    "##### Result : revenues per seller"
   ]
  },
  {
   "cell_type": "markdown",
   "metadata": {
    "slideshow": {
     "slide_type": "fragment"
    }
   },
   "source": [
    "Total revenues for all sellers:<span style=\"color:blue\">  2_787_744   BRL</span>"
   ]
  },
  {
   "cell_type": "code",
   "execution_count": 26,
   "metadata": {},
   "outputs": [
    {
     "data": {
      "text/plain": [
       "Text(0, 0.5, 'revenues')"
      ]
     },
     "execution_count": 26,
     "metadata": {},
     "output_type": "execute_result"
    },
    {
     "data": {
      "image/png": "[encoded data removed]",
      "text/plain": [
       "<Figure size 432x288 with 1 Axes>"
      ]
     },
     "metadata": {
      "needs_background": "light"
     },
     "output_type": "display_data"
    }
   ],
   "source": [
    "sorted_sellers_1 = sellers_1.sort_values(by='revenues').reset_index()\n",
    "\n",
    "sorted_sellers_1.revenues.plot()\n",
    "plt.xlabel('sellers_rows'); plt.ylabel('revenues')"
   ]
  },
  {
   "cell_type": "code",
   "execution_count": 12,
   "metadata": {
    "slideshow": {
     "slide_type": "fragment"
    }
   },
   "outputs": [
    {
     "data": {
      "text/html": [
       "<div>\n",
       "<style scoped>\n",
       "    .dataframe tbody tr th:only-of-type {\n",
       "        vertical-align: middle;\n",
       "    }\n",
       "\n",
       "    .dataframe tbody tr th {\n",
       "        vertical-align: top;\n",
       "    }\n",
       "\n",
       "    .dataframe thead th {\n",
       "        text-align: right;\n",
       "    }\n",
       "</style>\n",
       "<table border=\"1\" class=\"dataframe\">\n",
       "  <thead>\n",
       "    <tr style=\"text-align: right;\">\n",
       "      <th></th>\n",
       "      <th>seller_id</th>\n",
       "      <th>revenues</th>\n",
       "    </tr>\n",
       "  </thead>\n",
       "  <tbody>\n",
       "    <tr>\n",
       "      <th>2241</th>\n",
       "      <td>77128dec4bec4878c37ab7d6169d6f26</td>\n",
       "      <td>0.65</td>\n",
       "    </tr>\n",
       "    <tr>\n",
       "      <th>2016</th>\n",
       "      <td>1fa2d3def6adfa70e58c276bb64fe5bb</td>\n",
       "      <td>0.69</td>\n",
       "    </tr>\n",
       "    <tr>\n",
       "      <th>2314</th>\n",
       "      <td>702835e4b785b67a084280efca355756</td>\n",
       "      <td>0.76</td>\n",
       "    </tr>\n",
       "  </tbody>\n",
       "</table>\n",
       "</div>"
      ],
      "text/plain": [
       "                             seller_id  revenues\n",
       "2241  77128dec4bec4878c37ab7d6169d6f26      0.65\n",
       "2016  1fa2d3def6adfa70e58c276bb64fe5bb      0.69\n",
       "2314  702835e4b785b67a084280efca355756      0.76"
      ]
     },
     "execution_count": 12,
     "metadata": {},
     "output_type": "execute_result"
    }
   ],
   "source": [
    "round( sellers_1[['seller_id', 'revenues']] , 2) \\\n",
    "                        .sort_values(by = 'revenues') \\\n",
    "                        .head(3)  "
   ]
  },
  {
   "cell_type": "code",
   "execution_count": 13,
   "metadata": {
    "slideshow": {
     "slide_type": "fragment"
    }
   },
   "outputs": [
    {
     "data": {
      "text/html": [
       "<div>\n",
       "<style scoped>\n",
       "    .dataframe tbody tr th:only-of-type {\n",
       "        vertical-align: middle;\n",
       "    }\n",
       "\n",
       "    .dataframe tbody tr th {\n",
       "        vertical-align: top;\n",
       "    }\n",
       "\n",
       "    .dataframe thead th {\n",
       "        text-align: right;\n",
       "    }\n",
       "</style>\n",
       "<table border=\"1\" class=\"dataframe\">\n",
       "  <thead>\n",
       "    <tr style=\"text-align: right;\">\n",
       "      <th></th>\n",
       "      <th>seller_id</th>\n",
       "      <th>revenues</th>\n",
       "    </tr>\n",
       "  </thead>\n",
       "  <tbody>\n",
       "    <tr>\n",
       "      <th>2360</th>\n",
       "      <td>4a3ca9315b744ce9f8e9374361493884</td>\n",
       "      <td>21613.96</td>\n",
       "    </tr>\n",
       "    <tr>\n",
       "      <th>868</th>\n",
       "      <td>53243585a1d6dc2643021fd1853d8905</td>\n",
       "      <td>23218.33</td>\n",
       "    </tr>\n",
       "    <tr>\n",
       "      <th>2506</th>\n",
       "      <td>4869f7a5dfa277a7dca6462dcf3b52b2</td>\n",
       "      <td>24354.20</td>\n",
       "    </tr>\n",
       "  </tbody>\n",
       "</table>\n",
       "</div>"
      ],
      "text/plain": [
       "                             seller_id  revenues\n",
       "2360  4a3ca9315b744ce9f8e9374361493884  21613.96\n",
       "868   53243585a1d6dc2643021fd1853d8905  23218.33\n",
       "2506  4869f7a5dfa277a7dca6462dcf3b52b2  24354.20"
      ]
     },
     "execution_count": 13,
     "metadata": {},
     "output_type": "execute_result"
    }
   ],
   "source": [
    "round( sellers_1[['seller_id', 'revenues']] , 2 ) \\\n",
    "                        .sort_values(by = 'revenues') \\\n",
    "                        .tail(3) "
   ]
  },
  {
   "cell_type": "markdown",
   "metadata": {},
   "source": [
    "##### Cumulative sum of revenues"
   ]
  },
  {
   "cell_type": "code",
   "execution_count": 29,
   "metadata": {},
   "outputs": [
    {
     "data": {
      "text/plain": [
       "Text(0, 0.5, 'Cumulative sum of revenues')"
      ]
     },
     "execution_count": 29,
     "metadata": {},
     "output_type": "execute_result"
    },
    {
     "data": {
      "image/png": "[encoded data removed]",
      "text/plain": [
       "<Figure size 432x288 with 1 Axes>"
      ]
     },
     "metadata": {
      "needs_background": "light"
     },
     "output_type": "display_data"
    }
   ],
   "source": [
    "np.cumsum(sorted_sellers_1.revenues).plot();\n",
    "plt.xlabel('sellers_rows'); plt.ylabel('Cumulative sum of revenues')"
   ]
  },
  {
   "cell_type": "markdown",
   "metadata": {
    "slideshow": {
     "slide_type": "subslide"
    }
   },
   "source": [
    "#### Total costs -  bad reviews"
   ]
  },
  {
   "cell_type": "markdown",
   "metadata": {
    "slideshow": {
     "slide_type": "skip"
    }
   },
   "source": [
    "*We will assume that we have an estimate measure of the monetary cost for each bad review:\n",
    "\n",
    "**review_score\t------> cost (BRL)**\n",
    "- 1 star\t------>       100\n",
    "- 2 stars     ------>   \t50\n",
    "- 3 stars     ------>   \t40\n",
    "- 4 stars     ------>    \t0\n",
    "- 5 stars     ------>       0\n"
   ]
  },
  {
   "cell_type": "markdown",
   "metadata": {
    "slideshow": {
     "slide_type": "skip"
    }
   },
   "source": [
    "- from olist.data import Olist\n",
    "- olist=Olist()\n",
    "- data=olist.get_data()  ## is dict\n",
    "- matching_table = olist.get_matching_table() ----> matching_table.shape :  (114100, 5)"
   ]
  },
  {
   "cell_type": "markdown",
   "metadata": {
    "slideshow": {
     "slide_type": "skip"
    }
   },
   "source": [
    "##### Data "
   ]
  },
  {
   "cell_type": "code",
   "execution_count": 30,
   "metadata": {
    "slideshow": {
     "slide_type": "skip"
    }
   },
   "outputs": [],
   "source": [
    "# Import data\n",
    "\n",
    "from olist.data import Olist\n",
    "olist=Olist()\n",
    "matching_table = olist.get_matching_table()  # .shape  = (114100, 5)"
   ]
  },
  {
   "cell_type": "code",
   "execution_count": 31,
   "metadata": {
    "slideshow": {
     "slide_type": "skip"
    }
   },
   "outputs": [
    {
     "data": {
      "text/html": [
       "<div>\n",
       "<style scoped>\n",
       "    .dataframe tbody tr th:only-of-type {\n",
       "        vertical-align: middle;\n",
       "    }\n",
       "\n",
       "    .dataframe tbody tr th {\n",
       "        vertical-align: top;\n",
       "    }\n",
       "\n",
       "    .dataframe thead th {\n",
       "        text-align: right;\n",
       "    }\n",
       "</style>\n",
       "<table border=\"1\" class=\"dataframe\">\n",
       "  <thead>\n",
       "    <tr style=\"text-align: right;\">\n",
       "      <th></th>\n",
       "      <th>order_id</th>\n",
       "      <th>seller_id</th>\n",
       "    </tr>\n",
       "  </thead>\n",
       "  <tbody>\n",
       "    <tr>\n",
       "      <th>0</th>\n",
       "      <td>e481f51cbdc54678b7cc49136f2d6af7</td>\n",
       "      <td>3504c0cb71d7fa48d967e0e4c94d59d9</td>\n",
       "    </tr>\n",
       "    <tr>\n",
       "      <th>1</th>\n",
       "      <td>53cdb2fc8bc7dce0b6741e2150273451</td>\n",
       "      <td>289cdb325fb7e7f891c38608bf9e0962</td>\n",
       "    </tr>\n",
       "  </tbody>\n",
       "</table>\n",
       "</div>"
      ],
      "text/plain": [
       "                           order_id                         seller_id\n",
       "0  e481f51cbdc54678b7cc49136f2d6af7  3504c0cb71d7fa48d967e0e4c94d59d9\n",
       "1  53cdb2fc8bc7dce0b6741e2150273451  289cdb325fb7e7f891c38608bf9e0962"
      ]
     },
     "execution_count": 31,
     "metadata": {},
     "output_type": "execute_result"
    }
   ],
   "source": [
    "matching_table[['order_id', 'seller_id']].head(2)"
   ]
  },
  {
   "cell_type": "code",
   "execution_count": 32,
   "metadata": {
    "slideshow": {
     "slide_type": "skip"
    }
   },
   "outputs": [],
   "source": [
    "# Import orders training_set \n",
    "from olist.order import Order\n",
    "order=Order()\n",
    "orders=order.get_training_data() # .shape = (97007, 12)"
   ]
  },
  {
   "cell_type": "code",
   "execution_count": 33,
   "metadata": {
    "slideshow": {
     "slide_type": "skip"
    }
   },
   "outputs": [
    {
     "data": {
      "text/html": [
       "<div>\n",
       "<style scoped>\n",
       "    .dataframe tbody tr th:only-of-type {\n",
       "        vertical-align: middle;\n",
       "    }\n",
       "\n",
       "    .dataframe tbody tr th {\n",
       "        vertical-align: top;\n",
       "    }\n",
       "\n",
       "    .dataframe thead th {\n",
       "        text-align: right;\n",
       "    }\n",
       "</style>\n",
       "<table border=\"1\" class=\"dataframe\">\n",
       "  <thead>\n",
       "    <tr style=\"text-align: right;\">\n",
       "      <th></th>\n",
       "      <th>order_id</th>\n",
       "      <th>review_score</th>\n",
       "    </tr>\n",
       "  </thead>\n",
       "  <tbody>\n",
       "    <tr>\n",
       "      <th>0</th>\n",
       "      <td>e481f51cbdc54678b7cc49136f2d6af7</td>\n",
       "      <td>4</td>\n",
       "    </tr>\n",
       "    <tr>\n",
       "      <th>1</th>\n",
       "      <td>53cdb2fc8bc7dce0b6741e2150273451</td>\n",
       "      <td>4</td>\n",
       "    </tr>\n",
       "  </tbody>\n",
       "</table>\n",
       "</div>"
      ],
      "text/plain": [
       "                           order_id  review_score\n",
       "0  e481f51cbdc54678b7cc49136f2d6af7             4\n",
       "1  53cdb2fc8bc7dce0b6741e2150273451             4"
      ]
     },
     "execution_count": 33,
     "metadata": {},
     "output_type": "execute_result"
    }
   ],
   "source": [
    "mask_columns = [ 'order_id', 'review_score']\n",
    "orders_1 = orders[mask_columns].copy()\n",
    "orders_1.head(2)"
   ]
  },
  {
   "cell_type": "code",
   "execution_count": 34,
   "metadata": {
    "slideshow": {
     "slide_type": "fragment"
    }
   },
   "outputs": [
    {
     "data": {
      "text/html": [
       "<div>\n",
       "<style scoped>\n",
       "    .dataframe tbody tr th:only-of-type {\n",
       "        vertical-align: middle;\n",
       "    }\n",
       "\n",
       "    .dataframe tbody tr th {\n",
       "        vertical-align: top;\n",
       "    }\n",
       "\n",
       "    .dataframe thead th {\n",
       "        text-align: right;\n",
       "    }\n",
       "</style>\n",
       "<table border=\"1\" class=\"dataframe\">\n",
       "  <thead>\n",
       "    <tr style=\"text-align: right;\">\n",
       "      <th></th>\n",
       "      <th>order_id</th>\n",
       "      <th>seller_id</th>\n",
       "      <th>review_score</th>\n",
       "    </tr>\n",
       "  </thead>\n",
       "  <tbody>\n",
       "    <tr>\n",
       "      <th>0</th>\n",
       "      <td>e481f51cbdc54678b7cc49136f2d6af7</td>\n",
       "      <td>3504c0cb71d7fa48d967e0e4c94d59d9</td>\n",
       "      <td>4</td>\n",
       "    </tr>\n",
       "    <tr>\n",
       "      <th>1</th>\n",
       "      <td>53cdb2fc8bc7dce0b6741e2150273451</td>\n",
       "      <td>289cdb325fb7e7f891c38608bf9e0962</td>\n",
       "      <td>4</td>\n",
       "    </tr>\n",
       "    <tr>\n",
       "      <th>2</th>\n",
       "      <td>47770eb9100c2d0c44946d9cf07ec65d</td>\n",
       "      <td>4869f7a5dfa277a7dca6462dcf3b52b2</td>\n",
       "      <td>5</td>\n",
       "    </tr>\n",
       "  </tbody>\n",
       "</table>\n",
       "</div>"
      ],
      "text/plain": [
       "                           order_id                         seller_id  \\\n",
       "0  e481f51cbdc54678b7cc49136f2d6af7  3504c0cb71d7fa48d967e0e4c94d59d9   \n",
       "1  53cdb2fc8bc7dce0b6741e2150273451  289cdb325fb7e7f891c38608bf9e0962   \n",
       "2  47770eb9100c2d0c44946d9cf07ec65d  4869f7a5dfa277a7dca6462dcf3b52b2   \n",
       "\n",
       "   review_score  \n",
       "0             4  \n",
       "1             4  \n",
       "2             5  "
      ]
     },
     "execution_count": 34,
     "metadata": {},
     "output_type": "execute_result"
    }
   ],
   "source": [
    "# Merging  matching_table  and  orders_1   tables\n",
    "\n",
    "costs = matching_table[['order_id','seller_id']] \\\n",
    "                      .merge( orders_1 , on = 'order_id')\n",
    "costs.head(3)"
   ]
  },
  {
   "cell_type": "code",
   "execution_count": 35,
   "metadata": {
    "slideshow": {
     "slide_type": "skip"
    }
   },
   "outputs": [],
   "source": [
    "def review_to_price(review_score): \n",
    "    d = {1 : 100, 2 : 50, 3 : 40, 4 : 0, 5: 0}\n",
    "    return d[review_score]"
   ]
  },
  {
   "cell_type": "markdown",
   "metadata": {
    "slideshow": {
     "slide_type": "skip"
    }
   },
   "source": [
    "##### Result : total costs"
   ]
  },
  {
   "cell_type": "code",
   "execution_count": 36,
   "metadata": {
    "slideshow": {
     "slide_type": "fragment"
    }
   },
   "outputs": [
    {
     "data": {
      "text/html": [
       "<div>\n",
       "<style scoped>\n",
       "    .dataframe tbody tr th:only-of-type {\n",
       "        vertical-align: middle;\n",
       "    }\n",
       "\n",
       "    .dataframe tbody tr th {\n",
       "        vertical-align: top;\n",
       "    }\n",
       "\n",
       "    .dataframe thead th {\n",
       "        text-align: right;\n",
       "    }\n",
       "</style>\n",
       "<table border=\"1\" class=\"dataframe\">\n",
       "  <thead>\n",
       "    <tr style=\"text-align: right;\">\n",
       "      <th></th>\n",
       "      <th>seller_id</th>\n",
       "      <th>costs</th>\n",
       "    </tr>\n",
       "  </thead>\n",
       "  <tbody>\n",
       "    <tr>\n",
       "      <th>112151</th>\n",
       "      <td>a1043bafd471dff536d0c462352beb48</td>\n",
       "      <td>50</td>\n",
       "    </tr>\n",
       "    <tr>\n",
       "      <th>112152</th>\n",
       "      <td>a1043bafd471dff536d0c462352beb48</td>\n",
       "      <td>50</td>\n",
       "    </tr>\n",
       "    <tr>\n",
       "      <th>112153</th>\n",
       "      <td>ececbfcff9804a2d6b40f589df8eef2b</td>\n",
       "      <td>0</td>\n",
       "    </tr>\n",
       "  </tbody>\n",
       "</table>\n",
       "</div>"
      ],
      "text/plain": [
       "                               seller_id  costs\n",
       "112151  a1043bafd471dff536d0c462352beb48     50\n",
       "112152  a1043bafd471dff536d0c462352beb48     50\n",
       "112153  ececbfcff9804a2d6b40f589df8eef2b      0"
      ]
     },
     "execution_count": 36,
     "metadata": {},
     "output_type": "execute_result"
    }
   ],
   "source": [
    "costs['costs'] = costs['review_score'].map(review_to_price)\n",
    "costs_1 = costs[['seller_id', 'costs']].copy()  # , 'review_score'\n",
    "costs_1.tail(3)"
   ]
  },
  {
   "cell_type": "code",
   "execution_count": 37,
   "metadata": {
    "slideshow": {
     "slide_type": "skip"
    }
   },
   "outputs": [
    {
     "name": "stdout",
     "output_type": "stream",
     "text": [
      "Costs for all sellers:  1894610 BRL\n"
     ]
    }
   ],
   "source": [
    "print(\"Costs for all sellers: \", costs_1.costs.sum() , \"BRL\")"
   ]
  },
  {
   "cell_type": "markdown",
   "metadata": {
    "slideshow": {
     "slide_type": "fragment"
    }
   },
   "source": [
    "Costs for all sellers:<span style=\"color:blue\">  1_894_610  </span>  BRL"
   ]
  },
  {
   "cell_type": "markdown",
   "metadata": {
    "slideshow": {
     "slide_type": "subslide"
    }
   },
   "source": [
    "#### Costs per seller - \"bad reviewes\""
   ]
  },
  {
   "cell_type": "markdown",
   "metadata": {
    "slideshow": {
     "slide_type": "skip"
    }
   },
   "source": [
    "- **Result :  costs per seller**"
   ]
  },
  {
   "cell_type": "code",
   "execution_count": 22,
   "metadata": {
    "slideshow": {
     "slide_type": "skip"
    }
   },
   "outputs": [],
   "source": [
    "#costs_1.groupby('seller_id').agg({'costs' : 'sum'}).reset_index()"
   ]
  },
  {
   "cell_type": "code",
   "execution_count": 42,
   "metadata": {
    "slideshow": {
     "slide_type": "fragment"
    }
   },
   "outputs": [
    {
     "data": {
      "text/html": [
       "<div>\n",
       "<style scoped>\n",
       "    .dataframe tbody tr th:only-of-type {\n",
       "        vertical-align: middle;\n",
       "    }\n",
       "\n",
       "    .dataframe tbody tr th {\n",
       "        vertical-align: top;\n",
       "    }\n",
       "\n",
       "    .dataframe thead th {\n",
       "        text-align: right;\n",
       "    }\n",
       "</style>\n",
       "<table border=\"1\" class=\"dataframe\">\n",
       "  <thead>\n",
       "    <tr style=\"text-align: right;\">\n",
       "      <th></th>\n",
       "      <th>seller_id</th>\n",
       "      <th>costs</th>\n",
       "    </tr>\n",
       "  </thead>\n",
       "  <tbody>\n",
       "    <tr>\n",
       "      <th>1484</th>\n",
       "      <td>7cf4ea70955b00d6b3c22542598e2715</td>\n",
       "      <td>0</td>\n",
       "    </tr>\n",
       "    <tr>\n",
       "      <th>869</th>\n",
       "      <td>4b90495391ac0bd181a80a459df1e718</td>\n",
       "      <td>0</td>\n",
       "    </tr>\n",
       "    <tr>\n",
       "      <th>2065</th>\n",
       "      <td>b2eecf5ea250510da76590ca79d60e5d</td>\n",
       "      <td>0</td>\n",
       "    </tr>\n",
       "  </tbody>\n",
       "</table>\n",
       "</div>"
      ],
      "text/plain": [
       "                             seller_id  costs\n",
       "1484  7cf4ea70955b00d6b3c22542598e2715      0\n",
       "869   4b90495391ac0bd181a80a459df1e718      0\n",
       "2065  b2eecf5ea250510da76590ca79d60e5d      0"
      ]
     },
     "execution_count": 42,
     "metadata": {},
     "output_type": "execute_result"
    }
   ],
   "source": [
    "olist_costs = costs_1.groupby('seller_id').sum().reset_index()\n",
    "\n",
    "olist_costs.sort_values(by = 'costs') .head(3)"
   ]
  },
  {
   "cell_type": "code",
   "execution_count": 44,
   "metadata": {
    "slideshow": {
     "slide_type": "fragment"
    }
   },
   "outputs": [
    {
     "data": {
      "text/html": [
       "<div>\n",
       "<style scoped>\n",
       "    .dataframe tbody tr th:only-of-type {\n",
       "        vertical-align: middle;\n",
       "    }\n",
       "\n",
       "    .dataframe tbody tr th {\n",
       "        vertical-align: top;\n",
       "    }\n",
       "\n",
       "    .dataframe thead th {\n",
       "        text-align: right;\n",
       "    }\n",
       "</style>\n",
       "<table border=\"1\" class=\"dataframe\">\n",
       "  <thead>\n",
       "    <tr style=\"text-align: right;\">\n",
       "      <th></th>\n",
       "      <th>seller_id</th>\n",
       "      <th>costs</th>\n",
       "    </tr>\n",
       "  </thead>\n",
       "  <tbody>\n",
       "    <tr>\n",
       "      <th>1190</th>\n",
       "      <td>6560211a19b47992c3666cc44a7e94c0</td>\n",
       "      <td>38660</td>\n",
       "    </tr>\n",
       "    <tr>\n",
       "      <th>1480</th>\n",
       "      <td>7c67e1448b00f6e969d365cea6b010ab</td>\n",
       "      <td>44350</td>\n",
       "    </tr>\n",
       "    <tr>\n",
       "      <th>858</th>\n",
       "      <td>4a3ca9315b744ce9f8e9374361493884</td>\n",
       "      <td>45160</td>\n",
       "    </tr>\n",
       "  </tbody>\n",
       "</table>\n",
       "</div>"
      ],
      "text/plain": [
       "                             seller_id  costs\n",
       "1190  6560211a19b47992c3666cc44a7e94c0  38660\n",
       "1480  7c67e1448b00f6e969d365cea6b010ab  44350\n",
       "858   4a3ca9315b744ce9f8e9374361493884  45160"
      ]
     },
     "execution_count": 44,
     "metadata": {},
     "output_type": "execute_result"
    }
   ],
   "source": [
    "olist_costs.sort_values(by = 'costs') .tail(3)"
   ]
  },
  {
   "cell_type": "markdown",
   "metadata": {
    "slideshow": {
     "slide_type": "skip"
    }
   },
   "source": [
    "*To check : The costs associated with all bad reviewes :*"
   ]
  },
  {
   "cell_type": "code",
   "execution_count": 45,
   "metadata": {
    "slideshow": {
     "slide_type": "skip"
    }
   },
   "outputs": [
    {
     "name": "stdout",
     "output_type": "stream",
     "text": [
      "The costs associated with all this :  1894610\n"
     ]
    }
   ],
   "source": [
    "# The cost associated with all this\n",
    "total_costs = olist_costs['costs'].sum()\n",
    "print(\"The costs associated with all this : \", total_costs )"
   ]
  },
  {
   "cell_type": "code",
   "execution_count": 47,
   "metadata": {},
   "outputs": [
    {
     "data": {
      "text/plain": [
       "Text(0, 0.5, 'Costs')"
      ]
     },
     "execution_count": 47,
     "metadata": {},
     "output_type": "execute_result"
    },
    {
     "data": {
      "image/png": "[encoded data removed]",
      "text/plain": [
       "<Figure size 432x288 with 1 Axes>"
      ]
     },
     "metadata": {
      "needs_background": "light"
     },
     "output_type": "display_data"
    }
   ],
   "source": [
    "sorted_costs = olist_costs.sort_values(by='costs').reset_index()\n",
    "sorted_costs.costs.plot();\n",
    "plt.xlabel('sellers_rows'); plt.ylabel('Costs')"
   ]
  },
  {
   "cell_type": "markdown",
   "metadata": {},
   "source": [
    "##### Cumulative sum of Costs"
   ]
  },
  {
   "cell_type": "code",
   "execution_count": 48,
   "metadata": {},
   "outputs": [
    {
     "data": {
      "text/plain": [
       "Text(0, 0.5, 'Cumulative sum of Costs')"
      ]
     },
     "execution_count": 48,
     "metadata": {},
     "output_type": "execute_result"
    },
    {
     "data": {
      "image/png": "[encoded data removed]",
      "text/plain": [
       "<Figure size 432x288 with 1 Axes>"
      ]
     },
     "metadata": {
      "needs_background": "light"
     },
     "output_type": "display_data"
    }
   ],
   "source": [
    "np.cumsum(sorted_costs.costs).plot();\n",
    "plt.xlabel('sellers_rows'); plt.ylabel('Cumulative sum of Costs')"
   ]
  },
  {
   "cell_type": "markdown",
   "metadata": {},
   "source": [
    "##### Plot : Costs vs. Revenues "
   ]
  },
  {
   "cell_type": "code",
   "execution_count": 52,
   "metadata": {},
   "outputs": [
    {
     "data": {
      "text/plain": [
       "<matplotlib.legend.Legend at 0x15b88d130>"
      ]
     },
     "execution_count": 52,
     "metadata": {},
     "output_type": "execute_result"
    },
    {
     "data": {
      "image/png": "[encoded data removed]",
      "text/plain": [
       "<Figure size 432x288 with 1 Axes>"
      ]
     },
     "metadata": {
      "needs_background": "light"
     },
     "output_type": "display_data"
    }
   ],
   "source": [
    "# Revenues\n",
    "np.cumsum(sorted_sellers_1.revenues).plot( label ='Revenues');\n",
    "plt.xlabel('sellers_rows'); plt.ylabel('Cumulative sum of revenues')\n",
    "# Costs\n",
    "np.cumsum(sorted_costs.costs).plot(color = 'r', label = 'Costs');\n",
    "#plt.xlabel('sellers_rows'); plt.ylabel('Cumulative sum of Costs')\n",
    "plt.legend()"
   ]
  },
  {
   "cell_type": "markdown",
   "metadata": {
    "slideshow": {
     "slide_type": "subslide"
    }
   },
   "source": [
    "#### The total resulting `profits` (revenues - costs)"
   ]
  },
  {
   "cell_type": "code",
   "execution_count": 53,
   "metadata": {
    "slideshow": {
     "slide_type": "fragment"
    }
   },
   "outputs": [
    {
     "name": "stdout",
     "output_type": "stream",
     "text": [
      " Total Revenues :  2787749.33\n",
      " Total Costs :  1894610\n",
      " The total resulting profits :  893139.33\n"
     ]
    }
   ],
   "source": [
    "print( \" Total Revenues : \", round(total_revenues, 2))\n",
    "print( \" Total Costs : \", round(total_costs, 2))\n",
    "\n",
    "profits =  total_revenues - total_costs\n",
    "print( \" The total resulting profits : \", round(profits, 2))"
   ]
  },
  {
   "cell_type": "markdown",
   "metadata": {
    "slideshow": {
     "slide_type": "subslide"
    }
   },
   "source": [
    "#### The resulting profits per seller :"
   ]
  },
  {
   "cell_type": "markdown",
   "metadata": {
    "slideshow": {
     "slide_type": "skip"
    }
   },
   "source": [
    "- olist_costs table : there are 2 columns : 'seller_id' and 'costs'\n",
    "- sellers_1 table: there are 6 columns : \n",
    "- -> 'seller_id', 'date_first_sale',\n",
    "- -> 'date_last_sale', 'sales',\n",
    "- -> 'active_months', 'revenues'"
   ]
  },
  {
   "cell_type": "markdown",
   "metadata": {
    "slideshow": {
     "slide_type": "skip"
    }
   },
   "source": [
    "##### Data "
   ]
  },
  {
   "cell_type": "code",
   "execution_count": 54,
   "metadata": {
    "slideshow": {
     "slide_type": "skip"
    }
   },
   "outputs": [
    {
     "data": {
      "text/html": [
       "<div>\n",
       "<style scoped>\n",
       "    .dataframe tbody tr th:only-of-type {\n",
       "        vertical-align: middle;\n",
       "    }\n",
       "\n",
       "    .dataframe tbody tr th {\n",
       "        vertical-align: top;\n",
       "    }\n",
       "\n",
       "    .dataframe thead th {\n",
       "        text-align: right;\n",
       "    }\n",
       "</style>\n",
       "<table border=\"1\" class=\"dataframe\">\n",
       "  <thead>\n",
       "    <tr style=\"text-align: right;\">\n",
       "      <th></th>\n",
       "      <th>seller_id</th>\n",
       "      <th>date_first_sale</th>\n",
       "      <th>date_last_sale</th>\n",
       "      <th>sales</th>\n",
       "      <th>n_orders</th>\n",
       "      <th>active_months</th>\n",
       "      <th>revenues</th>\n",
       "    </tr>\n",
       "  </thead>\n",
       "  <tbody>\n",
       "    <tr>\n",
       "      <th>0</th>\n",
       "      <td>3442f8959a84dea7ee197c632cb2df15</td>\n",
       "      <td>2017-05-05 16:25:11</td>\n",
       "      <td>2017-08-30 12:50:19</td>\n",
       "      <td>218.7</td>\n",
       "      <td>3</td>\n",
       "      <td>3.84</td>\n",
       "      <td>329.07</td>\n",
       "    </tr>\n",
       "  </tbody>\n",
       "</table>\n",
       "</div>"
      ],
      "text/plain": [
       "                          seller_id     date_first_sale      date_last_sale  \\\n",
       "0  3442f8959a84dea7ee197c632cb2df15 2017-05-05 16:25:11 2017-08-30 12:50:19   \n",
       "\n",
       "   sales  n_orders  active_months  revenues  \n",
       "0  218.7         3           3.84    329.07  "
      ]
     },
     "execution_count": 54,
     "metadata": {},
     "output_type": "execute_result"
    }
   ],
   "source": [
    "sellers_1.head(1)"
   ]
  },
  {
   "cell_type": "code",
   "execution_count": 55,
   "metadata": {
    "slideshow": {
     "slide_type": "skip"
    }
   },
   "outputs": [
    {
     "data": {
      "text/html": [
       "<div>\n",
       "<style scoped>\n",
       "    .dataframe tbody tr th:only-of-type {\n",
       "        vertical-align: middle;\n",
       "    }\n",
       "\n",
       "    .dataframe tbody tr th {\n",
       "        vertical-align: top;\n",
       "    }\n",
       "\n",
       "    .dataframe thead th {\n",
       "        text-align: right;\n",
       "    }\n",
       "</style>\n",
       "<table border=\"1\" class=\"dataframe\">\n",
       "  <thead>\n",
       "    <tr style=\"text-align: right;\">\n",
       "      <th></th>\n",
       "      <th>seller_id</th>\n",
       "      <th>costs</th>\n",
       "    </tr>\n",
       "  </thead>\n",
       "  <tbody>\n",
       "    <tr>\n",
       "      <th>0</th>\n",
       "      <td>0015a82c2db000af6aaaf3ae2ecb0532</td>\n",
       "      <td>100</td>\n",
       "    </tr>\n",
       "  </tbody>\n",
       "</table>\n",
       "</div>"
      ],
      "text/plain": [
       "                          seller_id  costs\n",
       "0  0015a82c2db000af6aaaf3ae2ecb0532    100"
      ]
     },
     "execution_count": 55,
     "metadata": {},
     "output_type": "execute_result"
    }
   ],
   "source": [
    "olist_costs.head(1)"
   ]
  },
  {
   "cell_type": "markdown",
   "metadata": {
    "slideshow": {
     "slide_type": "skip"
    }
   },
   "source": [
    "##### Results "
   ]
  },
  {
   "cell_type": "code",
   "execution_count": 56,
   "metadata": {
    "slideshow": {
     "slide_type": "fragment"
    }
   },
   "outputs": [],
   "source": [
    "profits_seller = sellers_1.merge(olist_costs, on = 'seller_id')\n",
    "\n",
    "# we only keep the columns of interest\n",
    "profits_seller = profits_seller[ ['seller_id', \n",
    "                                  'n_orders', 'revenues',\n",
    "                                  'costs' , 'active_months' , 'sales' ] ]\n",
    "\n",
    "# we create a new column profits\n",
    "profits_seller['profits'] = profits_seller['revenues'] - profits_seller['costs']"
   ]
  },
  {
   "cell_type": "code",
   "execution_count": 63,
   "metadata": {
    "slideshow": {
     "slide_type": "fragment"
    }
   },
   "outputs": [
    {
     "data": {
      "text/html": [
       "<div>\n",
       "<style scoped>\n",
       "    .dataframe tbody tr th:only-of-type {\n",
       "        vertical-align: middle;\n",
       "    }\n",
       "\n",
       "    .dataframe tbody tr th {\n",
       "        vertical-align: top;\n",
       "    }\n",
       "\n",
       "    .dataframe thead th {\n",
       "        text-align: right;\n",
       "    }\n",
       "</style>\n",
       "<table border=\"1\" class=\"dataframe\">\n",
       "  <thead>\n",
       "    <tr style=\"text-align: right;\">\n",
       "      <th></th>\n",
       "      <th>index</th>\n",
       "      <th>seller_id</th>\n",
       "      <th>n_orders</th>\n",
       "      <th>revenues</th>\n",
       "      <th>costs</th>\n",
       "      <th>active_months</th>\n",
       "      <th>sales</th>\n",
       "      <th>profits</th>\n",
       "    </tr>\n",
       "  </thead>\n",
       "  <tbody>\n",
       "    <tr>\n",
       "      <th>0</th>\n",
       "      <td>453</td>\n",
       "      <td>1f50f920176fa81dab994f9023523100</td>\n",
       "      <td>1404</td>\n",
       "      <td>12037.92</td>\n",
       "      <td>38340</td>\n",
       "      <td>16.80</td>\n",
       "      <td>106939.21</td>\n",
       "      <td>-26302.08</td>\n",
       "    </tr>\n",
       "    <tr>\n",
       "      <th>1</th>\n",
       "      <td>769</td>\n",
       "      <td>6560211a19b47992c3666cc44a7e94c0</td>\n",
       "      <td>1854</td>\n",
       "      <td>13797.68</td>\n",
       "      <td>38660</td>\n",
       "      <td>18.34</td>\n",
       "      <td>123304.83</td>\n",
       "      <td>-24862.32</td>\n",
       "    </tr>\n",
       "  </tbody>\n",
       "</table>\n",
       "</div>"
      ],
      "text/plain": [
       "   index                         seller_id  n_orders  revenues  costs  \\\n",
       "0    453  1f50f920176fa81dab994f9023523100      1404  12037.92  38340   \n",
       "1    769  6560211a19b47992c3666cc44a7e94c0      1854  13797.68  38660   \n",
       "\n",
       "   active_months      sales   profits  \n",
       "0          16.80  106939.21 -26302.08  \n",
       "1          18.34  123304.83 -24862.32  "
      ]
     },
     "execution_count": 63,
     "metadata": {},
     "output_type": "execute_result"
    }
   ],
   "source": [
    "sorted_profits = profits_seller .sort_values(by = 'profits').reset_index()\n",
    "sorted_profits.head(2)"
   ]
  },
  {
   "cell_type": "code",
   "execution_count": 64,
   "metadata": {
    "slideshow": {
     "slide_type": "fragment"
    }
   },
   "outputs": [
    {
     "data": {
      "text/html": [
       "<div>\n",
       "<style scoped>\n",
       "    .dataframe tbody tr th:only-of-type {\n",
       "        vertical-align: middle;\n",
       "    }\n",
       "\n",
       "    .dataframe tbody tr th {\n",
       "        vertical-align: top;\n",
       "    }\n",
       "\n",
       "    .dataframe thead th {\n",
       "        text-align: right;\n",
       "    }\n",
       "</style>\n",
       "<table border=\"1\" class=\"dataframe\">\n",
       "  <thead>\n",
       "    <tr style=\"text-align: right;\">\n",
       "      <th></th>\n",
       "      <th>index</th>\n",
       "      <th>seller_id</th>\n",
       "      <th>n_orders</th>\n",
       "      <th>revenues</th>\n",
       "      <th>costs</th>\n",
       "      <th>active_months</th>\n",
       "      <th>sales</th>\n",
       "      <th>profits</th>\n",
       "    </tr>\n",
       "  </thead>\n",
       "  <tbody>\n",
       "    <tr>\n",
       "      <th>2968</th>\n",
       "      <td>67</td>\n",
       "      <td>7e93a43ef30c4f03f38b393420bc753a</td>\n",
       "      <td>336</td>\n",
       "      <td>19337.59</td>\n",
       "      <td>3360</td>\n",
       "      <td>21.18</td>\n",
       "      <td>176431.87</td>\n",
       "      <td>15977.59</td>\n",
       "    </tr>\n",
       "    <tr>\n",
       "      <th>2969</th>\n",
       "      <td>868</td>\n",
       "      <td>53243585a1d6dc2643021fd1853d8905</td>\n",
       "      <td>358</td>\n",
       "      <td>23218.40</td>\n",
       "      <td>5450</td>\n",
       "      <td>11.76</td>\n",
       "      <td>222776.05</td>\n",
       "      <td>17768.40</td>\n",
       "    </tr>\n",
       "  </tbody>\n",
       "</table>\n",
       "</div>"
      ],
      "text/plain": [
       "      index                         seller_id  n_orders  revenues  costs  \\\n",
       "2968     67  7e93a43ef30c4f03f38b393420bc753a       336  19337.59   3360   \n",
       "2969    868  53243585a1d6dc2643021fd1853d8905       358  23218.40   5450   \n",
       "\n",
       "      active_months      sales   profits  \n",
       "2968          21.18  176431.87  15977.59  \n",
       "2969          11.76  222776.05  17768.40  "
      ]
     },
     "execution_count": 64,
     "metadata": {},
     "output_type": "execute_result"
    }
   ],
   "source": [
    "sorted_profits.tail(2)"
   ]
  },
  {
   "cell_type": "code",
   "execution_count": 65,
   "metadata": {
    "slideshow": {
     "slide_type": "skip"
    }
   },
   "outputs": [
    {
     "name": "stdout",
     "output_type": "stream",
     "text": [
      " The resulting profits for all sellers :  893139.33\n"
     ]
    }
   ],
   "source": [
    "print(\" The resulting profits for all sellers : \", round( sorted_profits.profits.sum(), 2) )"
   ]
  },
  {
   "cell_type": "code",
   "execution_count": 66,
   "metadata": {},
   "outputs": [
    {
     "data": {
      "text/plain": [
       "Text(0, 0.5, 'Profits')"
      ]
     },
     "execution_count": 66,
     "metadata": {},
     "output_type": "execute_result"
    },
    {
     "data": {
      "image/png": "[encoded data removed]",
      "text/plain": [
       "<Figure size 432x288 with 1 Axes>"
      ]
     },
     "metadata": {
      "needs_background": "light"
     },
     "output_type": "display_data"
    }
   ],
   "source": [
    "sorted_profits.profits.plot()\n",
    "plt.xlabel('sellers_rows'); plt.ylabel('Profits')"
   ]
  },
  {
   "cell_type": "code",
   "execution_count": 68,
   "metadata": {},
   "outputs": [
    {
     "data": {
      "image/png": "[encoded data removed]",
      "text/plain": [
       "<Figure size 432x288 with 1 Axes>"
      ]
     },
     "metadata": {
      "needs_background": "light"
     },
     "output_type": "display_data"
    }
   ],
   "source": [
    "# Revenues\n",
    "np.cumsum(sorted_sellers_1.revenues).plot( label ='Revenues');\n",
    "plt.xlabel('sellers_rows'); \n",
    "# Costs\n",
    "np.cumsum(sorted_costs.costs).plot(color = 'r', label = 'Costs');\n",
    "# Profits\n",
    "np.cumsum(sorted_profits.profits).plot(color = 'green', label = 'Profits');\n",
    "\n",
    "plt.legend()\n",
    "plt.grid(\"on\")"
   ]
  },
  {
   "cell_type": "code",
   "execution_count": null,
   "metadata": {},
   "outputs": [],
   "source": []
  },
  {
   "cell_type": "code",
   "execution_count": 84,
   "metadata": {},
   "outputs": [
    {
     "name": "stdout",
     "output_type": "stream",
     "text": [
      "80.81  % of sellers with negative profits \n"
     ]
    }
   ],
   "source": [
    "Pr = np.cumsum(sorted_profits.profits)\n",
    "print ( round( 100*(len(np.where(Pr <0)[0]) / len(Pr)), 2), \" % of sellers with negative profits \")"
   ]
  },
  {
   "cell_type": "code",
   "execution_count": 87,
   "metadata": {},
   "outputs": [
    {
     "data": {
      "text/plain": [
       "2400"
      ]
     },
     "execution_count": 87,
     "metadata": {},
     "output_type": "execute_result"
    }
   ],
   "source": [
    "np.where(Pr > 0)[0][0]"
   ]
  },
  {
   "cell_type": "code",
   "execution_count": 93,
   "metadata": {},
   "outputs": [
    {
     "data": {
      "text/html": [
       "<div>\n",
       "<style scoped>\n",
       "    .dataframe tbody tr th:only-of-type {\n",
       "        vertical-align: middle;\n",
       "    }\n",
       "\n",
       "    .dataframe tbody tr th {\n",
       "        vertical-align: top;\n",
       "    }\n",
       "\n",
       "    .dataframe thead th {\n",
       "        text-align: right;\n",
       "    }\n",
       "</style>\n",
       "<table border=\"1\" class=\"dataframe\">\n",
       "  <thead>\n",
       "    <tr style=\"text-align: right;\">\n",
       "      <th></th>\n",
       "      <th>index</th>\n",
       "      <th>seller_id</th>\n",
       "      <th>n_orders</th>\n",
       "      <th>revenues</th>\n",
       "      <th>costs</th>\n",
       "      <th>active_months</th>\n",
       "      <th>sales</th>\n",
       "      <th>profits</th>\n",
       "    </tr>\n",
       "  </thead>\n",
       "  <tbody>\n",
       "    <tr>\n",
       "      <th>0</th>\n",
       "      <td>453</td>\n",
       "      <td>1f50f920176fa81dab994f9023523100</td>\n",
       "      <td>1404</td>\n",
       "      <td>12037.92</td>\n",
       "      <td>38340</td>\n",
       "      <td>16.80</td>\n",
       "      <td>106939.21</td>\n",
       "      <td>-26302.08</td>\n",
       "    </tr>\n",
       "    <tr>\n",
       "      <th>1</th>\n",
       "      <td>769</td>\n",
       "      <td>6560211a19b47992c3666cc44a7e94c0</td>\n",
       "      <td>1854</td>\n",
       "      <td>13797.68</td>\n",
       "      <td>38660</td>\n",
       "      <td>18.34</td>\n",
       "      <td>123304.83</td>\n",
       "      <td>-24862.32</td>\n",
       "    </tr>\n",
       "  </tbody>\n",
       "</table>\n",
       "</div>"
      ],
      "text/plain": [
       "   index                         seller_id  n_orders  revenues  costs  \\\n",
       "0    453  1f50f920176fa81dab994f9023523100      1404  12037.92  38340   \n",
       "1    769  6560211a19b47992c3666cc44a7e94c0      1854  13797.68  38660   \n",
       "\n",
       "   active_months      sales   profits  \n",
       "0          16.80  106939.21 -26302.08  \n",
       "1          18.34  123304.83 -24862.32  "
      ]
     },
     "execution_count": 93,
     "metadata": {},
     "output_type": "execute_result"
    }
   ],
   "source": [
    "bad_sellers = sorted_profits.iloc[:2400, :].copy()\n",
    "bad_sellers.head(2)"
   ]
  },
  {
   "cell_type": "code",
   "execution_count": 94,
   "metadata": {},
   "outputs": [
    {
     "data": {
      "text/html": [
       "<div>\n",
       "<style scoped>\n",
       "    .dataframe tbody tr th:only-of-type {\n",
       "        vertical-align: middle;\n",
       "    }\n",
       "\n",
       "    .dataframe tbody tr th {\n",
       "        vertical-align: top;\n",
       "    }\n",
       "\n",
       "    .dataframe thead th {\n",
       "        text-align: right;\n",
       "    }\n",
       "</style>\n",
       "<table border=\"1\" class=\"dataframe\">\n",
       "  <thead>\n",
       "    <tr style=\"text-align: right;\">\n",
       "      <th></th>\n",
       "      <th>index</th>\n",
       "      <th>seller_id</th>\n",
       "      <th>n_orders</th>\n",
       "      <th>revenues</th>\n",
       "      <th>costs</th>\n",
       "      <th>active_months</th>\n",
       "      <th>sales</th>\n",
       "      <th>profits</th>\n",
       "    </tr>\n",
       "  </thead>\n",
       "  <tbody>\n",
       "    <tr>\n",
       "      <th>2400</th>\n",
       "      <td>2667</td>\n",
       "      <td>a1474fd46fd3430168f7ec202da39408</td>\n",
       "      <td>12</td>\n",
       "      <td>913.65</td>\n",
       "      <td>100</td>\n",
       "      <td>7.98</td>\n",
       "      <td>2752.50</td>\n",
       "      <td>813.65</td>\n",
       "    </tr>\n",
       "    <tr>\n",
       "      <th>2401</th>\n",
       "      <td>752</td>\n",
       "      <td>f680f85bee2d253556ac91be391d2c82</td>\n",
       "      <td>45</td>\n",
       "      <td>1374.39</td>\n",
       "      <td>560</td>\n",
       "      <td>10.70</td>\n",
       "      <td>5183.92</td>\n",
       "      <td>814.39</td>\n",
       "    </tr>\n",
       "  </tbody>\n",
       "</table>\n",
       "</div>"
      ],
      "text/plain": [
       "      index                         seller_id  n_orders  revenues  costs  \\\n",
       "2400   2667  a1474fd46fd3430168f7ec202da39408        12    913.65    100   \n",
       "2401    752  f680f85bee2d253556ac91be391d2c82        45   1374.39    560   \n",
       "\n",
       "      active_months    sales  profits  \n",
       "2400           7.98  2752.50   813.65  \n",
       "2401          10.70  5183.92   814.39  "
      ]
     },
     "execution_count": 94,
     "metadata": {},
     "output_type": "execute_result"
    }
   ],
   "source": [
    "good_sellers = sorted_profits.iloc[2400:, :].copy()\n",
    "good_sellers.head(2)"
   ]
  },
  {
   "cell_type": "code",
   "execution_count": 98,
   "metadata": {},
   "outputs": [
    {
     "data": {
      "text/html": [
       "<div>\n",
       "<style scoped>\n",
       "    .dataframe tbody tr th:only-of-type {\n",
       "        vertical-align: middle;\n",
       "    }\n",
       "\n",
       "    .dataframe tbody tr th {\n",
       "        vertical-align: top;\n",
       "    }\n",
       "\n",
       "    .dataframe thead th {\n",
       "        text-align: right;\n",
       "    }\n",
       "</style>\n",
       "<table border=\"1\" class=\"dataframe\">\n",
       "  <thead>\n",
       "    <tr style=\"text-align: right;\">\n",
       "      <th></th>\n",
       "      <th>index</th>\n",
       "      <th>seller_id</th>\n",
       "      <th>n_orders</th>\n",
       "      <th>revenues</th>\n",
       "      <th>costs</th>\n",
       "      <th>active_months</th>\n",
       "      <th>sales</th>\n",
       "      <th>profits</th>\n",
       "      <th>new_revenues</th>\n",
       "      <th>new_profits</th>\n",
       "    </tr>\n",
       "  </thead>\n",
       "  <tbody>\n",
       "    <tr>\n",
       "      <th>0</th>\n",
       "      <td>453</td>\n",
       "      <td>1f50f920176fa81dab994f9023523100</td>\n",
       "      <td>1404</td>\n",
       "      <td>12037.92</td>\n",
       "      <td>38340</td>\n",
       "      <td>16.80</td>\n",
       "      <td>106939.21</td>\n",
       "      <td>-26302.08</td>\n",
       "      <td>17384.8815</td>\n",
       "      <td>-20955.1185</td>\n",
       "    </tr>\n",
       "    <tr>\n",
       "      <th>1</th>\n",
       "      <td>769</td>\n",
       "      <td>6560211a19b47992c3666cc44a7e94c0</td>\n",
       "      <td>1854</td>\n",
       "      <td>13797.68</td>\n",
       "      <td>38660</td>\n",
       "      <td>18.34</td>\n",
       "      <td>123304.83</td>\n",
       "      <td>-24862.32</td>\n",
       "      <td>19962.9245</td>\n",
       "      <td>-18697.0755</td>\n",
       "    </tr>\n",
       "  </tbody>\n",
       "</table>\n",
       "</div>"
      ],
      "text/plain": [
       "   index                         seller_id  n_orders  revenues  costs  \\\n",
       "0    453  1f50f920176fa81dab994f9023523100      1404  12037.92  38340   \n",
       "1    769  6560211a19b47992c3666cc44a7e94c0      1854  13797.68  38660   \n",
       "\n",
       "   active_months      sales   profits  new_revenues  new_profits  \n",
       "0          16.80  106939.21 -26302.08    17384.8815  -20955.1185  \n",
       "1          18.34  123304.83 -24862.32    19962.9245  -18697.0755  "
      ]
     },
     "execution_count": 98,
     "metadata": {},
     "output_type": "execute_result"
    }
   ],
   "source": [
    "bad_sellers['new_revenues'] = bad_sellers['sales'].map(lambda x : .15*x) \\\n",
    "                       + bad_sellers['active_months']*80\n",
    "\n",
    "bad_sellers['new_profits'] = bad_sellers['new_revenues'] - bad_sellers['costs']\n",
    "\n",
    "bad_sellers.head(2)\n"
   ]
  },
  {
   "cell_type": "code",
   "execution_count": 101,
   "metadata": {},
   "outputs": [
    {
     "name": "stdout",
     "output_type": "stream",
     "text": [
      "85.12  % of negative profits become positive \n"
     ]
    }
   ],
   "source": [
    "\n",
    "print ( round( 100*(\n",
    "    len(np.where(bad_sellers.new_profits >0)[0]\n",
    "                       ) / len(bad_sellers.new_profits)), 2), \" % of negative profits become positive \")"
   ]
  },
  {
   "cell_type": "code",
   "execution_count": 120,
   "metadata": {},
   "outputs": [
    {
     "name": "stdout",
     "output_type": "stream",
     "text": [
      "2400 sellers with negative profits\n",
      "570 sellers with positive profits\n",
      "\n",
      "2613 sellers become with positive profits after applying 15%        of sales on sellers with bad reviewes scores\n",
      "357 sellers remain with negative profits after applying 15%        of sales on sellers with bad reviewes scores\n"
     ]
    }
   ],
   "source": [
    "neg_1 = (80.81/ 100) * len(Pr)\n",
    "pos_1 = (1 - (80.81/ 100)) * len(Pr)\n",
    "\n",
    "pos = pos_1 + (85.12/ 100)  * neg_1\n",
    "print( round(neg_1), \"sellers with negative profits\")\n",
    "print( round(pos_1), \"sellers with positive profits\")\n",
    "print(\"\")\n",
    "print( round(pos), \"sellers become with positive profits after applying 15%  \\\n",
    "      of sales on sellers with bad reviewes scores\")\n",
    "print(len(Pr) - round(pos), \"sellers remain with negative profits after applying 15%  \\\n",
    "      of sales on sellers with bad reviewes scores\")"
   ]
  },
  {
   "cell_type": "code",
   "execution_count": 118,
   "metadata": {},
   "outputs": [
    {
     "data": {
      "text/plain": [
       "2970"
      ]
     },
     "execution_count": 118,
     "metadata": {},
     "output_type": "execute_result"
    }
   ],
   "source": []
  },
  {
   "cell_type": "code",
   "execution_count": 110,
   "metadata": {},
   "outputs": [
    {
     "data": {
      "text/plain": [
       "200     -182.9795\n",
       "201      398.6920\n",
       "202      -89.3900\n",
       "203     -154.8770\n",
       "204      180.7825\n",
       "          ...    \n",
       "2395    1010.9500\n",
       "2396     950.6950\n",
       "2397     959.0550\n",
       "2398     827.6500\n",
       "2399     878.4150\n",
       "Name: new_profits, Length: 2200, dtype: float64"
      ]
     },
     "execution_count": 110,
     "metadata": {},
     "output_type": "execute_result"
    }
   ],
   "source": [
    "bad_sellers.new_profits.iloc[200:]"
   ]
  },
  {
   "cell_type": "code",
   "execution_count": null,
   "metadata": {},
   "outputs": [],
   "source": []
  },
  {
   "cell_type": "markdown",
   "metadata": {
    "slideshow": {
     "slide_type": "subslide"
    }
   },
   "source": [
    "#### Profits incl. IT costs"
   ]
  },
  {
   "cell_type": "code",
   "execution_count": 33,
   "metadata": {
    "slideshow": {
     "slide_type": "fragment"
    }
   },
   "outputs": [
    {
     "name": "stdout",
     "output_type": "stream",
     "text": [
      "The final resulting profits :  393134.21\n"
     ]
    }
   ],
   "source": [
    "#The IT department also told you that since the birth of the marketplace,\n",
    "#cumulated IT costs have amounted to 500,000 BRL.\n",
    "\n",
    "IT_costs = 500_000\n",
    "print(\"The final resulting profits : \",  round(profits - IT_costs, 2))"
   ]
  },
  {
   "cell_type": "markdown",
   "metadata": {
    "slideshow": {
     "slide_type": "subslide"
    }
   },
   "source": [
    "### Recap "
   ]
  },
  {
   "cell_type": "markdown",
   "metadata": {
    "slideshow": {
     "slide_type": "fragment"
    }
   },
   "source": [
    "- Recap :\n",
    "    - Revenues :  <span style=\"color:blue\">  2_787_744    BRL</span>\n",
    "    - Costs \"bad reviews\" :  <span style=\"color:blue\">  1_894_610    BRL</span>\n",
    "    - The resulting profits for all sellers :  <span style=\"color:blue\">  893_134   BRL</span>\n",
    "    - IT_costs :  <span style=\"color:blue\">  500_000    BRL</span>\n",
    "    - The final resulting profits :   <span style=\"color:blue\">  393_134    BRL</span> "
   ]
  },
  {
   "cell_type": "markdown",
   "metadata": {
    "slideshow": {
     "slide_type": "subslide"
    }
   },
   "source": [
    "#### The number of orders"
   ]
  },
  {
   "cell_type": "code",
   "execution_count": 34,
   "metadata": {
    "slideshow": {
     "slide_type": "skip"
    }
   },
   "outputs": [
    {
     "data": {
      "text/html": [
       "<div>\n",
       "<style scoped>\n",
       "    .dataframe tbody tr th:only-of-type {\n",
       "        vertical-align: middle;\n",
       "    }\n",
       "\n",
       "    .dataframe tbody tr th {\n",
       "        vertical-align: top;\n",
       "    }\n",
       "\n",
       "    .dataframe thead th {\n",
       "        text-align: right;\n",
       "    }\n",
       "</style>\n",
       "<table border=\"1\" class=\"dataframe\">\n",
       "  <thead>\n",
       "    <tr style=\"text-align: right;\">\n",
       "      <th></th>\n",
       "      <th>seller_id</th>\n",
       "      <th>n_orders</th>\n",
       "      <th>revenues</th>\n",
       "      <th>costs</th>\n",
       "      <th>active_months</th>\n",
       "      <th>sales</th>\n",
       "      <th>profits</th>\n",
       "    </tr>\n",
       "  </thead>\n",
       "  <tbody>\n",
       "    <tr>\n",
       "      <th>0</th>\n",
       "      <td>3442f8959a84dea7ee197c632cb2df15</td>\n",
       "      <td>3</td>\n",
       "      <td>328.999525</td>\n",
       "      <td>140</td>\n",
       "      <td>3.839119</td>\n",
       "      <td>218.70</td>\n",
       "      <td>188.999525</td>\n",
       "    </tr>\n",
       "    <tr>\n",
       "      <th>1</th>\n",
       "      <td>d1b65fc7debc3361ea86b5f14c68d2e2</td>\n",
       "      <td>40</td>\n",
       "      <td>2313.008599</td>\n",
       "      <td>140</td>\n",
       "      <td>14.283770</td>\n",
       "      <td>11703.07</td>\n",
       "      <td>2173.008599</td>\n",
       "    </tr>\n",
       "    <tr>\n",
       "      <th>2</th>\n",
       "      <td>ce3ad9de960102d0677a81f5d0bb7b2d</td>\n",
       "      <td>1</td>\n",
       "      <td>15.800000</td>\n",
       "      <td>0</td>\n",
       "      <td>0.000000</td>\n",
       "      <td>158.00</td>\n",
       "      <td>15.800000</td>\n",
       "    </tr>\n",
       "  </tbody>\n",
       "</table>\n",
       "</div>"
      ],
      "text/plain": [
       "                          seller_id  n_orders     revenues  costs  \\\n",
       "0  3442f8959a84dea7ee197c632cb2df15         3   328.999525    140   \n",
       "1  d1b65fc7debc3361ea86b5f14c68d2e2        40  2313.008599    140   \n",
       "2  ce3ad9de960102d0677a81f5d0bb7b2d         1    15.800000      0   \n",
       "\n",
       "   active_months     sales      profits  \n",
       "0       3.839119    218.70   188.999525  \n",
       "1      14.283770  11703.07  2173.008599  \n",
       "2       0.000000    158.00    15.800000  "
      ]
     },
     "execution_count": 34,
     "metadata": {},
     "output_type": "execute_result"
    }
   ],
   "source": [
    "profits_seller.head(3)  # --> profits_seller.shape  = (2970, 7)"
   ]
  },
  {
   "cell_type": "code",
   "execution_count": 35,
   "metadata": {
    "slideshow": {
     "slide_type": "skip"
    }
   },
   "outputs": [
    {
     "data": {
      "text/html": [
       "<div>\n",
       "<style scoped>\n",
       "    .dataframe tbody tr th:only-of-type {\n",
       "        vertical-align: middle;\n",
       "    }\n",
       "\n",
       "    .dataframe tbody tr th {\n",
       "        vertical-align: top;\n",
       "    }\n",
       "\n",
       "    .dataframe thead th {\n",
       "        text-align: right;\n",
       "    }\n",
       "</style>\n",
       "<table border=\"1\" class=\"dataframe\">\n",
       "  <thead>\n",
       "    <tr style=\"text-align: right;\">\n",
       "      <th></th>\n",
       "      <th>seller_id</th>\n",
       "      <th>costs</th>\n",
       "    </tr>\n",
       "  </thead>\n",
       "  <tbody>\n",
       "    <tr>\n",
       "      <th>0</th>\n",
       "      <td>0015a82c2db000af6aaaf3ae2ecb0532</td>\n",
       "      <td>100</td>\n",
       "    </tr>\n",
       "    <tr>\n",
       "      <th>1</th>\n",
       "      <td>001cca7ae9ae17fb1caed9dfb1094831</td>\n",
       "      <td>4490</td>\n",
       "    </tr>\n",
       "  </tbody>\n",
       "</table>\n",
       "</div>"
      ],
      "text/plain": [
       "                          seller_id  costs\n",
       "0  0015a82c2db000af6aaaf3ae2ecb0532    100\n",
       "1  001cca7ae9ae17fb1caed9dfb1094831   4490"
      ]
     },
     "execution_count": 35,
     "metadata": {},
     "output_type": "execute_result"
    }
   ],
   "source": [
    "olist_costs.head(2) #  .shape  = (2970, 7)"
   ]
  },
  {
   "cell_type": "code",
   "execution_count": 36,
   "metadata": {
    "scrolled": true,
    "slideshow": {
     "slide_type": "fragment"
    }
   },
   "outputs": [],
   "source": [
    "sellers_2 = profits_seller.merge(olist_costs,\n",
    "                            on = 'seller_id')"
   ]
  },
  {
   "cell_type": "code",
   "execution_count": 37,
   "metadata": {
    "slideshow": {
     "slide_type": "skip"
    }
   },
   "outputs": [
    {
     "data": {
      "text/html": [
       "<div>\n",
       "<style scoped>\n",
       "    .dataframe tbody tr th:only-of-type {\n",
       "        vertical-align: middle;\n",
       "    }\n",
       "\n",
       "    .dataframe tbody tr th {\n",
       "        vertical-align: top;\n",
       "    }\n",
       "\n",
       "    .dataframe thead th {\n",
       "        text-align: right;\n",
       "    }\n",
       "</style>\n",
       "<table border=\"1\" class=\"dataframe\">\n",
       "  <thead>\n",
       "    <tr style=\"text-align: right;\">\n",
       "      <th></th>\n",
       "      <th>seller_id</th>\n",
       "      <th>n_orders</th>\n",
       "      <th>revenues</th>\n",
       "      <th>costs_x</th>\n",
       "      <th>active_months</th>\n",
       "      <th>sales</th>\n",
       "      <th>profits</th>\n",
       "      <th>costs_y</th>\n",
       "    </tr>\n",
       "  </thead>\n",
       "  <tbody>\n",
       "    <tr>\n",
       "      <th>0</th>\n",
       "      <td>3442f8959a84dea7ee197c632cb2df15</td>\n",
       "      <td>3</td>\n",
       "      <td>328.999525</td>\n",
       "      <td>140</td>\n",
       "      <td>3.839119</td>\n",
       "      <td>218.70</td>\n",
       "      <td>188.999525</td>\n",
       "      <td>140</td>\n",
       "    </tr>\n",
       "    <tr>\n",
       "      <th>1</th>\n",
       "      <td>d1b65fc7debc3361ea86b5f14c68d2e2</td>\n",
       "      <td>40</td>\n",
       "      <td>2313.008599</td>\n",
       "      <td>140</td>\n",
       "      <td>14.283770</td>\n",
       "      <td>11703.07</td>\n",
       "      <td>2173.008599</td>\n",
       "      <td>140</td>\n",
       "    </tr>\n",
       "    <tr>\n",
       "      <th>2</th>\n",
       "      <td>ce3ad9de960102d0677a81f5d0bb7b2d</td>\n",
       "      <td>1</td>\n",
       "      <td>15.800000</td>\n",
       "      <td>0</td>\n",
       "      <td>0.000000</td>\n",
       "      <td>158.00</td>\n",
       "      <td>15.800000</td>\n",
       "      <td>0</td>\n",
       "    </tr>\n",
       "  </tbody>\n",
       "</table>\n",
       "</div>"
      ],
      "text/plain": [
       "                          seller_id  n_orders     revenues  costs_x  \\\n",
       "0  3442f8959a84dea7ee197c632cb2df15         3   328.999525      140   \n",
       "1  d1b65fc7debc3361ea86b5f14c68d2e2        40  2313.008599      140   \n",
       "2  ce3ad9de960102d0677a81f5d0bb7b2d         1    15.800000        0   \n",
       "\n",
       "   active_months     sales      profits  costs_y  \n",
       "0       3.839119    218.70   188.999525      140  \n",
       "1      14.283770  11703.07  2173.008599      140  \n",
       "2       0.000000    158.00    15.800000        0  "
      ]
     },
     "execution_count": 37,
     "metadata": {},
     "output_type": "execute_result"
    }
   ],
   "source": [
    "sellers_2.head(3)"
   ]
  },
  {
   "cell_type": "code",
   "execution_count": 38,
   "metadata": {
    "slideshow": {
     "slide_type": "fragment"
    }
   },
   "outputs": [],
   "source": [
    "sellers_3 = sellers_2.merge( sellers[[ 'seller_id', 'review_score']])"
   ]
  },
  {
   "cell_type": "code",
   "execution_count": 40,
   "metadata": {
    "slideshow": {
     "slide_type": "skip"
    }
   },
   "outputs": [],
   "source": [
    "#sellers_3.columns"
   ]
  },
  {
   "cell_type": "code",
   "execution_count": 41,
   "metadata": {
    "slideshow": {
     "slide_type": "skip"
    }
   },
   "outputs": [],
   "source": [
    "sellers_3.columns = ['seller_id', 'n_orders', 'revenues', 'costs', 'active_months',\n",
    "       'sales', 'profits', 'costs_y', 'review_score']"
   ]
  },
  {
   "cell_type": "code",
   "execution_count": 42,
   "metadata": {
    "slideshow": {
     "slide_type": "skip"
    }
   },
   "outputs": [],
   "source": [
    "mask_columns = ['seller_id', 'n_orders', 'revenues', 'costs', 'active_months',\n",
    "       'sales', 'profits', 'review_score']\n",
    "sellers_3 = sellers_3[mask_columns].copy()"
   ]
  },
  {
   "cell_type": "code",
   "execution_count": 43,
   "metadata": {
    "slideshow": {
     "slide_type": "fragment"
    },
    "tags": [
     "sellers_3"
    ]
   },
   "outputs": [
    {
     "data": {
      "text/html": [
       "<div>\n",
       "<style scoped>\n",
       "    .dataframe tbody tr th:only-of-type {\n",
       "        vertical-align: middle;\n",
       "    }\n",
       "\n",
       "    .dataframe tbody tr th {\n",
       "        vertical-align: top;\n",
       "    }\n",
       "\n",
       "    .dataframe thead th {\n",
       "        text-align: right;\n",
       "    }\n",
       "</style>\n",
       "<table border=\"1\" class=\"dataframe\">\n",
       "  <thead>\n",
       "    <tr style=\"text-align: right;\">\n",
       "      <th></th>\n",
       "      <th>seller_id</th>\n",
       "      <th>n_orders</th>\n",
       "      <th>revenues</th>\n",
       "      <th>costs</th>\n",
       "      <th>active_months</th>\n",
       "      <th>sales</th>\n",
       "      <th>profits</th>\n",
       "      <th>review_score</th>\n",
       "      <th>Rank_profits</th>\n",
       "    </tr>\n",
       "  </thead>\n",
       "  <tbody>\n",
       "    <tr>\n",
       "      <th>769</th>\n",
       "      <td>6560211a19b47992c3666cc44a7e94c0</td>\n",
       "      <td>1854</td>\n",
       "      <td>13797.307583</td>\n",
       "      <td>38660</td>\n",
       "      <td>18.335307</td>\n",
       "      <td>123304.83</td>\n",
       "      <td>-24862.692417</td>\n",
       "      <td>3.922043</td>\n",
       "      <td>2.0</td>\n",
       "    </tr>\n",
       "    <tr>\n",
       "      <th>2360</th>\n",
       "      <td>4a3ca9315b744ce9f8e9374361493884</td>\n",
       "      <td>1806</td>\n",
       "      <td>21613.957252</td>\n",
       "      <td>45160</td>\n",
       "      <td>19.583316</td>\n",
       "      <td>200472.92</td>\n",
       "      <td>-23546.042748</td>\n",
       "      <td>3.804610</td>\n",
       "      <td>4.0</td>\n",
       "    </tr>\n",
       "    <tr>\n",
       "      <th>1358</th>\n",
       "      <td>cc419e0650a3c5ba77189a1882b7556a</td>\n",
       "      <td>1706</td>\n",
       "      <td>11930.811970</td>\n",
       "      <td>27820</td>\n",
       "      <td>18.774625</td>\n",
       "      <td>104288.42</td>\n",
       "      <td>-15889.188030</td>\n",
       "      <td>4.069222</td>\n",
       "      <td>8.0</td>\n",
       "    </tr>\n",
       "  </tbody>\n",
       "</table>\n",
       "</div>"
      ],
      "text/plain": [
       "                             seller_id  n_orders      revenues  costs  \\\n",
       "769   6560211a19b47992c3666cc44a7e94c0      1854  13797.307583  38660   \n",
       "2360  4a3ca9315b744ce9f8e9374361493884      1806  21613.957252  45160   \n",
       "1358  cc419e0650a3c5ba77189a1882b7556a      1706  11930.811970  27820   \n",
       "\n",
       "      active_months      sales       profits  review_score  Rank_profits  \n",
       "769       18.335307  123304.83 -24862.692417      3.922043           2.0  \n",
       "2360      19.583316  200472.92 -23546.042748      3.804610           4.0  \n",
       "1358      18.774625  104288.42 -15889.188030      4.069222           8.0  "
      ]
     },
     "execution_count": 43,
     "metadata": {},
     "output_type": "execute_result"
    }
   ],
   "source": [
    "sellers_3[\"Rank_profits\"] = sellers_3[\"profits\"].rank()\n",
    "sellers_3.sort_values(by = 'n_orders', ascending = False).head(3)"
   ]
  },
  {
   "cell_type": "code",
   "execution_count": 45,
   "metadata": {
    "slideshow": {
     "slide_type": "fragment"
    }
   },
   "outputs": [
    {
     "name": "stdout",
     "output_type": "stream",
     "text": [
      " the total cumulated number of orders approved. :  99844\n"
     ]
    }
   ],
   "source": [
    "print( \" the total cumulated number of orders approved. : \", sellers_3['n_orders'].sum() )"
   ]
  },
  {
   "cell_type": "markdown",
   "metadata": {
    "slideshow": {
     "slide_type": "subslide"
    }
   },
   "source": [
    "##### The number of orders vs. profits"
   ]
  },
  {
   "cell_type": "code",
   "execution_count": 44,
   "metadata": {
    "slideshow": {
     "slide_type": "fragment"
    }
   },
   "outputs": [
    {
     "data": {
      "image/png": "[encoded data removed]",
      "text/plain": [
       "<Figure size 1080x360 with 2 Axes>"
      ]
     },
     "metadata": {
      "needs_background": "light"
     },
     "output_type": "display_data"
    }
   ],
   "source": [
    "fig,axes=plt.subplots(1,2, figsize=(15,5))\n",
    "sns.scatterplot(x='n_orders', y='profits', data=sellers_3 ,ax=axes[0])\n",
    "sns.scatterplot(x='n_orders', y='review_score', data=sellers_3, ax=axes[1]);"
   ]
  },
  {
   "cell_type": "markdown",
   "metadata": {
    "slideshow": {
     "slide_type": "skip"
    }
   },
   "source": [
    "n_orders higher and average(review_score) higher \n",
    "but profits are the more disastrous"
   ]
  },
  {
   "cell_type": "markdown",
   "metadata": {
    "slideshow": {
     "slide_type": "skip"
    }
   },
   "source": [
    "- `n_orders` (_int_) _The number of unique orders the seller was involved with._\n",
    "- `review_score` (_float_) _The average review score for orders in which the seller was involved_\n",
    "- `sales` (_float_) _The total sales associated with this seller (excluding freight value)_ in BRL\n",
    "\n",
    "\n",
    "\n",
    "\n",
    "\n"
   ]
  },
  {
   "cell_type": "code",
   "execution_count": 46,
   "metadata": {
    "slideshow": {
     "slide_type": "skip"
    }
   },
   "outputs": [
    {
     "data": {
      "text/plain": [
       "True"
      ]
     },
     "execution_count": 46,
     "metadata": {},
     "output_type": "execute_result"
    }
   ],
   "source": [
    "len(sellers_3['seller_id'].unique()) == len(olist_costs['seller_id'].unique()) # 2970"
   ]
  },
  {
   "cell_type": "code",
   "execution_count": 47,
   "metadata": {
    "slideshow": {
     "slide_type": "skip"
    }
   },
   "outputs": [],
   "source": [
    "#round( \n",
    "   #  ( (sellers_2['n_orders'].sum())** (.5) ), 2 )"
   ]
  },
  {
   "cell_type": "code",
   "execution_count": 48,
   "metadata": {
    "slideshow": {
     "slide_type": "skip"
    }
   },
   "outputs": [
    {
     "data": {
      "text/html": [
       "<div>\n",
       "<style scoped>\n",
       "    .dataframe tbody tr th:only-of-type {\n",
       "        vertical-align: middle;\n",
       "    }\n",
       "\n",
       "    .dataframe tbody tr th {\n",
       "        vertical-align: top;\n",
       "    }\n",
       "\n",
       "    .dataframe thead th {\n",
       "        text-align: right;\n",
       "    }\n",
       "</style>\n",
       "<table border=\"1\" class=\"dataframe\">\n",
       "  <thead>\n",
       "    <tr style=\"text-align: right;\">\n",
       "      <th></th>\n",
       "      <th>seller_id</th>\n",
       "      <th>costs</th>\n",
       "    </tr>\n",
       "  </thead>\n",
       "  <tbody>\n",
       "    <tr>\n",
       "      <th>0</th>\n",
       "      <td>0015a82c2db000af6aaaf3ae2ecb0532</td>\n",
       "      <td>100</td>\n",
       "    </tr>\n",
       "    <tr>\n",
       "      <th>1</th>\n",
       "      <td>001cca7ae9ae17fb1caed9dfb1094831</td>\n",
       "      <td>4490</td>\n",
       "    </tr>\n",
       "  </tbody>\n",
       "</table>\n",
       "</div>"
      ],
      "text/plain": [
       "                          seller_id  costs\n",
       "0  0015a82c2db000af6aaaf3ae2ecb0532    100\n",
       "1  001cca7ae9ae17fb1caed9dfb1094831   4490"
      ]
     },
     "execution_count": 48,
     "metadata": {},
     "output_type": "execute_result"
    }
   ],
   "source": [
    "olist_costs.head(2)"
   ]
  },
  {
   "cell_type": "code",
   "execution_count": 49,
   "metadata": {
    "slideshow": {
     "slide_type": "skip"
    }
   },
   "outputs": [
    {
     "data": {
      "text/html": [
       "<div>\n",
       "<style scoped>\n",
       "    .dataframe tbody tr th:only-of-type {\n",
       "        vertical-align: middle;\n",
       "    }\n",
       "\n",
       "    .dataframe tbody tr th {\n",
       "        vertical-align: top;\n",
       "    }\n",
       "\n",
       "    .dataframe thead th {\n",
       "        text-align: right;\n",
       "    }\n",
       "</style>\n",
       "<table border=\"1\" class=\"dataframe\">\n",
       "  <thead>\n",
       "    <tr style=\"text-align: right;\">\n",
       "      <th></th>\n",
       "      <th>seller_id</th>\n",
       "      <th>n_orders</th>\n",
       "      <th>revenues</th>\n",
       "      <th>costs_x</th>\n",
       "      <th>active_months</th>\n",
       "      <th>sales</th>\n",
       "      <th>profits</th>\n",
       "      <th>costs_y</th>\n",
       "    </tr>\n",
       "  </thead>\n",
       "  <tbody>\n",
       "    <tr>\n",
       "      <th>0</th>\n",
       "      <td>3442f8959a84dea7ee197c632cb2df15</td>\n",
       "      <td>3</td>\n",
       "      <td>328.999525</td>\n",
       "      <td>140</td>\n",
       "      <td>3.839119</td>\n",
       "      <td>218.70</td>\n",
       "      <td>188.999525</td>\n",
       "      <td>140</td>\n",
       "    </tr>\n",
       "    <tr>\n",
       "      <th>1</th>\n",
       "      <td>d1b65fc7debc3361ea86b5f14c68d2e2</td>\n",
       "      <td>40</td>\n",
       "      <td>2313.008599</td>\n",
       "      <td>140</td>\n",
       "      <td>14.283770</td>\n",
       "      <td>11703.07</td>\n",
       "      <td>2173.008599</td>\n",
       "      <td>140</td>\n",
       "    </tr>\n",
       "  </tbody>\n",
       "</table>\n",
       "</div>"
      ],
      "text/plain": [
       "                          seller_id  n_orders     revenues  costs_x  \\\n",
       "0  3442f8959a84dea7ee197c632cb2df15         3   328.999525      140   \n",
       "1  d1b65fc7debc3361ea86b5f14c68d2e2        40  2313.008599      140   \n",
       "\n",
       "   active_months     sales      profits  costs_y  \n",
       "0       3.839119    218.70   188.999525      140  \n",
       "1      14.283770  11703.07  2173.008599      140  "
      ]
     },
     "execution_count": 49,
     "metadata": {},
     "output_type": "execute_result"
    }
   ],
   "source": [
    "seller_3 = sellers_2.copy()\n",
    "seller_3.head(2)"
   ]
  },
  {
   "cell_type": "code",
   "execution_count": null,
   "metadata": {
    "slideshow": {
     "slide_type": "skip"
    }
   },
   "outputs": [],
   "source": [
    "'''def average_review_to_price(review_score): # float\n",
    "    d = {1 : 100, 2 : 50, 3 : 40, 4 : 0, 5: 0}\n",
    "    if d >= 1 and d < 2:\n",
    "        return 100\n",
    "    if d >= 2 and d < 3:\n",
    "        return 50\n",
    "    if d >= 3 and d < 3:\n",
    "        return 50\n",
    "    \n",
    "    return d[review_score]'''"
   ]
  },
  {
   "cell_type": "markdown",
   "metadata": {
    "slideshow": {
     "slide_type": "subslide"
    }
   },
   "source": [
    "## Desicion_for_sellers"
   ]
  },
  {
   "cell_type": "code",
   "execution_count": 50,
   "metadata": {
    "slideshow": {
     "slide_type": "fragment"
    }
   },
   "outputs": [
    {
     "data": {
      "text/html": [
       "<div>\n",
       "<style scoped>\n",
       "    .dataframe tbody tr th:only-of-type {\n",
       "        vertical-align: middle;\n",
       "    }\n",
       "\n",
       "    .dataframe tbody tr th {\n",
       "        vertical-align: top;\n",
       "    }\n",
       "\n",
       "    .dataframe thead th {\n",
       "        text-align: right;\n",
       "    }\n",
       "</style>\n",
       "<table border=\"1\" class=\"dataframe\">\n",
       "  <thead>\n",
       "    <tr style=\"text-align: right;\">\n",
       "      <th></th>\n",
       "      <th>seller_id</th>\n",
       "      <th>date_first_sale</th>\n",
       "      <th>date_last_sale</th>\n",
       "      <th>sales</th>\n",
       "      <th>n_orders</th>\n",
       "      <th>active_months</th>\n",
       "      <th>revenues</th>\n",
       "    </tr>\n",
       "  </thead>\n",
       "  <tbody>\n",
       "    <tr>\n",
       "      <th>0</th>\n",
       "      <td>3442f8959a84dea7ee197c632cb2df15</td>\n",
       "      <td>2017-05-05 16:25:11</td>\n",
       "      <td>2017-08-30 12:50:19</td>\n",
       "      <td>218.70</td>\n",
       "      <td>3</td>\n",
       "      <td>3.839119</td>\n",
       "      <td>328.999525</td>\n",
       "    </tr>\n",
       "    <tr>\n",
       "      <th>1</th>\n",
       "      <td>d1b65fc7debc3361ea86b5f14c68d2e2</td>\n",
       "      <td>2017-03-29 02:10:34</td>\n",
       "      <td>2018-06-06 20:15:21</td>\n",
       "      <td>11703.07</td>\n",
       "      <td>40</td>\n",
       "      <td>14.283770</td>\n",
       "      <td>2313.008599</td>\n",
       "    </tr>\n",
       "  </tbody>\n",
       "</table>\n",
       "</div>"
      ],
      "text/plain": [
       "                          seller_id     date_first_sale      date_last_sale  \\\n",
       "0  3442f8959a84dea7ee197c632cb2df15 2017-05-05 16:25:11 2017-08-30 12:50:19   \n",
       "1  d1b65fc7debc3361ea86b5f14c68d2e2 2017-03-29 02:10:34 2018-06-06 20:15:21   \n",
       "\n",
       "      sales  n_orders  active_months     revenues  \n",
       "0    218.70         3       3.839119   328.999525  \n",
       "1  11703.07        40      14.283770  2313.008599  "
      ]
     },
     "execution_count": 50,
     "metadata": {},
     "output_type": "execute_result"
    }
   ],
   "source": [
    "sellers_1.head(2)"
   ]
  },
  {
   "cell_type": "code",
   "execution_count": 83,
   "metadata": {
    "slideshow": {
     "slide_type": "fragment"
    }
   },
   "outputs": [],
   "source": [
    "sellers_rate_price = sellers_1. copy()\n",
    "\n",
    "sellers_rate_price['active_months'] = \\\n",
    "          (sellers_rate_price['date_last_sale'] - sellers_rate_price['date_first_sale']) \\\n",
    "                  / np.timedelta64(1,'M')\n",
    "\n",
    "sellers_rate_price['revenues'] = sellers_rate_price['sales'].map(lambda x : .15*x) \\\n",
    "                       + sellers_rate_price['active_months']*80\n",
    "\n",
    "total_revenues_rate_price = sellers_rate_price['revenues'].sum()\n",
    "\n",
    "total_costs = olist_costs['costs'].sum() # remaining costs \n",
    "profits_rate_price =  total_revenues_rate_price - total_costs\n",
    "\n",
    "IT_costs = 500_000"
   ]
  },
  {
   "cell_type": "code",
   "execution_count": 84,
   "metadata": {
    "slideshow": {
     "slide_type": "fragment"
    }
   },
   "outputs": [
    {
     "name": "stdout",
     "output_type": "stream",
     "text": [
      "Revenues for all sellers 15%: 3465871.8262827117\n",
      " The total resulting profits 15%:  1571261.83\n",
      "The final resulting profits 15%:  1071261.83\n"
     ]
    }
   ],
   "source": [
    "print(\"Revenues for all sellers 15%:\", total_revenues_rate_price)\n",
    "print( \" The total resulting profits 15%: \", round(profits_rate_price, 2))\n",
    "print(\"The final resulting profits 15%: \",  round(profits_rate_price - IT_costs, 2))"
   ]
  },
  {
   "cell_type": "code",
   "execution_count": 85,
   "metadata": {
    "slideshow": {
     "slide_type": "fragment"
    }
   },
   "outputs": [
    {
     "name": "stdout",
     "output_type": "stream",
     "text": [
      "Revenues for all sellers 10%: 2787744.214282712\n",
      " The total resulting profits 10%:  -213\n",
      "The final resulting profits 10%:  -500213\n"
     ]
    }
   ],
   "source": [
    "print(\"Revenues for all sellers 10%:\", total_revenues)\n",
    "print( \" The total resulting profits 10%: \", round(profits, 2))\n",
    "print(\"The final resulting profits 10%: \",  round(profits - IT_costs, 2))"
   ]
  },
  {
   "cell_type": "markdown",
   "metadata": {
    "slideshow": {
     "slide_type": "subslide"
    }
   },
   "source": [
    "### Recap "
   ]
  },
  {
   "cell_type": "markdown",
   "metadata": {
    "slideshow": {
     "slide_type": "fragment"
    }
   },
   "source": [
    "- Recap :\n",
    "    - IT_costs :  ***500_000    BRL***\n",
    "    - Costs \"bad reviews\" :  ***1_894_610    BRL***\n",
    "    - Revenues (10%):  <span style=\"color:blue\">  2_787_744    BRL</span>\n",
    "     - Revenues (15%):  <span style=\"color:blue\">  3_465_871    BRL</span>\n",
    "    - The resulting profits for all sellers (10%):  <span style=\"color:green\">  893_134   BRL</span>\n",
    "     - The resulting profits for all sellers (15%):  <span style=\"color:green\">  1_571_261   BRL</span>\n",
    "    - The final resulting profits (incl. ,IT 10%):   <span style=\"color:red\">  393_134    BRL</span> \n",
    "     - The final resulting profits (incl. ,IT 15%):   <span style=\"color:red\">  1_071_261    BRL</span> "
   ]
  },
  {
   "cell_type": "code",
   "execution_count": 76,
   "metadata": {
    "slideshow": {
     "slide_type": "subslide"
    }
   },
   "outputs": [],
   "source": [
    "product_price = [ 10, 20, 200]\n",
    "n_orders = 3\n",
    "review_scores =  [ 3, 5, 1]   #----> #average(review_score) = 3\n",
    "\n",
    "cost_ex = 40 + 0 + 100  \n",
    "costs_ex = 140\n",
    "revenues_ex = sum([ 1,  2, 20])\n",
    "revenues_ex = 23\n",
    "profits = 23 - 140 \n",
    "profits = -117"
   ]
  },
  {
   "cell_type": "code",
   "execution_count": null,
   "metadata": {
    "slideshow": {
     "slide_type": "fragment"
    }
   },
   "outputs": [],
   "source": [
    "product_price = [ 10, 20, 200]\n",
    "n_orders = 3\n",
    "review_scores =  [ 3, 4, 2]   #----> #average(review_score) = 3\n",
    "\n",
    "cost_ex = 3*40  + 0 + 2*50\n",
    "costs_ex = 220\n",
    "revenues_ex = sum([ 1,  2, 20])\n",
    "revenues_ex = 23\n",
    "profits = 23 - 220 \n",
    "profits = -197"
   ]
  },
  {
   "cell_type": "code",
   "execution_count": 81,
   "metadata": {
    "slideshow": {
     "slide_type": "subslide"
    }
   },
   "outputs": [],
   "source": [
    "product_price = [ 10, 20, 20]\n",
    "n_orders = 3\n",
    "review_scores =  [ 3, 4, 2]  # -----> #average(review_score) = 5\n",
    "\n",
    "cost_ex = 3*40  + 0 + 2*50\n",
    "costs_ex = 220\n",
    "\n",
    "revenues_ex = sum([ 3,  2, 2])\n",
    "revenues_ex = 7 - 220\n",
    "profits = -213"
   ]
  },
  {
   "cell_type": "code",
   "execution_count": 78,
   "metadata": {
    "slideshow": {
     "slide_type": "fragment"
    }
   },
   "outputs": [],
   "source": [
    "product_price = [ 30, 40, 50]\n",
    "n_orders = 3\n",
    "review_scores =  [ 5, 5, 5]  # -----> #average(review_score) = 5\n",
    "\n",
    "cost_ex = 0 \n",
    "revenues_ex = sum([ 3,  4, 5])\n",
    "revenues_ex = 12 - 0\n",
    "profits = 12"
   ]
  },
  {
   "cell_type": "code",
   "execution_count": 53,
   "metadata": {
    "slideshow": {
     "slide_type": "skip"
    }
   },
   "outputs": [],
   "source": [
    "order_items = data['order_items']  #  we found 'order_id', 'seller_id' and 'price' columns\n",
    "#order_items.head(2)"
   ]
  },
  {
   "cell_type": "code",
   "execution_count": 54,
   "metadata": {
    "slideshow": {
     "slide_type": "skip"
    }
   },
   "outputs": [],
   "source": [
    "order_reviews = data['order_reviews'] #  we found 'order_id', 'seller_id' and 'review_score' columns\n",
    "#order_reviews.head(2)"
   ]
  },
  {
   "cell_type": "markdown",
   "metadata": {
    "slideshow": {
     "slide_type": "skip"
    }
   },
   "source": [
    "sellers_1 -- columns --> seller_id, date_first_sale, date_last_sale, sales, active_months, revenues"
   ]
  },
  {
   "cell_type": "code",
   "execution_count": 59,
   "metadata": {
    "slideshow": {
     "slide_type": "skip"
    }
   },
   "outputs": [
    {
     "data": {
      "text/html": [
       "<div>\n",
       "<style scoped>\n",
       "    .dataframe tbody tr th:only-of-type {\n",
       "        vertical-align: middle;\n",
       "    }\n",
       "\n",
       "    .dataframe tbody tr th {\n",
       "        vertical-align: top;\n",
       "    }\n",
       "\n",
       "    .dataframe thead th {\n",
       "        text-align: right;\n",
       "    }\n",
       "</style>\n",
       "<table border=\"1\" class=\"dataframe\">\n",
       "  <thead>\n",
       "    <tr style=\"text-align: right;\">\n",
       "      <th></th>\n",
       "      <th>seller_id</th>\n",
       "      <th>order_id</th>\n",
       "      <th>active_months</th>\n",
       "      <th>review_score</th>\n",
       "      <th>price</th>\n",
       "    </tr>\n",
       "  </thead>\n",
       "  <tbody>\n",
       "    <tr>\n",
       "      <th>0</th>\n",
       "      <td>6d803cb79cc31c41c4c789a75933b3c7</td>\n",
       "      <td>73fc7af87114b39712e6da79b0a377eb</td>\n",
       "      <td>10.402773</td>\n",
       "      <td>4</td>\n",
       "      <td>185.0</td>\n",
       "    </tr>\n",
       "  </tbody>\n",
       "</table>\n",
       "</div>"
      ],
      "text/plain": [
       "                          seller_id                          order_id  \\\n",
       "0  6d803cb79cc31c41c4c789a75933b3c7  73fc7af87114b39712e6da79b0a377eb   \n",
       "\n",
       "   active_months  review_score  price  \n",
       "0      10.402773             4  185.0  "
      ]
     },
     "execution_count": 59,
     "metadata": {},
     "output_type": "execute_result"
    }
   ],
   "source": [
    "desicion_for_sellers = \\\n",
    "             order_reviews.merge( order_items, on = \"order_id\") \\\n",
    "                        .merge(sellers_1, on = 'seller_id') \\\n",
    "                            [\n",
    "                                ['seller_id', 'order_id', 'active_months', 'review_score', 'price'] \n",
    "                            ]\n",
    "desicion_for_sellers.head(1)"
   ]
  },
  {
   "cell_type": "code",
   "execution_count": 60,
   "metadata": {
    "slideshow": {
     "slide_type": "skip"
    }
   },
   "outputs": [],
   "source": [
    "desicion_for_sellers['revenues'] = desicion_for_sellers['price'].map(lambda x: .1 * x)  \\\n",
    "            +  desicion_for_sellers['active_months']*80\n",
    "\n",
    "desicion_for_sellers['cost_review_score'] = \\\n",
    "                            desicion_for_sellers['review_score'].map(review_to_price)\n",
    "\n",
    "desicion_for_sellers['profits_all_reviews'] = \\\n",
    "                desicion_for_sellers['revenues'] - desicion_for_sellers['cost_review_score']\n",
    "\n",
    "desicion_for_sellers = desicion_for_sellers[ ['seller_id', 'profits_all_reviews'] ]"
   ]
  },
  {
   "cell_type": "code",
   "execution_count": 61,
   "metadata": {
    "slideshow": {
     "slide_type": "skip"
    }
   },
   "outputs": [
    {
     "data": {
      "text/html": [
       "<div>\n",
       "<style scoped>\n",
       "    .dataframe tbody tr th:only-of-type {\n",
       "        vertical-align: middle;\n",
       "    }\n",
       "\n",
       "    .dataframe tbody tr th {\n",
       "        vertical-align: top;\n",
       "    }\n",
       "\n",
       "    .dataframe thead th {\n",
       "        text-align: right;\n",
       "    }\n",
       "</style>\n",
       "<table border=\"1\" class=\"dataframe\">\n",
       "  <thead>\n",
       "    <tr style=\"text-align: right;\">\n",
       "      <th></th>\n",
       "      <th>seller_id</th>\n",
       "      <th>profits_all_reviews</th>\n",
       "    </tr>\n",
       "  </thead>\n",
       "  <tbody>\n",
       "    <tr>\n",
       "      <th>0</th>\n",
       "      <td>6d803cb79cc31c41c4c789a75933b3c7</td>\n",
       "      <td>850.72185</td>\n",
       "    </tr>\n",
       "    <tr>\n",
       "      <th>1</th>\n",
       "      <td>6d803cb79cc31c41c4c789a75933b3c7</td>\n",
       "      <td>850.72185</td>\n",
       "    </tr>\n",
       "    <tr>\n",
       "      <th>2</th>\n",
       "      <td>6d803cb79cc31c41c4c789a75933b3c7</td>\n",
       "      <td>845.72185</td>\n",
       "    </tr>\n",
       "  </tbody>\n",
       "</table>\n",
       "</div>"
      ],
      "text/plain": [
       "                          seller_id  profits_all_reviews\n",
       "0  6d803cb79cc31c41c4c789a75933b3c7            850.72185\n",
       "1  6d803cb79cc31c41c4c789a75933b3c7            850.72185\n",
       "2  6d803cb79cc31c41c4c789a75933b3c7            845.72185"
      ]
     },
     "execution_count": 61,
     "metadata": {},
     "output_type": "execute_result"
    }
   ],
   "source": [
    "desicion_for_sellers.head(3)"
   ]
  },
  {
   "cell_type": "code",
   "execution_count": 62,
   "metadata": {
    "slideshow": {
     "slide_type": "skip"
    }
   },
   "outputs": [
    {
     "data": {
      "text/html": [
       "<div>\n",
       "<style scoped>\n",
       "    .dataframe tbody tr th:only-of-type {\n",
       "        vertical-align: middle;\n",
       "    }\n",
       "\n",
       "    .dataframe tbody tr th {\n",
       "        vertical-align: top;\n",
       "    }\n",
       "\n",
       "    .dataframe thead th {\n",
       "        text-align: right;\n",
       "    }\n",
       "</style>\n",
       "<table border=\"1\" class=\"dataframe\">\n",
       "  <thead>\n",
       "    <tr style=\"text-align: right;\">\n",
       "      <th></th>\n",
       "      <th>seller_id</th>\n",
       "      <th>profits_all_reviews</th>\n",
       "    </tr>\n",
       "  </thead>\n",
       "  <tbody>\n",
       "    <tr>\n",
       "      <th>113110</th>\n",
       "      <td>dcb7367a92f5ffb89f1e2152ed260285</td>\n",
       "      <td>7.99</td>\n",
       "    </tr>\n",
       "    <tr>\n",
       "      <th>113111</th>\n",
       "      <td>61c36f0fc4a47f9532e5512b66668e62</td>\n",
       "      <td>-25.00</td>\n",
       "    </tr>\n",
       "    <tr>\n",
       "      <th>113112</th>\n",
       "      <td>d3e7d37c0df9aef383f3f2a15b0dddfb</td>\n",
       "      <td>16.10</td>\n",
       "    </tr>\n",
       "  </tbody>\n",
       "</table>\n",
       "</div>"
      ],
      "text/plain": [
       "                               seller_id  profits_all_reviews\n",
       "113110  dcb7367a92f5ffb89f1e2152ed260285                 7.99\n",
       "113111  61c36f0fc4a47f9532e5512b66668e62               -25.00\n",
       "113112  d3e7d37c0df9aef383f3f2a15b0dddfb                16.10"
      ]
     },
     "execution_count": 62,
     "metadata": {},
     "output_type": "execute_result"
    }
   ],
   "source": [
    "desicion_for_sellers[['seller_id', 'profits_all_reviews']].tail(3)"
   ]
  },
  {
   "cell_type": "code",
   "execution_count": 63,
   "metadata": {
    "slideshow": {
     "slide_type": "skip"
    }
   },
   "outputs": [
    {
     "data": {
      "text/html": [
       "<div>\n",
       "<style scoped>\n",
       "    .dataframe tbody tr th:only-of-type {\n",
       "        vertical-align: middle;\n",
       "    }\n",
       "\n",
       "    .dataframe tbody tr th {\n",
       "        vertical-align: top;\n",
       "    }\n",
       "\n",
       "    .dataframe thead th {\n",
       "        text-align: right;\n",
       "    }\n",
       "</style>\n",
       "<table border=\"1\" class=\"dataframe\">\n",
       "  <thead>\n",
       "    <tr style=\"text-align: right;\">\n",
       "      <th></th>\n",
       "      <th>seller_id</th>\n",
       "      <th>profits_all_reviews</th>\n",
       "    </tr>\n",
       "  </thead>\n",
       "  <tbody>\n",
       "    <tr>\n",
       "      <th>0</th>\n",
       "      <td>0015a82c2db000af6aaaf3ae2ecb0532</td>\n",
       "      <td>334.592756</td>\n",
       "    </tr>\n",
       "    <tr>\n",
       "      <th>1</th>\n",
       "      <td>001cca7ae9ae17fb1caed9dfb1094831</td>\n",
       "      <td>326126.415889</td>\n",
       "    </tr>\n",
       "  </tbody>\n",
       "</table>\n",
       "</div>"
      ],
      "text/plain": [
       "                          seller_id  profits_all_reviews\n",
       "0  0015a82c2db000af6aaaf3ae2ecb0532           334.592756\n",
       "1  001cca7ae9ae17fb1caed9dfb1094831        326126.415889"
      ]
     },
     "execution_count": 63,
     "metadata": {},
     "output_type": "execute_result"
    }
   ],
   "source": [
    "decision0 = desicion_for_sellers[['seller_id', 'profits_all_reviews']].groupby('seller_id') \\\n",
    "                                                 .sum().reset_index()\n",
    "\n",
    "#         decision    ---- shape --->   (2970, 2)\n",
    "decision0.head(2)"
   ]
  },
  {
   "cell_type": "code",
   "execution_count": 198,
   "metadata": {
    "slideshow": {
     "slide_type": "skip"
    }
   },
   "outputs": [],
   "source": [
    "#decision.sort_values(by='profits_all_reviwes')"
   ]
  },
  {
   "cell_type": "markdown",
   "metadata": {
    "slideshow": {
     "slide_type": "skip"
    }
   },
   "source": [
    "- **we merge decision0 with profits_seller, the resulting profits associated with bad reviewes per seller (already get above)**"
   ]
  },
  {
   "cell_type": "code",
   "execution_count": 64,
   "metadata": {
    "slideshow": {
     "slide_type": "skip"
    }
   },
   "outputs": [
    {
     "data": {
      "text/html": [
       "<div>\n",
       "<style scoped>\n",
       "    .dataframe tbody tr th:only-of-type {\n",
       "        vertical-align: middle;\n",
       "    }\n",
       "\n",
       "    .dataframe tbody tr th {\n",
       "        vertical-align: top;\n",
       "    }\n",
       "\n",
       "    .dataframe thead th {\n",
       "        text-align: right;\n",
       "    }\n",
       "</style>\n",
       "<table border=\"1\" class=\"dataframe\">\n",
       "  <thead>\n",
       "    <tr style=\"text-align: right;\">\n",
       "      <th></th>\n",
       "      <th>seller_id</th>\n",
       "      <th>n_orders</th>\n",
       "      <th>revenues</th>\n",
       "      <th>costs</th>\n",
       "      <th>active_months</th>\n",
       "      <th>sales</th>\n",
       "      <th>profits</th>\n",
       "    </tr>\n",
       "  </thead>\n",
       "  <tbody>\n",
       "    <tr>\n",
       "      <th>0</th>\n",
       "      <td>3442f8959a84dea7ee197c632cb2df15</td>\n",
       "      <td>3</td>\n",
       "      <td>328.999525</td>\n",
       "      <td>140</td>\n",
       "      <td>3.839119</td>\n",
       "      <td>218.70</td>\n",
       "      <td>188.999525</td>\n",
       "    </tr>\n",
       "    <tr>\n",
       "      <th>1</th>\n",
       "      <td>d1b65fc7debc3361ea86b5f14c68d2e2</td>\n",
       "      <td>40</td>\n",
       "      <td>2313.008599</td>\n",
       "      <td>140</td>\n",
       "      <td>14.283770</td>\n",
       "      <td>11703.07</td>\n",
       "      <td>2173.008599</td>\n",
       "    </tr>\n",
       "  </tbody>\n",
       "</table>\n",
       "</div>"
      ],
      "text/plain": [
       "                          seller_id  n_orders     revenues  costs  \\\n",
       "0  3442f8959a84dea7ee197c632cb2df15         3   328.999525    140   \n",
       "1  d1b65fc7debc3361ea86b5f14c68d2e2        40  2313.008599    140   \n",
       "\n",
       "   active_months     sales      profits  \n",
       "0       3.839119    218.70   188.999525  \n",
       "1      14.283770  11703.07  2173.008599  "
      ]
     },
     "execution_count": 64,
     "metadata": {},
     "output_type": "execute_result"
    }
   ],
   "source": [
    "profits_seller.head(2)\n",
    "#           profits_seller.shape   ---- shape ---> (2970, 4)"
   ]
  },
  {
   "cell_type": "code",
   "execution_count": 65,
   "metadata": {
    "slideshow": {
     "slide_type": "skip"
    }
   },
   "outputs": [
    {
     "data": {
      "text/html": [
       "<div>\n",
       "<style scoped>\n",
       "    .dataframe tbody tr th:only-of-type {\n",
       "        vertical-align: middle;\n",
       "    }\n",
       "\n",
       "    .dataframe tbody tr th {\n",
       "        vertical-align: top;\n",
       "    }\n",
       "\n",
       "    .dataframe thead th {\n",
       "        text-align: right;\n",
       "    }\n",
       "</style>\n",
       "<table border=\"1\" class=\"dataframe\">\n",
       "  <thead>\n",
       "    <tr style=\"text-align: right;\">\n",
       "      <th></th>\n",
       "      <th>seller_id</th>\n",
       "      <th>profits_all_reviews</th>\n",
       "      <th>profits</th>\n",
       "    </tr>\n",
       "  </thead>\n",
       "  <tbody>\n",
       "    <tr>\n",
       "      <th>0</th>\n",
       "      <td>0015a82c2db000af6aaaf3ae2ecb0532</td>\n",
       "      <td>334.592756</td>\n",
       "      <td>223.864252</td>\n",
       "    </tr>\n",
       "    <tr>\n",
       "      <th>1</th>\n",
       "      <td>001cca7ae9ae17fb1caed9dfb1094831</td>\n",
       "      <td>326126.415889</td>\n",
       "      <td>-607.066402</td>\n",
       "    </tr>\n",
       "    <tr>\n",
       "      <th>2</th>\n",
       "      <td>002100f778ceb8431b7a1020ff7ab48f</td>\n",
       "      <td>29999.063209</td>\n",
       "      <td>-333.271014</td>\n",
       "    </tr>\n",
       "    <tr>\n",
       "      <th>3</th>\n",
       "      <td>003554e2dce176b5555353e4f3555ac8</td>\n",
       "      <td>12.000000</td>\n",
       "      <td>12.000000</td>\n",
       "    </tr>\n",
       "    <tr>\n",
       "      <th>4</th>\n",
       "      <td>004c9cd9d87a3c30c522c48c4fc07416</td>\n",
       "      <td>214188.569252</td>\n",
       "      <td>56.432312</td>\n",
       "    </tr>\n",
       "  </tbody>\n",
       "</table>\n",
       "</div>"
      ],
      "text/plain": [
       "                          seller_id  profits_all_reviews     profits\n",
       "0  0015a82c2db000af6aaaf3ae2ecb0532           334.592756  223.864252\n",
       "1  001cca7ae9ae17fb1caed9dfb1094831        326126.415889 -607.066402\n",
       "2  002100f778ceb8431b7a1020ff7ab48f         29999.063209 -333.271014\n",
       "3  003554e2dce176b5555353e4f3555ac8            12.000000   12.000000\n",
       "4  004c9cd9d87a3c30c522c48c4fc07416        214188.569252   56.432312"
      ]
     },
     "execution_count": 65,
     "metadata": {},
     "output_type": "execute_result"
    }
   ],
   "source": [
    "decision = decision0.merge(profits_seller, on='seller_id', how = 'inner')\n",
    "decision = decision[['seller_id', \n",
    "          'profits_all_reviews',\n",
    "          'profits']]\n",
    "decision.head(5)              #sort_values(by='profits_all_reviewes', ascending= False).head(5)"
   ]
  },
  {
   "cell_type": "code",
   "execution_count": 241,
   "metadata": {
    "slideshow": {
     "slide_type": "skip"
    }
   },
   "outputs": [
    {
     "name": "stdout",
     "output_type": "stream",
     "text": [
      "123287092.38 893134.21\n"
     ]
    }
   ],
   "source": [
    "print( round( decision.profits_all_reviews.sum(), 2) , round( decision.profits.sum(), 2) )"
   ]
  },
  {
   "cell_type": "markdown",
   "metadata": {
    "slideshow": {
     "slide_type": "skip"
    }
   },
   "source": [
    "- **total profits for all reviewes scores :** 123_287_092\n",
    "- **total profits for bad reviewes        :**  893_134"
   ]
  },
  {
   "cell_type": "markdown",
   "metadata": {},
   "source": [
    "Recap :\n",
    "- Revenues : 2_787_744 BRL\n",
    "- Costs \"bad reviews\" : 1_894_610 BRL\n",
    "- The resulting profits for bad reviewes : 893_134 BRL\n",
    "- IT_costs : 500_000 BRL\n",
    "- The final resulting profits : 393_134 BRL\n",
    "- total profits for all reviewes scores : 123_287_092"
   ]
  }
 ],
 "metadata": {
  "celltoolbar": "Tags",
  "kernelspec": {
   "display_name": "Python 3 (ipykernel)",
   "language": "python",
   "name": "python3"
  },
  "language_info": {
   "codemirror_mode": {
    "name": "ipython",
    "version": 3
   },
   "file_extension": ".py",
   "mimetype": "text/x-python",
   "name": "python",
   "nbconvert_exporter": "python",
   "pygments_lexer": "ipython3",
   "version": "3.8.6"
  },
  "toc": {
   "base_numbering": 1,
   "nav_menu": {},
   "number_sections": true,
   "sideBar": true,
   "skip_h1_title": true,
   "title_cell": "Table of Contents",
   "title_sidebar": "Contents",
   "toc_cell": false,
   "toc_position": {
    "height": "calc(100% - 180px)",
    "left": "10px",
    "top": "150px",
    "width": "233px"
   },
   "toc_section_display": true,
   "toc_window_display": true
  },
  "varInspector": {
   "cols": {
    "lenName": 16,
    "lenType": 16,
    "lenVar": 40
   },
   "kernels_config": {
    "python": {
     "delete_cmd_postfix": "",
     "delete_cmd_prefix": "del ",
     "library": "var_list.py",
     "varRefreshCmd": "print(var_dic_list())"
    },
    "r": {
     "delete_cmd_postfix": ") ",
     "delete_cmd_prefix": "rm(",
     "library": "var_list.r",
     "varRefreshCmd": "cat(var_dic_list()) "
    }
   },
   "types_to_exclude": [
    "module",
    "function",
    "builtin_function_or_method",
    "instance",
    "_Feature"
   ],
   "window_display": false
  }
 },
 "nbformat": 4,
 "nbformat_minor": 4
}
