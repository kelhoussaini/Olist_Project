{
 "cells": [
  {
   "cell_type": "markdown",
   "metadata": {},
   "source": [
    "# Logit Orders - A warm-up challenge (~1h)"
   ]
  },
  {
   "cell_type": "markdown",
   "metadata": {},
   "source": [
    "Let's figure out the impact of `wait_time` and `delay_vs_expected` on very good and very bad reviews\n",
    "\n",
    "Using our `orders` training_set, we will run two multivariate logistic regressions (`logit_one` and `logit_five`) to predict `dim_is_one_star` and `dim_is_five_star` respectively.\n",
    "\n",
    " "
   ]
  },
  {
   "cell_type": "code",
   "execution_count": 1,
   "metadata": {},
   "outputs": [],
   "source": [
    "import pandas as pd\n",
    "import seaborn as sns\n",
    "import statsmodels.api as sm\n",
    "import statsmodels.formula.api as smf\n",
    "import matplotlib.pyplot as plt"
   ]
  },
  {
   "cell_type": "markdown",
   "metadata": {},
   "source": [
    "❓ Import your dataset"
   ]
  },
  {
   "cell_type": "code",
   "execution_count": 2,
   "metadata": {},
   "outputs": [
    {
     "data": {
      "text/plain": [
       "['sellers',\n",
       " 'product_category_name_translation',\n",
       " 'orders',\n",
       " 'order_items',\n",
       " 'customers',\n",
       " 'geolocation',\n",
       " 'order_payments',\n",
       " 'order_reviews',\n",
       " 'products']"
      ]
     },
     "execution_count": 2,
     "metadata": {},
     "output_type": "execute_result"
    }
   ],
   "source": [
    "# Import olist data\n",
    "from olist.data import Olist\n",
    "olist=Olist()\n",
    "data=olist.get_data()  ## is dict\n",
    "matching_table = olist.get_matching_table()\n",
    "list(data.keys())"
   ]
  },
  {
   "cell_type": "code",
   "execution_count": 3,
   "metadata": {},
   "outputs": [
    {
     "data": {
      "text/plain": [
       "(114100, 5)"
      ]
     },
     "execution_count": 3,
     "metadata": {},
     "output_type": "execute_result"
    }
   ],
   "source": [
    "matching_table.shape"
   ]
  },
  {
   "cell_type": "code",
   "execution_count": 12,
   "metadata": {},
   "outputs": [],
   "source": [
    "from statsmodels.stats.outliers_influence import variance_inflation_factor as vif"
   ]
  },
  {
   "cell_type": "code",
   "execution_count": 50,
   "metadata": {},
   "outputs": [],
   "source": [
    "# Import olist data\n",
    "from olist.seller import Seller\n",
    "seller=Seller()\n",
    "sellers=seller.get_seller_delay_wait_time() ## is dict\n",
    "scores=seller.get_review_score() ## is dict"
   ]
  },
  {
   "cell_type": "code",
   "execution_count": 10,
   "metadata": {},
   "outputs": [
    {
     "data": {
      "text/html": [
       "<div>\n",
       "<style scoped>\n",
       "    .dataframe tbody tr th:only-of-type {\n",
       "        vertical-align: middle;\n",
       "    }\n",
       "\n",
       "    .dataframe tbody tr th {\n",
       "        vertical-align: top;\n",
       "    }\n",
       "\n",
       "    .dataframe thead th {\n",
       "        text-align: right;\n",
       "    }\n",
       "</style>\n",
       "<table border=\"1\" class=\"dataframe\">\n",
       "  <thead>\n",
       "    <tr style=\"text-align: right;\">\n",
       "      <th></th>\n",
       "      <th>seller_id</th>\n",
       "      <th>delay_to_carrier</th>\n",
       "      <th>wait_time</th>\n",
       "    </tr>\n",
       "  </thead>\n",
       "  <tbody>\n",
       "    <tr>\n",
       "      <th>0</th>\n",
       "      <td>0015a82c2db000af6aaaf3ae2ecb0532</td>\n",
       "      <td>0.000000</td>\n",
       "      <td>10.793885</td>\n",
       "    </tr>\n",
       "    <tr>\n",
       "      <th>1</th>\n",
       "      <td>001cca7ae9ae17fb1caed9dfb1094831</td>\n",
       "      <td>0.063260</td>\n",
       "      <td>13.096632</td>\n",
       "    </tr>\n",
       "    <tr>\n",
       "      <th>2</th>\n",
       "      <td>002100f778ceb8431b7a1020ff7ab48f</td>\n",
       "      <td>0.342569</td>\n",
       "      <td>16.192371</td>\n",
       "    </tr>\n",
       "  </tbody>\n",
       "</table>\n",
       "</div>"
      ],
      "text/plain": [
       "                          seller_id  delay_to_carrier  wait_time\n",
       "0  0015a82c2db000af6aaaf3ae2ecb0532          0.000000  10.793885\n",
       "1  001cca7ae9ae17fb1caed9dfb1094831          0.063260  13.096632\n",
       "2  002100f778ceb8431b7a1020ff7ab48f          0.342569  16.192371"
      ]
     },
     "execution_count": 10,
     "metadata": {},
     "output_type": "execute_result"
    }
   ],
   "source": [
    "sellers.head(3)"
   ]
  },
  {
   "cell_type": "code",
   "execution_count": 12,
   "metadata": {},
   "outputs": [
    {
     "data": {
      "text/html": [
       "<div>\n",
       "<style scoped>\n",
       "    .dataframe tbody tr th:only-of-type {\n",
       "        vertical-align: middle;\n",
       "    }\n",
       "\n",
       "    .dataframe tbody tr th {\n",
       "        vertical-align: top;\n",
       "    }\n",
       "\n",
       "    .dataframe thead th {\n",
       "        text-align: right;\n",
       "    }\n",
       "</style>\n",
       "<table border=\"1\" class=\"dataframe\">\n",
       "  <thead>\n",
       "    <tr style=\"text-align: right;\">\n",
       "      <th></th>\n",
       "      <th>seller_id</th>\n",
       "      <th>share_of_one_stars</th>\n",
       "      <th>share_of_five_stars</th>\n",
       "      <th>review_score</th>\n",
       "    </tr>\n",
       "  </thead>\n",
       "  <tbody>\n",
       "    <tr>\n",
       "      <th>0</th>\n",
       "      <td>0015a82c2db000af6aaaf3ae2ecb0532</td>\n",
       "      <td>0.333333</td>\n",
       "      <td>0.666667</td>\n",
       "      <td>3.666667</td>\n",
       "    </tr>\n",
       "    <tr>\n",
       "      <th>1</th>\n",
       "      <td>001cca7ae9ae17fb1caed9dfb1094831</td>\n",
       "      <td>0.130000</td>\n",
       "      <td>0.520000</td>\n",
       "      <td>3.950000</td>\n",
       "    </tr>\n",
       "    <tr>\n",
       "      <th>2</th>\n",
       "      <td>001e6ad469a905060d959994f1b41e4f</td>\n",
       "      <td>1.000000</td>\n",
       "      <td>0.000000</td>\n",
       "      <td>1.000000</td>\n",
       "    </tr>\n",
       "  </tbody>\n",
       "</table>\n",
       "</div>"
      ],
      "text/plain": [
       "                          seller_id  share_of_one_stars  share_of_five_stars  \\\n",
       "0  0015a82c2db000af6aaaf3ae2ecb0532            0.333333             0.666667   \n",
       "1  001cca7ae9ae17fb1caed9dfb1094831            0.130000             0.520000   \n",
       "2  001e6ad469a905060d959994f1b41e4f            1.000000             0.000000   \n",
       "\n",
       "   review_score  \n",
       "0      3.666667  \n",
       "1      3.950000  \n",
       "2      1.000000  "
      ]
     },
     "execution_count": 12,
     "metadata": {},
     "output_type": "execute_result"
    }
   ],
   "source": [
    "scores.head(3)"
   ]
  },
  {
   "cell_type": "code",
   "execution_count": 3,
   "metadata": {},
   "outputs": [
    {
     "data": {
      "text/plain": [
       "(97007, 12)"
      ]
     },
     "execution_count": 3,
     "metadata": {},
     "output_type": "execute_result"
    }
   ],
   "source": [
    "# Import orders training_set \n",
    "from olist.order import Order\n",
    "order=Order()\n",
    "orders=order.get_training_data() ## is dict\n",
    "orders.shape"
   ]
  },
  {
   "cell_type": "code",
   "execution_count": 4,
   "metadata": {},
   "outputs": [
    {
     "data": {
      "text/html": [
       "<div>\n",
       "<style scoped>\n",
       "    .dataframe tbody tr th:only-of-type {\n",
       "        vertical-align: middle;\n",
       "    }\n",
       "\n",
       "    .dataframe tbody tr th {\n",
       "        vertical-align: top;\n",
       "    }\n",
       "\n",
       "    .dataframe thead th {\n",
       "        text-align: right;\n",
       "    }\n",
       "</style>\n",
       "<table border=\"1\" class=\"dataframe\">\n",
       "  <thead>\n",
       "    <tr style=\"text-align: right;\">\n",
       "      <th></th>\n",
       "      <th>order_id</th>\n",
       "      <th>wait_time</th>\n",
       "      <th>expected_wait_time</th>\n",
       "      <th>delay_vs_expected</th>\n",
       "      <th>order_status</th>\n",
       "      <th>dim_is_five_star</th>\n",
       "      <th>dim_is_one_star</th>\n",
       "      <th>review_score</th>\n",
       "      <th>number_of_products</th>\n",
       "      <th>number_of_sellers</th>\n",
       "      <th>price</th>\n",
       "      <th>freight_value</th>\n",
       "    </tr>\n",
       "  </thead>\n",
       "  <tbody>\n",
       "    <tr>\n",
       "      <th>0</th>\n",
       "      <td>e481f51cbdc54678b7cc49136f2d6af7</td>\n",
       "      <td>8.436574</td>\n",
       "      <td>15.544063</td>\n",
       "      <td>0.0</td>\n",
       "      <td>delivered</td>\n",
       "      <td>0</td>\n",
       "      <td>0</td>\n",
       "      <td>4</td>\n",
       "      <td>1</td>\n",
       "      <td>1</td>\n",
       "      <td>29.99</td>\n",
       "      <td>8.72</td>\n",
       "    </tr>\n",
       "    <tr>\n",
       "      <th>1</th>\n",
       "      <td>53cdb2fc8bc7dce0b6741e2150273451</td>\n",
       "      <td>13.782037</td>\n",
       "      <td>19.137766</td>\n",
       "      <td>0.0</td>\n",
       "      <td>delivered</td>\n",
       "      <td>0</td>\n",
       "      <td>0</td>\n",
       "      <td>4</td>\n",
       "      <td>1</td>\n",
       "      <td>1</td>\n",
       "      <td>118.70</td>\n",
       "      <td>22.76</td>\n",
       "    </tr>\n",
       "    <tr>\n",
       "      <th>2</th>\n",
       "      <td>47770eb9100c2d0c44946d9cf07ec65d</td>\n",
       "      <td>9.394213</td>\n",
       "      <td>26.639711</td>\n",
       "      <td>0.0</td>\n",
       "      <td>delivered</td>\n",
       "      <td>1</td>\n",
       "      <td>0</td>\n",
       "      <td>5</td>\n",
       "      <td>1</td>\n",
       "      <td>1</td>\n",
       "      <td>159.90</td>\n",
       "      <td>19.22</td>\n",
       "    </tr>\n",
       "  </tbody>\n",
       "</table>\n",
       "</div>"
      ],
      "text/plain": [
       "                           order_id  wait_time  expected_wait_time  \\\n",
       "0  e481f51cbdc54678b7cc49136f2d6af7   8.436574           15.544063   \n",
       "1  53cdb2fc8bc7dce0b6741e2150273451  13.782037           19.137766   \n",
       "2  47770eb9100c2d0c44946d9cf07ec65d   9.394213           26.639711   \n",
       "\n",
       "   delay_vs_expected order_status  dim_is_five_star  dim_is_one_star  \\\n",
       "0                0.0    delivered                 0                0   \n",
       "1                0.0    delivered                 0                0   \n",
       "2                0.0    delivered                 1                0   \n",
       "\n",
       "   review_score  number_of_products  number_of_sellers   price  freight_value  \n",
       "0             4                   1                  1   29.99           8.72  \n",
       "1             4                   1                  1  118.70          22.76  \n",
       "2             5                   1                  1  159.90          19.22  "
      ]
     },
     "execution_count": 4,
     "metadata": {},
     "output_type": "execute_result"
    }
   ],
   "source": [
    "orders.head(3)"
   ]
  },
  {
   "cell_type": "markdown",
   "metadata": {},
   "source": [
    "❓ Select which features you want to use (avoid data-leaks)"
   ]
  },
  {
   "cell_type": "markdown",
   "metadata": {},
   "source": [
    "### features 1 "
   ]
  },
  {
   "cell_type": "code",
   "execution_count": 20,
   "metadata": {},
   "outputs": [],
   "source": [
    "features = ['wait_time',\n",
    " 'delay_vs_expected',\n",
    " 'price',\n",
    " 'freight_value']"
   ]
  },
  {
   "cell_type": "code",
   "execution_count": 21,
   "metadata": {},
   "outputs": [
    {
     "data": {
      "text/html": [
       "<div>\n",
       "<style scoped>\n",
       "    .dataframe tbody tr th:only-of-type {\n",
       "        vertical-align: middle;\n",
       "    }\n",
       "\n",
       "    .dataframe tbody tr th {\n",
       "        vertical-align: top;\n",
       "    }\n",
       "\n",
       "    .dataframe thead th {\n",
       "        text-align: right;\n",
       "    }\n",
       "</style>\n",
       "<table border=\"1\" class=\"dataframe\">\n",
       "  <thead>\n",
       "    <tr style=\"text-align: right;\">\n",
       "      <th></th>\n",
       "      <th>wait_time</th>\n",
       "      <th>delay_vs_expected</th>\n",
       "      <th>price</th>\n",
       "      <th>freight_value</th>\n",
       "    </tr>\n",
       "  </thead>\n",
       "  <tbody>\n",
       "    <tr>\n",
       "      <th>0</th>\n",
       "      <td>8.436574</td>\n",
       "      <td>0.0</td>\n",
       "      <td>29.99</td>\n",
       "      <td>8.72</td>\n",
       "    </tr>\n",
       "    <tr>\n",
       "      <th>1</th>\n",
       "      <td>13.782037</td>\n",
       "      <td>0.0</td>\n",
       "      <td>118.70</td>\n",
       "      <td>22.76</td>\n",
       "    </tr>\n",
       "    <tr>\n",
       "      <th>2</th>\n",
       "      <td>9.394213</td>\n",
       "      <td>0.0</td>\n",
       "      <td>159.90</td>\n",
       "      <td>19.22</td>\n",
       "    </tr>\n",
       "  </tbody>\n",
       "</table>\n",
       "</div>"
      ],
      "text/plain": [
       "   wait_time  delay_vs_expected   price  freight_value\n",
       "0   8.436574                0.0   29.99           8.72\n",
       "1  13.782037                0.0  118.70          22.76\n",
       "2   9.394213                0.0  159.90          19.22"
      ]
     },
     "execution_count": 21,
     "metadata": {},
     "output_type": "execute_result"
    }
   ],
   "source": [
    "orders[features].head(3)"
   ]
  },
  {
   "cell_type": "markdown",
   "metadata": {},
   "source": [
    "❓ Check the multi-colinearity of your features, using the `VIF index`. It shouldn't be too high (< 10 preferably) to ensure we can trust the partial regression coefficents and their associated `p-values` "
   ]
  },
  {
   "cell_type": "code",
   "execution_count": 22,
   "metadata": {},
   "outputs": [
    {
     "data": {
      "text/html": [
       "<div>\n",
       "<style scoped>\n",
       "    .dataframe tbody tr th:only-of-type {\n",
       "        vertical-align: middle;\n",
       "    }\n",
       "\n",
       "    .dataframe tbody tr th {\n",
       "        vertical-align: top;\n",
       "    }\n",
       "\n",
       "    .dataframe thead th {\n",
       "        text-align: right;\n",
       "    }\n",
       "</style>\n",
       "<table border=\"1\" class=\"dataframe\">\n",
       "  <thead>\n",
       "    <tr style=\"text-align: right;\">\n",
       "      <th></th>\n",
       "      <th>vif_index</th>\n",
       "      <th>features</th>\n",
       "    </tr>\n",
       "  </thead>\n",
       "  <tbody>\n",
       "    <tr>\n",
       "      <th>0</th>\n",
       "      <td>2.797923</td>\n",
       "      <td>wait_time</td>\n",
       "    </tr>\n",
       "    <tr>\n",
       "      <th>1</th>\n",
       "      <td>1.639415</td>\n",
       "      <td>delay_vs_expected</td>\n",
       "    </tr>\n",
       "    <tr>\n",
       "      <th>2</th>\n",
       "      <td>1.692361</td>\n",
       "      <td>price</td>\n",
       "    </tr>\n",
       "    <tr>\n",
       "      <th>3</th>\n",
       "      <td>2.496467</td>\n",
       "      <td>freight_value</td>\n",
       "    </tr>\n",
       "  </tbody>\n",
       "</table>\n",
       "</div>"
      ],
      "text/plain": [
       "   vif_index           features\n",
       "0   2.797923          wait_time\n",
       "1   1.639415  delay_vs_expected\n",
       "2   1.692361              price\n",
       "3   2.496467      freight_value"
      ]
     },
     "execution_count": 22,
     "metadata": {},
     "output_type": "execute_result"
    }
   ],
   "source": [
    "df = pd.DataFrame()\n",
    "df[\"vif_index\"] = [vif(orders[features].values, i) for i in range(orders[features].shape[1])]\n",
    "df[\"features\"] = orders[features].columns\n",
    "df"
   ]
  },
  {
   "cell_type": "markdown",
   "metadata": {},
   "source": [
    "### features 2"
   ]
  },
  {
   "cell_type": "code",
   "execution_count": 23,
   "metadata": {},
   "outputs": [],
   "source": [
    "features = ['wait_time',\n",
    " 'delay_vs_expected',\n",
    " 'number_of_sellers', 'number_of_products',\n",
    " 'price',\n",
    " 'freight_value']"
   ]
  },
  {
   "cell_type": "code",
   "execution_count": 24,
   "metadata": {},
   "outputs": [
    {
     "data": {
      "text/html": [
       "<div>\n",
       "<style scoped>\n",
       "    .dataframe tbody tr th:only-of-type {\n",
       "        vertical-align: middle;\n",
       "    }\n",
       "\n",
       "    .dataframe tbody tr th {\n",
       "        vertical-align: top;\n",
       "    }\n",
       "\n",
       "    .dataframe thead th {\n",
       "        text-align: right;\n",
       "    }\n",
       "</style>\n",
       "<table border=\"1\" class=\"dataframe\">\n",
       "  <thead>\n",
       "    <tr style=\"text-align: right;\">\n",
       "      <th></th>\n",
       "      <th>wait_time</th>\n",
       "      <th>delay_vs_expected</th>\n",
       "      <th>number_of_sellers</th>\n",
       "      <th>number_of_products</th>\n",
       "      <th>price</th>\n",
       "      <th>freight_value</th>\n",
       "    </tr>\n",
       "  </thead>\n",
       "  <tbody>\n",
       "    <tr>\n",
       "      <th>0</th>\n",
       "      <td>8.436574</td>\n",
       "      <td>0.0</td>\n",
       "      <td>1</td>\n",
       "      <td>1</td>\n",
       "      <td>29.99</td>\n",
       "      <td>8.72</td>\n",
       "    </tr>\n",
       "    <tr>\n",
       "      <th>1</th>\n",
       "      <td>13.782037</td>\n",
       "      <td>0.0</td>\n",
       "      <td>1</td>\n",
       "      <td>1</td>\n",
       "      <td>118.70</td>\n",
       "      <td>22.76</td>\n",
       "    </tr>\n",
       "    <tr>\n",
       "      <th>2</th>\n",
       "      <td>9.394213</td>\n",
       "      <td>0.0</td>\n",
       "      <td>1</td>\n",
       "      <td>1</td>\n",
       "      <td>159.90</td>\n",
       "      <td>19.22</td>\n",
       "    </tr>\n",
       "  </tbody>\n",
       "</table>\n",
       "</div>"
      ],
      "text/plain": [
       "   wait_time  delay_vs_expected  number_of_sellers  number_of_products  \\\n",
       "0   8.436574                0.0                  1                   1   \n",
       "1  13.782037                0.0                  1                   1   \n",
       "2   9.394213                0.0                  1                   1   \n",
       "\n",
       "    price  freight_value  \n",
       "0   29.99           8.72  \n",
       "1  118.70          22.76  \n",
       "2  159.90          19.22  "
      ]
     },
     "execution_count": 24,
     "metadata": {},
     "output_type": "execute_result"
    }
   ],
   "source": [
    "orders[features].head(3)"
   ]
  },
  {
   "cell_type": "markdown",
   "metadata": {},
   "source": [
    "❓ Check the multi-colinearity of your features, using the `VIF index`. It shouldn't be too high (< 10 preferably) to ensure we can trust the partial regression coefficents and their associated `p-values` "
   ]
  },
  {
   "cell_type": "code",
   "execution_count": 25,
   "metadata": {},
   "outputs": [
    {
     "data": {
      "text/html": [
       "<div>\n",
       "<style scoped>\n",
       "    .dataframe tbody tr th:only-of-type {\n",
       "        vertical-align: middle;\n",
       "    }\n",
       "\n",
       "    .dataframe tbody tr th {\n",
       "        vertical-align: top;\n",
       "    }\n",
       "\n",
       "    .dataframe thead th {\n",
       "        text-align: right;\n",
       "    }\n",
       "</style>\n",
       "<table border=\"1\" class=\"dataframe\">\n",
       "  <thead>\n",
       "    <tr style=\"text-align: right;\">\n",
       "      <th></th>\n",
       "      <th>vif_index</th>\n",
       "      <th>features</th>\n",
       "    </tr>\n",
       "  </thead>\n",
       "  <tbody>\n",
       "    <tr>\n",
       "      <th>0</th>\n",
       "      <td>5.482640</td>\n",
       "      <td>wait_time</td>\n",
       "    </tr>\n",
       "    <tr>\n",
       "      <th>1</th>\n",
       "      <td>2.057560</td>\n",
       "      <td>delay_vs_expected</td>\n",
       "    </tr>\n",
       "    <tr>\n",
       "      <th>2</th>\n",
       "      <td>8.910229</td>\n",
       "      <td>number_of_sellers</td>\n",
       "    </tr>\n",
       "    <tr>\n",
       "      <th>3</th>\n",
       "      <td>7.363534</td>\n",
       "      <td>number_of_products</td>\n",
       "    </tr>\n",
       "    <tr>\n",
       "      <th>4</th>\n",
       "      <td>1.721790</td>\n",
       "      <td>price</td>\n",
       "    </tr>\n",
       "    <tr>\n",
       "      <th>5</th>\n",
       "      <td>3.265091</td>\n",
       "      <td>freight_value</td>\n",
       "    </tr>\n",
       "  </tbody>\n",
       "</table>\n",
       "</div>"
      ],
      "text/plain": [
       "   vif_index            features\n",
       "0   5.482640           wait_time\n",
       "1   2.057560   delay_vs_expected\n",
       "2   8.910229   number_of_sellers\n",
       "3   7.363534  number_of_products\n",
       "4   1.721790               price\n",
       "5   3.265091       freight_value"
      ]
     },
     "execution_count": 25,
     "metadata": {},
     "output_type": "execute_result"
    }
   ],
   "source": [
    "df = pd.DataFrame()\n",
    "df[\"vif_index\"] = [vif(orders[features].values, i) for i in range(orders[features].shape[1])]\n",
    "df[\"features\"] = orders[features].columns\n",
    "df"
   ]
  },
  {
   "cell_type": "markdown",
   "metadata": {},
   "source": [
    " 'wait_time' and 'freight_value' have very high values of VIF,\n",
    " indicating that these two variables are highly correlated. \n",
    " ---->  Hence, considering these two features together leads to a model with high multicollinearity."
   ]
  },
  {
   "cell_type": "markdown",
   "metadata": {},
   "source": [
    "❓ Fit two LOGIT models (`logit_one` and `logit_five`) to predict `dim_is_one_star` and `dim_is_five_star`"
   ]
  },
  {
   "cell_type": "code",
   "execution_count": 26,
   "metadata": {},
   "outputs": [
    {
     "data": {
      "text/plain": [
       "'dim_is_one_star ~ wait_time + delay_vs_expected + number_of_sellers + number_of_products + price + freight_value'"
      ]
     },
     "execution_count": 26,
     "metadata": {},
     "output_type": "execute_result"
    }
   ],
   "source": [
    "formula_one = \"dim_is_one_star ~ \" + ' + '.join(features)\n",
    "formula_one"
   ]
  },
  {
   "cell_type": "code",
   "execution_count": 27,
   "metadata": {},
   "outputs": [
    {
     "data": {
      "text/plain": [
       "'dim_is_five_star ~ wait_time + delay_vs_expected + number_of_sellers + number_of_products + price + freight_value'"
      ]
     },
     "execution_count": 27,
     "metadata": {},
     "output_type": "execute_result"
    }
   ],
   "source": [
    "formula_five = \"dim_is_five_star ~ \" + ' + '.join(features)\n",
    "formula_five"
   ]
  },
  {
   "cell_type": "code",
   "execution_count": 28,
   "metadata": {},
   "outputs": [
    {
     "name": "stdout",
     "output_type": "stream",
     "text": [
      "Optimization terminated successfully.\n",
      "         Current function value: 0.280352\n",
      "         Iterations 7\n"
     ]
    },
    {
     "data": {
      "text/plain": [
       "Intercept            -5.264097\n",
       "wait_time             0.064804\n",
       "delay_vs_expected     0.066703\n",
       "number_of_sellers     1.411319\n",
       "number_of_products    0.507396\n",
       "price                 0.000300\n",
       "freight_value        -0.003333\n",
       "dtype: float64"
      ]
     },
     "execution_count": 28,
     "metadata": {},
     "output_type": "execute_result"
    }
   ],
   "source": [
    "logit_one = smf.logit(formula= formula_one, data=orders).fit()\n",
    "logit_one.params"
   ]
  },
  {
   "cell_type": "code",
   "execution_count": 30,
   "metadata": {
    "scrolled": false
   },
   "outputs": [
    {
     "name": "stdout",
     "output_type": "stream",
     "text": [
      "Optimization terminated successfully.\n",
      "         Current function value: 0.638115\n",
      "         Iterations 7\n"
     ]
    },
    {
     "data": {
      "text/plain": [
       "Intercept             2.459868\n",
       "wait_time            -0.049446\n",
       "delay_vs_expected    -0.101731\n",
       "number_of_sellers    -1.141325\n",
       "number_of_products   -0.283877\n",
       "price                 0.000065\n",
       "freight_value         0.001584\n",
       "dtype: float64"
      ]
     },
     "execution_count": 30,
     "metadata": {},
     "output_type": "execute_result"
    }
   ],
   "source": [
    "logit_five = smf.logit(formula= formula_five, data=orders).fit()\n",
    "logit_five.params"
   ]
  },
  {
   "cell_type": "code",
   "execution_count": 31,
   "metadata": {
    "scrolled": false
   },
   "outputs": [
    {
     "data": {
      "text/html": [
       "<table class=\"simpletable\">\n",
       "<caption>Logit Regression Results</caption>\n",
       "<tr>\n",
       "  <th>Dep. Variable:</th>    <td>dim_is_one_star</td> <th>  No. Observations:  </th>  <td> 97007</td> \n",
       "</tr>\n",
       "<tr>\n",
       "  <th>Model:</th>                 <td>Logit</td>      <th>  Df Residuals:      </th>  <td> 97000</td> \n",
       "</tr>\n",
       "<tr>\n",
       "  <th>Method:</th>                 <td>MLE</td>       <th>  Df Model:          </th>  <td>     6</td> \n",
       "</tr>\n",
       "<tr>\n",
       "  <th>Date:</th>            <td>Thu, 22 Jul 2021</td> <th>  Pseudo R-squ.:     </th>  <td>0.1407</td> \n",
       "</tr>\n",
       "<tr>\n",
       "  <th>Time:</th>                <td>11:35:35</td>     <th>  Log-Likelihood:    </th> <td> -27196.</td>\n",
       "</tr>\n",
       "<tr>\n",
       "  <th>converged:</th>             <td>True</td>       <th>  LL-Null:           </th> <td> -31650.</td>\n",
       "</tr>\n",
       "<tr>\n",
       "  <th>Covariance Type:</th>     <td>nonrobust</td>    <th>  LLR p-value:       </th>  <td> 0.000</td> \n",
       "</tr>\n",
       "</table>\n",
       "<table class=\"simpletable\">\n",
       "<tr>\n",
       "           <td></td>             <th>coef</th>     <th>std err</th>      <th>z</th>      <th>P>|z|</th>  <th>[0.025</th>    <th>0.975]</th>  \n",
       "</tr>\n",
       "<tr>\n",
       "  <th>Intercept</th>          <td>   -5.2641</td> <td>    0.069</td> <td>  -75.777</td> <td> 0.000</td> <td>   -5.400</td> <td>   -5.128</td>\n",
       "</tr>\n",
       "<tr>\n",
       "  <th>wait_time</th>          <td>    0.0648</td> <td>    0.002</td> <td>   40.920</td> <td> 0.000</td> <td>    0.062</td> <td>    0.068</td>\n",
       "</tr>\n",
       "<tr>\n",
       "  <th>delay_vs_expected</th>  <td>    0.0667</td> <td>    0.004</td> <td>   17.660</td> <td> 0.000</td> <td>    0.059</td> <td>    0.074</td>\n",
       "</tr>\n",
       "<tr>\n",
       "  <th>number_of_sellers</th>  <td>    1.4113</td> <td>    0.063</td> <td>   22.524</td> <td> 0.000</td> <td>    1.289</td> <td>    1.534</td>\n",
       "</tr>\n",
       "<tr>\n",
       "  <th>number_of_products</th> <td>    0.5074</td> <td>    0.020</td> <td>   25.910</td> <td> 0.000</td> <td>    0.469</td> <td>    0.546</td>\n",
       "</tr>\n",
       "<tr>\n",
       "  <th>price</th>              <td>    0.0003</td> <td> 5.29e-05</td> <td>    5.684</td> <td> 0.000</td> <td>    0.000</td> <td>    0.000</td>\n",
       "</tr>\n",
       "<tr>\n",
       "  <th>freight_value</th>      <td>   -0.0033</td> <td>    0.001</td> <td>   -5.308</td> <td> 0.000</td> <td>   -0.005</td> <td>   -0.002</td>\n",
       "</tr>\n",
       "</table>"
      ],
      "text/plain": [
       "<class 'statsmodels.iolib.summary.Summary'>\n",
       "\"\"\"\n",
       "                           Logit Regression Results                           \n",
       "==============================================================================\n",
       "Dep. Variable:        dim_is_one_star   No. Observations:                97007\n",
       "Model:                          Logit   Df Residuals:                    97000\n",
       "Method:                           MLE   Df Model:                            6\n",
       "Date:                Thu, 22 Jul 2021   Pseudo R-squ.:                  0.1407\n",
       "Time:                        11:35:35   Log-Likelihood:                -27196.\n",
       "converged:                       True   LL-Null:                       -31650.\n",
       "Covariance Type:            nonrobust   LLR p-value:                     0.000\n",
       "======================================================================================\n",
       "                         coef    std err          z      P>|z|      [0.025      0.975]\n",
       "--------------------------------------------------------------------------------------\n",
       "Intercept             -5.2641      0.069    -75.777      0.000      -5.400      -5.128\n",
       "wait_time              0.0648      0.002     40.920      0.000       0.062       0.068\n",
       "delay_vs_expected      0.0667      0.004     17.660      0.000       0.059       0.074\n",
       "number_of_sellers      1.4113      0.063     22.524      0.000       1.289       1.534\n",
       "number_of_products     0.5074      0.020     25.910      0.000       0.469       0.546\n",
       "price                  0.0003   5.29e-05      5.684      0.000       0.000       0.000\n",
       "freight_value         -0.0033      0.001     -5.308      0.000      -0.005      -0.002\n",
       "======================================================================================\n",
       "\"\"\""
      ]
     },
     "execution_count": 31,
     "metadata": {},
     "output_type": "execute_result"
    }
   ],
   "source": [
    "logit_one.summary()"
   ]
  },
  {
   "cell_type": "code",
   "execution_count": 32,
   "metadata": {},
   "outputs": [
    {
     "data": {
      "text/html": [
       "<table class=\"simpletable\">\n",
       "<caption>Logit Regression Results</caption>\n",
       "<tr>\n",
       "  <th>Dep. Variable:</th>   <td>dim_is_five_star</td> <th>  No. Observations:  </th>  <td> 97007</td> \n",
       "</tr>\n",
       "<tr>\n",
       "  <th>Model:</th>                 <td>Logit</td>      <th>  Df Residuals:      </th>  <td> 97000</td> \n",
       "</tr>\n",
       "<tr>\n",
       "  <th>Method:</th>                 <td>MLE</td>       <th>  Df Model:          </th>  <td>     6</td> \n",
       "</tr>\n",
       "<tr>\n",
       "  <th>Date:</th>            <td>Thu, 22 Jul 2021</td> <th>  Pseudo R-squ.:     </th>  <td>0.05771</td>\n",
       "</tr>\n",
       "<tr>\n",
       "  <th>Time:</th>                <td>11:35:46</td>     <th>  Log-Likelihood:    </th> <td> -61902.</td>\n",
       "</tr>\n",
       "<tr>\n",
       "  <th>converged:</th>             <td>True</td>       <th>  LL-Null:           </th> <td> -65693.</td>\n",
       "</tr>\n",
       "<tr>\n",
       "  <th>Covariance Type:</th>     <td>nonrobust</td>    <th>  LLR p-value:       </th>  <td> 0.000</td> \n",
       "</tr>\n",
       "</table>\n",
       "<table class=\"simpletable\">\n",
       "<tr>\n",
       "           <td></td>             <th>coef</th>     <th>std err</th>      <th>z</th>      <th>P>|z|</th>  <th>[0.025</th>    <th>0.975]</th>  \n",
       "</tr>\n",
       "<tr>\n",
       "  <th>Intercept</th>          <td>    2.4599</td> <td>    0.064</td> <td>   38.448</td> <td> 0.000</td> <td>    2.334</td> <td>    2.585</td>\n",
       "</tr>\n",
       "<tr>\n",
       "  <th>wait_time</th>          <td>   -0.0494</td> <td>    0.001</td> <td>  -45.267</td> <td> 0.000</td> <td>   -0.052</td> <td>   -0.047</td>\n",
       "</tr>\n",
       "<tr>\n",
       "  <th>delay_vs_expected</th>  <td>   -0.1017</td> <td>    0.005</td> <td>  -20.746</td> <td> 0.000</td> <td>   -0.111</td> <td>   -0.092</td>\n",
       "</tr>\n",
       "<tr>\n",
       "  <th>number_of_sellers</th>  <td>   -1.1413</td> <td>    0.063</td> <td>  -18.123</td> <td> 0.000</td> <td>   -1.265</td> <td>   -1.018</td>\n",
       "</tr>\n",
       "<tr>\n",
       "  <th>number_of_products</th> <td>   -0.2839</td> <td>    0.015</td> <td>  -18.383</td> <td> 0.000</td> <td>   -0.314</td> <td>   -0.254</td>\n",
       "</tr>\n",
       "<tr>\n",
       "  <th>price</th>              <td>  6.46e-05</td> <td> 3.63e-05</td> <td>    1.778</td> <td> 0.075</td> <td>-6.61e-06</td> <td>    0.000</td>\n",
       "</tr>\n",
       "<tr>\n",
       "  <th>freight_value</th>      <td>    0.0016</td> <td>    0.000</td> <td>    3.878</td> <td> 0.000</td> <td>    0.001</td> <td>    0.002</td>\n",
       "</tr>\n",
       "</table>"
      ],
      "text/plain": [
       "<class 'statsmodels.iolib.summary.Summary'>\n",
       "\"\"\"\n",
       "                           Logit Regression Results                           \n",
       "==============================================================================\n",
       "Dep. Variable:       dim_is_five_star   No. Observations:                97007\n",
       "Model:                          Logit   Df Residuals:                    97000\n",
       "Method:                           MLE   Df Model:                            6\n",
       "Date:                Thu, 22 Jul 2021   Pseudo R-squ.:                 0.05771\n",
       "Time:                        11:35:46   Log-Likelihood:                -61902.\n",
       "converged:                       True   LL-Null:                       -65693.\n",
       "Covariance Type:            nonrobust   LLR p-value:                     0.000\n",
       "======================================================================================\n",
       "                         coef    std err          z      P>|z|      [0.025      0.975]\n",
       "--------------------------------------------------------------------------------------\n",
       "Intercept              2.4599      0.064     38.448      0.000       2.334       2.585\n",
       "wait_time             -0.0494      0.001    -45.267      0.000      -0.052      -0.047\n",
       "delay_vs_expected     -0.1017      0.005    -20.746      0.000      -0.111      -0.092\n",
       "number_of_sellers     -1.1413      0.063    -18.123      0.000      -1.265      -1.018\n",
       "number_of_products    -0.2839      0.015    -18.383      0.000      -0.314      -0.254\n",
       "price                6.46e-05   3.63e-05      1.778      0.075   -6.61e-06       0.000\n",
       "freight_value          0.0016      0.000      3.878      0.000       0.001       0.002\n",
       "======================================================================================\n",
       "\"\"\""
      ]
     },
     "execution_count": 32,
     "metadata": {},
     "output_type": "execute_result"
    }
   ],
   "source": [
    "logit_five.summary()"
   ]
  },
  {
   "cell_type": "code",
   "execution_count": 37,
   "metadata": {},
   "outputs": [],
   "source": [
    "import math"
   ]
  },
  {
   "cell_type": "code",
   "execution_count": 40,
   "metadata": {},
   "outputs": [
    {
     "name": "stdout",
     "output_type": "stream",
     "text": [
      "1.0000646020866248 0.5000161499999943\n"
     ]
    }
   ],
   "source": [
    "coef = 6.46e-05\n",
    "n = math.exp(coef); print(n, n / (1 + n))"
   ]
  },
  {
   "cell_type": "markdown",
   "metadata": {},
   "source": [
    "❓Interpret your results:\n",
    "\n",
    "- Interpret the partial coefficients in your own words.\n",
    "- Check their statistical significance with `p-values`\n",
    "- Do you notice any differences between `logit_one` and `logit_five` in terms of coefficient importance?"
   ]
  },
  {
   "cell_type": "markdown",
   "metadata": {},
   "source": [
    "- wait_time: odds   $𝑒^-0.0494= 0.95 $\n",
    "- Probability P = .95 / (1 + .95) = 48.76 %\n",
    "\n",
    "- price: odds   $𝑒^6.46e-05= 1. $\n",
    "- Probability P = 1. / (1 + 1.) = 50 %\n"
   ]
  },
  {
   "cell_type": "markdown",
   "metadata": {},
   "source": [
    "#### Intervalle de confiance"
   ]
  },
  {
   "cell_type": "code",
   "execution_count": 41,
   "metadata": {},
   "outputs": [
    {
     "name": "stdout",
     "output_type": "stream",
     "text": [
      "                           0         1\n",
      "Intercept          -5.378362 -5.149831\n",
      "wait_time           0.062199  0.067408\n",
      "delay_vs_expected   0.060491  0.072916\n",
      "number_of_sellers   1.308257  1.514382\n",
      "number_of_products  0.475185  0.539606\n",
      "price               0.000214  0.000387\n",
      "freight_value      -0.004366 -0.002300\n"
     ]
    }
   ],
   "source": [
    "#intervalle de confiance des coefficients à 90%\n",
    "print(logit_one.conf_int(alpha=0.1))"
   ]
  },
  {
   "cell_type": "code",
   "execution_count": 42,
   "metadata": {},
   "outputs": [
    {
     "name": "stdout",
     "output_type": "stream",
     "text": [
      "                           0         1\n",
      "Intercept           2.354633  2.565103\n",
      "wait_time          -0.051243 -0.047650\n",
      "delay_vs_expected  -0.109796 -0.093665\n",
      "number_of_sellers  -1.244910 -1.037740\n",
      "number_of_products -0.309278 -0.258477\n",
      "price               0.000005  0.000124\n",
      "freight_value       0.000912  0.002255\n"
     ]
    }
   ],
   "source": [
    "#intervalle de confiance des coefficients à 90%\n",
    "print(logit_five.conf_int(alpha=0.1))"
   ]
  },
  {
   "cell_type": "markdown",
   "metadata": {},
   "source": [
    "#### p-value"
   ]
  },
  {
   "cell_type": "code",
   "execution_count": 43,
   "metadata": {},
   "outputs": [
    {
     "name": "stdout",
     "output_type": "stream",
     "text": [
      "0.0 0.0\n"
     ]
    }
   ],
   "source": [
    "print(logit_one.llr_pvalue, logit_five.llr_pvalue)"
   ]
  },
  {
   "cell_type": "markdown",
   "metadata": {},
   "source": [
    "#### coeff "
   ]
  },
  {
   "cell_type": "code",
   "execution_count": 44,
   "metadata": {},
   "outputs": [
    {
     "data": {
      "text/plain": [
       "Intercept            -5.264097\n",
       "wait_time             0.064804\n",
       "delay_vs_expected     0.066703\n",
       "number_of_sellers     1.411319\n",
       "number_of_products    0.507396\n",
       "price                 0.000300\n",
       "freight_value        -0.003333\n",
       "dtype: float64"
      ]
     },
     "execution_count": 44,
     "metadata": {},
     "output_type": "execute_result"
    }
   ],
   "source": [
    "logit_one.params"
   ]
  },
  {
   "cell_type": "code",
   "execution_count": 45,
   "metadata": {},
   "outputs": [
    {
     "data": {
      "text/plain": [
       "Intercept             2.459868\n",
       "wait_time            -0.049446\n",
       "delay_vs_expected    -0.101731\n",
       "number_of_sellers    -1.141325\n",
       "number_of_products   -0.283877\n",
       "price                 0.000065\n",
       "freight_value         0.001584\n",
       "dtype: float64"
      ]
     },
     "execution_count": 45,
     "metadata": {},
     "output_type": "execute_result"
    }
   ],
   "source": [
    "logit_five.params"
   ]
  },
  {
   "cell_type": "code",
   "execution_count": 46,
   "metadata": {},
   "outputs": [],
   "source": [
    "# Among the following sentences, store the ones that are true in the list below\n",
    "\n",
    "a = \"delay_vs_expected influences five_star ratings even more than one_star ratings\"\n",
    "b = \"wait_time influences five_star ratings even more more than one_star\"\n",
    "\n",
    "your_answer = [a]"
   ]
  },
  {
   "cell_type": "markdown",
   "metadata": {},
   "source": [
    "🧪 __Test your code__"
   ]
  },
  {
   "cell_type": "code",
   "execution_count": 47,
   "metadata": {},
   "outputs": [
    {
     "name": "stdout",
     "output_type": "stream",
     "text": [
      "\u001b[1m============================= test session starts ==============================\u001b[0m\n",
      "platform darwin -- Python 3.8.6, pytest-6.2.4, py-1.10.0, pluggy-0.13.1 -- /Users/kenzaelhoussaini/.pyenv/versions/3.8.6/bin/python3\n",
      "cachedir: .pytest_cache\n",
      "rootdir: /Users/kenzaelhoussaini/code/kelhoussaini/data-challenges/04-Decision-Science/04-Logistic-Regression/01-Logit\n",
      "plugins: dash-1.20.0, anyio-3.2.1\n",
      "\u001b[1mcollecting ... \u001b[0mcollected 1 item\n",
      "\n",
      "tests/test_logit.py::TestLogit::test_question \u001b[32mPASSED\u001b[0m\u001b[32m                     [100%]\u001b[0m\n",
      "\n",
      "\u001b[32m============================== \u001b[32m\u001b[1m1 passed\u001b[0m\u001b[32m in 0.05s\u001b[0m\u001b[32m ===============================\u001b[0m\n",
      "\n",
      "\n",
      "💯 You can commit your code:\n",
      "\n",
      "\u001b[1;32mgit\u001b[39m add tests/logit.pickle\n",
      "\n",
      "\u001b[32mgit\u001b[39m commit -m \u001b[33m'Completed logit step'\u001b[39m\n",
      "\n",
      "\u001b[32mgit\u001b[39m push origin master\n"
     ]
    }
   ],
   "source": [
    "from nbresult import ChallengeResult\n",
    "\n",
    "result = ChallengeResult('logit',\n",
    "    answers = your_answer\n",
    ")\n",
    "result.write()\n",
    "print(result.check())"
   ]
  },
  {
   "cell_type": "markdown",
   "metadata": {},
   "source": [
    "<details>\n",
    "    <summary>Explanations</summary>\n",
    "\n",
    "\n",
    "> _All other thing being equal, the delay factor tends to increase the chances of getting stripped of the 5-star even more so than it affect the chances of 1-star reviews. Probably because 1-stars are really targeting bad products themselves, not bad deliveries_\n",
    "    \n",
    "</details>\n"
   ]
  },
  {
   "cell_type": "markdown",
   "metadata": {},
   "source": [
    "❓ How do these regression coefficients compare with an OLS on `review_score` using the same features? Double check that both OLS and Logit analyses tell approximately \"the same story\"."
   ]
  },
  {
   "cell_type": "code",
   "execution_count": 48,
   "metadata": {
    "scrolled": true
   },
   "outputs": [
    {
     "data": {
      "text/plain": [
       "'review_score ~ wait_time + delay_vs_expected + number_of_sellers + number_of_products + price + freight_value'"
      ]
     },
     "execution_count": 48,
     "metadata": {},
     "output_type": "execute_result"
    }
   ],
   "source": [
    "formula = \"review_score ~ \" + ' + '.join(features)\n",
    "formula"
   ]
  },
  {
   "cell_type": "code",
   "execution_count": 49,
   "metadata": {},
   "outputs": [
    {
     "name": "stdout",
     "output_type": "stream",
     "text": [
      "                            OLS Regression Results                            \n",
      "==============================================================================\n",
      "Dep. Variable:           review_score   R-squared:                       0.141\n",
      "Model:                            OLS   Adj. R-squared:                  0.141\n",
      "Method:                 Least Squares   F-statistic:                     2661.\n",
      "Date:                Thu, 22 Jul 2021   Prob (F-statistic):               0.00\n",
      "Time:                        11:58:26   Log-Likelihood:            -1.5545e+05\n",
      "No. Observations:               97007   AIC:                         3.109e+05\n",
      "Df Residuals:                   97000   BIC:                         3.110e+05\n",
      "Df Model:                           6                                         \n",
      "Covariance Type:            nonrobust                                         \n",
      "======================================================================================\n",
      "                         coef    std err          t      P>|t|      [0.025      0.975]\n",
      "--------------------------------------------------------------------------------------\n",
      "Intercept              6.0171      0.033    182.863      0.000       5.953       6.082\n",
      "wait_time             -0.0409      0.001    -69.175      0.000      -0.042      -0.040\n",
      "delay_vs_expected     -0.0172      0.001    -14.772      0.000      -0.019      -0.015\n",
      "number_of_sellers     -1.0542      0.033    -32.377      0.000      -1.118      -0.990\n",
      "number_of_products    -0.2713      0.008    -32.751      0.000      -0.288      -0.255\n",
      "price              -4.749e-05   2.03e-05     -2.339      0.019   -8.73e-05    -7.7e-06\n",
      "freight_value          0.0016      0.000      7.301      0.000       0.001       0.002\n",
      "==============================================================================\n",
      "Omnibus:                    18510.939   Durbin-Watson:                   2.009\n",
      "Prob(Omnibus):                  0.000   Jarque-Bera (JB):            36369.606\n",
      "Skew:                          -1.162   Prob(JB):                         0.00\n",
      "Kurtosis:                       4.897   Cond. No.                     2.96e+03\n",
      "==============================================================================\n",
      "\n",
      "Notes:\n",
      "[1] Standard Errors assume that the covariance matrix of the errors is correctly specified.\n",
      "[2] The condition number is large, 2.96e+03. This might indicate that there are\n",
      "strong multicollinearity or other numerical problems.\n"
     ]
    }
   ],
   "source": [
    "model = smf.ols(formula = formula, data = orders).fit()\n",
    "print(model.summary())"
   ]
  },
  {
   "cell_type": "markdown",
   "metadata": {},
   "source": [
    "### 🏁 Congratulation! Don't forget to commit and push your notebook"
   ]
  }
 ],
 "metadata": {
  "kernelspec": {
   "display_name": "Python 3 (ipykernel)",
   "language": "python",
   "name": "python3"
  },
  "language_info": {
   "codemirror_mode": {
    "name": "ipython",
    "version": 3
   },
   "file_extension": ".py",
   "mimetype": "text/x-python",
   "name": "python",
   "nbconvert_exporter": "python",
   "pygments_lexer": "ipython3",
   "version": "3.8.6"
  },
  "toc": {
   "base_numbering": 1,
   "nav_menu": {},
   "number_sections": false,
   "sideBar": true,
   "skip_h1_title": false,
   "title_cell": "Table of Contents",
   "title_sidebar": "Contents",
   "toc_cell": false,
   "toc_position": {
    "height": "calc(100% - 180px)",
    "left": "10px",
    "top": "150px",
    "width": "288px"
   },
   "toc_section_display": true,
   "toc_window_display": true
  },
  "varInspector": {
   "cols": {
    "lenName": 16,
    "lenType": 16,
    "lenVar": 40
   },
   "kernels_config": {
    "python": {
     "delete_cmd_postfix": "",
     "delete_cmd_prefix": "del ",
     "library": "var_list.py",
     "varRefreshCmd": "print(var_dic_list())"
    },
    "r": {
     "delete_cmd_postfix": ") ",
     "delete_cmd_prefix": "rm(",
     "library": "var_list.r",
     "varRefreshCmd": "cat(var_dic_list()) "
    }
   },
   "types_to_exclude": [
    "module",
    "function",
    "builtin_function_or_method",
    "instance",
    "_Feature"
   ],
   "window_display": false
  }
 },
 "nbformat": 4,
 "nbformat_minor": 4
}
